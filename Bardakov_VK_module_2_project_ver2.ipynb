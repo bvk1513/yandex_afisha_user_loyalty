{
 "cells": [
  {
   "cell_type": "markdown",
   "id": "e06910dd",
   "metadata": {
    "id": "e06910dd"
   },
   "source": [
    "# Анализ лояльности пользователей Яндекс Афиши\n",
    "\n",
    "- Автор: Бардаков Василий Кириллович\n",
    "- Дата: 19.10.2025"
   ]
  },
  {
   "cell_type": "markdown",
   "id": "4149134c",
   "metadata": {
    "id": "4149134c"
   },
   "source": [
    "### Цель проекта\n",
    "\n",
    "Сервис **Яндекс Афиша** предоставляет информацию о культурных и развлекательных мероприятиях, а также возможность приобретать на них билеты онлайн. Команда маркетинга стремится не просто привлекать новых пользователей, а удерживать их и превращать в постоянных клиентов.  \n",
    "\n",
    "**Целью проекта является проведение исследовательского анализа данных для определения профиля пользователей, которые с большей вероятностью возвращаются на платформу и вновь совершают покупки, выделив признаки и факторы, влияющие на это.** Для команды маркетинга это позволит: точнее внедрять персонализированные условия и рекламу для таких клиентов, оптимизировать бюджет на маркетинг и повысить общий уровень удержания."
   ]
  },
  {
   "cell_type": "markdown",
   "id": "728986ea",
   "metadata": {
    "id": "728986ea"
   },
   "source": [
    "### Описание данных\n",
    "\n",
    "До начала проведения анализа был подготовлен SQL-запрос с выгрузкой и созданием необходимых столбцов из базы данных PostgreSQL `data-analyst-afisha`. Перечень столбцов, на основе которых, будет проводиться исследовательский анализ:\n",
    "- `user_id` - уникальный идентификатор пользователя, совершившего заказ;\n",
    "- `device_type_canonical` - тип устройства, с которого был оформлен заказ:\n",
    "    - **mobile** - мобильные устройства, \n",
    "    - **desktop** - ПК;\n",
    "- `order_id` - уникальный идентификатор заказа;\n",
    "- `order_dt` - дата создания заказа;\n",
    "- `order_ts` - дата и время создания заказа;\n",
    "- `currency_code` - валюта оплаты;\n",
    "- `revenue` - выручка от заказа;\n",
    "- `tickets_count` - количество купленных билетов;\n",
    "- `days_since_prev` - количество дней между этой покупкой и предыдущей;\n",
    "- `event_id` - уникальный идентификатор мероприятия;\n",
    "- `event_name` - название мероприятия (в закодированном виде);\n",
    "- `service_name` - название билетного оператора;\n",
    "- `event_type_main` - основной тип мероприятия;\n",
    "- `region_name` - название региона, в котором прошло мероприятие;\n",
    "- `city_name` - название города, в котором прошло мероприятие.\n",
    "\n",
    "Названия регионов, городов, площадок и билетных операторов в целях безопасности предоставлены в анонимизированном виде."
   ]
  },
  {
   "cell_type": "markdown",
   "id": "4fecaf95",
   "metadata": {
    "id": "4fecaf95"
   },
   "source": [
    "### Содержимое проекта\n",
    "\n",
    "1. Загрузка и знакомство с данными\n",
    "2. Предобработка данных\n",
    "3. Создание профиля пользователя\n",
    "4. Исследовательский анализ данных\n",
    "5. Общие выводы и рекомендации\n",
    "\n",
    "---"
   ]
  },
  {
   "cell_type": "markdown",
   "id": "ac48ba44",
   "metadata": {},
   "source": [
    "## 1. Загрузка и знакомство с данными"
   ]
  },
  {
   "cell_type": "markdown",
   "id": "1d652ac5",
   "metadata": {},
   "source": [
    "### 1.1 Загрузка данных\n",
    "\n",
    "Импортируем **SQLAlchemy**, необходимую для подключения к базе данных и остальные библиотеки, с которыми будем работать в проекте:"
   ]
  },
  {
   "cell_type": "code",
   "execution_count": 1,
   "id": "57d3a070",
   "metadata": {},
   "outputs": [],
   "source": [
    "# Импортируем библиотеку SQLAlchemy для подключения к базе данных и выполнения SQL-запроса\n",
    "from sqlalchemy import create_engine\n",
    "\n",
    "# Импортируем библиотеку pandas для обработки и анализа данных\n",
    "import pandas as pd\n",
    "\n",
    "# Импортируем библиотеки для визуализации данных\n",
    "import matplotlib.pyplot as plt\n",
    "import seaborn as sns\n",
    "\n",
    "# Импортируем библиотеку для расчёта коэффициента корреляции phi_k\n",
    "from phik import phik_matrix"
   ]
  },
  {
   "cell_type": "markdown",
   "id": "055944f9",
   "metadata": {},
   "source": [
    "Для подключения к базе данных необходимы следующие данные:\n",
    "- имя пользователя базы данных и пароль;\n",
    "- адрес сервера базы данных, включая порт;\n",
    "- название базы данных.\n",
    "\n",
    "Все чувствительные данные (параметры подключения к базе) вынесены в `.env`-файл."
   ]
  },
  {
   "cell_type": "markdown",
   "id": "6826288e",
   "metadata": {},
   "source": [
    "Формирование строки для подключения к базе данных:"
   ]
  },
  {
   "cell_type": "code",
   "execution_count": 2,
   "id": "43c5090d",
   "metadata": {},
   "outputs": [],
   "source": [
    "# Импортируем модуль 'os' для работы с операционной системой и переменными окружения\n",
    "import os\n",
    "# Импортируем модуль 're' (regular expression) для работы с регулярными выражениями, используемыми для парсинга (.env файла)\n",
    "import re\n",
    "\n",
    "# Определяем функцию для ручной загрузки переменных; по умолчанию ищет файл \".env\" в текущей директории\n",
    "def load_env_manually(filepath=\".env\"):\n",
    "    \"\"\"\n",
    "    Загружает переменные окружения из .env файла вручную.\n",
    "    Поддерживает формат КЛЮЧ=ЗНАЧЕНИЕ (без учета кавычек и комментариев).\n",
    "    \"\"\"\n",
    "    # Проверяем, существует ли файл по указанному пути.\n",
    "    if not os.path.exists(filepath):\n",
    "        # Если файл не найден, выводим предупреждение.\n",
    "        print(f\"Внимание: Файл {filepath} не найден. Переменные окружения не загружены.\")\n",
    "        # Завершаем выполнение функции, если файл не найден.\n",
    "        return\n",
    "\n",
    "    # Регулярное выражение для поиска строк вида КЛЮЧ=ЗНАЧЕНИЕ\n",
    "    # Игнорируем строки, начинающиеся с # (комментарии)\n",
    "    # Ищем: (КЛЮЧ)= (ЗНАЧЕНИЕ)\n",
    "    # Используем нежадный поиск для значений\n",
    "    dotenv_pattern = re.compile(r'^\\s*([A-Za-z_]+[A-Za-z0-9_]*)\\s*=\\s*(.*)\\s*$')\n",
    "\n",
    "    # Начинаем блок обработки исключений, чтобы поймать возможные ошибки (например, с кодировкой файла).\n",
    "    try:\n",
    "        # Открываем файл для чтения ('r') с кодировкой UTF-8. Использование 'with' гарантирует закрытие файла.\n",
    "        with open(filepath, 'r', encoding='utf-8') as f:\n",
    "            # Перебираем файл построчно.\n",
    "            for line in f:\n",
    "                # Удаляем возможные комментарии после значения\n",
    "                line = line.split('#', 1)[0].strip()\n",
    "                \n",
    "                # Если строка не пуста после удаления комментариев и пробелов...\n",
    "                if line:\n",
    "                    # Пытаемся сопоставить строку с регулярным выражением.\n",
    "                    match = dotenv_pattern.match(line)\n",
    "                    # Если совпадение найдено (строка соответствует формату КЛЮЧ=ЗНАЧЕНИЕ)...\n",
    "                    if match:\n",
    "                        # Извлекаем КЛЮЧ (Группа 1) и ЗНАЧЕНИЕ (Группа 2) из совпадения.\n",
    "                        key, value = match.groups()\n",
    "                        # Удаляем возможные кавычки вокруг значения\n",
    "                        value = value.strip().strip(\"'\\\"\") \n",
    "                        \n",
    "                        # Устанавливаем переменную окружения\n",
    "                        os.environ[key] = value\n",
    "    # Если возникла какая-либо ошибка в блоке 'try'...\n",
    "    except Exception as e:\n",
    "        # Выводим информацию об ошибке.\n",
    "        print(f\"Ошибка при чтении .env файла: {e}\")\n",
    "\n",
    "load_env_manually()\n",
    "\n",
    "# Формируем строку для подключения к базе данных\n",
    "connection_string = 'postgresql://{}:{}@{}:{}/{}'.format(\n",
    "    os.getenv('DB_USER'),\n",
    "    os.getenv('DB_PASSWORD'),\n",
    "    os.getenv('DB_HOST'),\n",
    "    os.getenv('DB_PORT'),\n",
    "    os.getenv('DB_NAME')\n",
    ")"
   ]
  },
  {
   "cell_type": "markdown",
   "id": "8710b5e1",
   "metadata": {},
   "source": [
    "Создание соединения:"
   ]
  },
  {
   "cell_type": "code",
   "execution_count": 3,
   "id": "88c5ac95",
   "metadata": {},
   "outputs": [],
   "source": [
    "# Передаем строку для подключения в функцию create_engine() для создания соединения\n",
    "engine = create_engine(connection_string)"
   ]
  },
  {
   "cell_type": "markdown",
   "id": "6e8505ef",
   "metadata": {},
   "source": [
    "SQL-запрос, выгружающий необходимую информацию из базы данных:"
   ]
  },
  {
   "cell_type": "code",
   "execution_count": 4,
   "id": "f10db273",
   "metadata": {},
   "outputs": [],
   "source": [
    "# Записываем SQL-запрос в переменную\n",
    "query = '''\n",
    "SELECT\n",
    "  user_id,\n",
    "  device_type_canonical,\n",
    "  order_id,\n",
    "  created_dt_msk AS order_dt,\n",
    "  created_ts_msk AS order_ts,\n",
    "  currency_code,\n",
    "  revenue,\n",
    "  tickets_count,\n",
    "  created_dt_msk :: date - LAG(created_dt_msk :: date) OVER (PARTITION BY user_id ORDER BY created_dt_msk) AS days_since_prev,\n",
    "  event_id,\n",
    "  event_name_code AS event_name,\n",
    "  event_type_main,\n",
    "  service_name,\n",
    "  region_name,\n",
    "  city_name\n",
    "FROM afisha.purchases\n",
    "INNER JOIN afisha.events USING(event_id)\n",
    "INNER JOIN afisha.city USING(city_id)\n",
    "INNER JOIN afisha.regions USING(region_id)\n",
    "WHERE device_type_canonical IN ('mobile', 'desktop') AND event_type_main NOT IN ('фильм')\n",
    "ORDER BY user_id;\n",
    "'''"
   ]
  },
  {
   "cell_type": "markdown",
   "id": "4a1f8889",
   "metadata": {},
   "source": [
    "Запишем результат выдачи SQL-запроса в датафрейм:"
   ]
  },
  {
   "cell_type": "code",
   "execution_count": 5,
   "id": "54dc46e5",
   "metadata": {},
   "outputs": [],
   "source": [
    "# Воспользуемся методом read_sql_query() для записи выдачи SQL-запроса в датафрейм\n",
    "df = pd.read_sql_query(query, con = engine)"
   ]
  },
  {
   "cell_type": "markdown",
   "id": "e09159fb",
   "metadata": {},
   "source": [
    "---\n",
    "\n",
    "### 1.2 Знакомство с данными\n",
    "\n",
    "Познакомимся с данными и изучим общую информацию о них."
   ]
  },
  {
   "cell_type": "markdown",
   "id": "e44ef734",
   "metadata": {},
   "source": [
    "Выведем первые и последние строки датафрейма **df**:"
   ]
  },
  {
   "cell_type": "code",
   "execution_count": 6,
   "id": "bcf7d6cc",
   "metadata": {},
   "outputs": [
    {
     "data": {
      "text/html": [
       "<div>\n",
       "<style scoped>\n",
       "    .dataframe tbody tr th:only-of-type {\n",
       "        vertical-align: middle;\n",
       "    }\n",
       "\n",
       "    .dataframe tbody tr th {\n",
       "        vertical-align: top;\n",
       "    }\n",
       "\n",
       "    .dataframe thead th {\n",
       "        text-align: right;\n",
       "    }\n",
       "</style>\n",
       "<table border=\"1\" class=\"dataframe\">\n",
       "  <thead>\n",
       "    <tr style=\"text-align: right;\">\n",
       "      <th></th>\n",
       "      <th>user_id</th>\n",
       "      <th>device_type_canonical</th>\n",
       "      <th>order_id</th>\n",
       "      <th>order_dt</th>\n",
       "      <th>order_ts</th>\n",
       "      <th>currency_code</th>\n",
       "      <th>revenue</th>\n",
       "      <th>tickets_count</th>\n",
       "      <th>days_since_prev</th>\n",
       "      <th>event_id</th>\n",
       "      <th>event_name</th>\n",
       "      <th>event_type_main</th>\n",
       "      <th>service_name</th>\n",
       "      <th>region_name</th>\n",
       "      <th>city_name</th>\n",
       "    </tr>\n",
       "  </thead>\n",
       "  <tbody>\n",
       "    <tr>\n",
       "      <th>0</th>\n",
       "      <td>0002849b70a3ce2</td>\n",
       "      <td>mobile</td>\n",
       "      <td>4359165</td>\n",
       "      <td>2024-08-20</td>\n",
       "      <td>2024-08-20 16:08:03</td>\n",
       "      <td>rub</td>\n",
       "      <td>1521.94</td>\n",
       "      <td>4</td>\n",
       "      <td>NaN</td>\n",
       "      <td>169230</td>\n",
       "      <td>f0f7b271-04eb-4af6-bcb8-8f05cf46d6ad</td>\n",
       "      <td>театр</td>\n",
       "      <td>Край билетов</td>\n",
       "      <td>Каменевский регион</td>\n",
       "      <td>Глиногорск</td>\n",
       "    </tr>\n",
       "    <tr>\n",
       "      <th>1</th>\n",
       "      <td>0005ca5e93f2cf4</td>\n",
       "      <td>mobile</td>\n",
       "      <td>7965605</td>\n",
       "      <td>2024-07-23</td>\n",
       "      <td>2024-07-23 18:36:24</td>\n",
       "      <td>rub</td>\n",
       "      <td>289.45</td>\n",
       "      <td>2</td>\n",
       "      <td>NaN</td>\n",
       "      <td>237325</td>\n",
       "      <td>40efeb04-81b7-4135-b41f-708ff00cc64c</td>\n",
       "      <td>выставки</td>\n",
       "      <td>Мой билет</td>\n",
       "      <td>Каменевский регион</td>\n",
       "      <td>Глиногорск</td>\n",
       "    </tr>\n",
       "    <tr>\n",
       "      <th>2</th>\n",
       "      <td>0005ca5e93f2cf4</td>\n",
       "      <td>mobile</td>\n",
       "      <td>7292370</td>\n",
       "      <td>2024-10-06</td>\n",
       "      <td>2024-10-06 13:56:02</td>\n",
       "      <td>rub</td>\n",
       "      <td>1258.57</td>\n",
       "      <td>4</td>\n",
       "      <td>75.0</td>\n",
       "      <td>578454</td>\n",
       "      <td>01f3fb7b-ed07-4f94-b1d3-9a2e1ee5a8ca</td>\n",
       "      <td>другое</td>\n",
       "      <td>За билетом!</td>\n",
       "      <td>Каменевский регион</td>\n",
       "      <td>Глиногорск</td>\n",
       "    </tr>\n",
       "    <tr>\n",
       "      <th>3</th>\n",
       "      <td>000898990054619</td>\n",
       "      <td>mobile</td>\n",
       "      <td>1139875</td>\n",
       "      <td>2024-07-13</td>\n",
       "      <td>2024-07-13 19:40:48</td>\n",
       "      <td>rub</td>\n",
       "      <td>8.49</td>\n",
       "      <td>2</td>\n",
       "      <td>NaN</td>\n",
       "      <td>387271</td>\n",
       "      <td>2f638715-8844-466c-b43f-378a627c419f</td>\n",
       "      <td>другое</td>\n",
       "      <td>Лови билет!</td>\n",
       "      <td>Североярская область</td>\n",
       "      <td>Озёрск</td>\n",
       "    </tr>\n",
       "    <tr>\n",
       "      <th>4</th>\n",
       "      <td>000898990054619</td>\n",
       "      <td>mobile</td>\n",
       "      <td>972400</td>\n",
       "      <td>2024-10-04</td>\n",
       "      <td>2024-10-04 22:33:15</td>\n",
       "      <td>rub</td>\n",
       "      <td>1390.41</td>\n",
       "      <td>3</td>\n",
       "      <td>83.0</td>\n",
       "      <td>509453</td>\n",
       "      <td>10d805d3-9809-4d8a-834e-225b7d03f95d</td>\n",
       "      <td>стендап</td>\n",
       "      <td>Билеты без проблем</td>\n",
       "      <td>Озернинский край</td>\n",
       "      <td>Родниковецк</td>\n",
       "    </tr>\n",
       "    <tr>\n",
       "      <th>...</th>\n",
       "      <td>...</td>\n",
       "      <td>...</td>\n",
       "      <td>...</td>\n",
       "      <td>...</td>\n",
       "      <td>...</td>\n",
       "      <td>...</td>\n",
       "      <td>...</td>\n",
       "      <td>...</td>\n",
       "      <td>...</td>\n",
       "      <td>...</td>\n",
       "      <td>...</td>\n",
       "      <td>...</td>\n",
       "      <td>...</td>\n",
       "      <td>...</td>\n",
       "      <td>...</td>\n",
       "    </tr>\n",
       "    <tr>\n",
       "      <th>290606</th>\n",
       "      <td>fffcd3dde79eb2c</td>\n",
       "      <td>mobile</td>\n",
       "      <td>368562</td>\n",
       "      <td>2024-10-27</td>\n",
       "      <td>2024-10-27 17:53:53</td>\n",
       "      <td>rub</td>\n",
       "      <td>1448.36</td>\n",
       "      <td>6</td>\n",
       "      <td>0.0</td>\n",
       "      <td>33189</td>\n",
       "      <td>e3dcdb45-9eaa-4ce4-9b85-1562e548172e</td>\n",
       "      <td>другое</td>\n",
       "      <td>Весь в билетах</td>\n",
       "      <td>Каменевский регион</td>\n",
       "      <td>Глиногорск</td>\n",
       "    </tr>\n",
       "    <tr>\n",
       "      <th>290607</th>\n",
       "      <td>fffcd3dde79eb2c</td>\n",
       "      <td>mobile</td>\n",
       "      <td>368591</td>\n",
       "      <td>2024-10-27</td>\n",
       "      <td>2024-10-27 17:54:52</td>\n",
       "      <td>rub</td>\n",
       "      <td>965.57</td>\n",
       "      <td>4</td>\n",
       "      <td>0.0</td>\n",
       "      <td>33189</td>\n",
       "      <td>e3dcdb45-9eaa-4ce4-9b85-1562e548172e</td>\n",
       "      <td>другое</td>\n",
       "      <td>Весь в билетах</td>\n",
       "      <td>Каменевский регион</td>\n",
       "      <td>Глиногорск</td>\n",
       "    </tr>\n",
       "    <tr>\n",
       "      <th>290608</th>\n",
       "      <td>fffcd3dde79eb2c</td>\n",
       "      <td>desktop</td>\n",
       "      <td>8473772</td>\n",
       "      <td>2024-10-30</td>\n",
       "      <td>2024-10-30 13:37:43</td>\n",
       "      <td>rub</td>\n",
       "      <td>178.95</td>\n",
       "      <td>2</td>\n",
       "      <td>3.0</td>\n",
       "      <td>205231</td>\n",
       "      <td>74883818-57a6-494a-b162-bb0260877cbf</td>\n",
       "      <td>театр</td>\n",
       "      <td>Прачечная</td>\n",
       "      <td>Каменевский регион</td>\n",
       "      <td>Глиногорск</td>\n",
       "    </tr>\n",
       "    <tr>\n",
       "      <th>290609</th>\n",
       "      <td>fffeeb3c120cf0b</td>\n",
       "      <td>desktop</td>\n",
       "      <td>5526067</td>\n",
       "      <td>2024-09-24</td>\n",
       "      <td>2024-09-24 10:07:42</td>\n",
       "      <td>rub</td>\n",
       "      <td>661.53</td>\n",
       "      <td>2</td>\n",
       "      <td>NaN</td>\n",
       "      <td>454526</td>\n",
       "      <td>6f4c6a50-0106-407b-8f54-332c740b01da</td>\n",
       "      <td>стендап</td>\n",
       "      <td>Билеты без проблем</td>\n",
       "      <td>Широковская область</td>\n",
       "      <td>Ягодиновка</td>\n",
       "    </tr>\n",
       "    <tr>\n",
       "      <th>290610</th>\n",
       "      <td>ffff00725179321</td>\n",
       "      <td>mobile</td>\n",
       "      <td>813654</td>\n",
       "      <td>2024-09-25</td>\n",
       "      <td>2024-09-25 15:12:40</td>\n",
       "      <td>rub</td>\n",
       "      <td>802.25</td>\n",
       "      <td>2</td>\n",
       "      <td>NaN</td>\n",
       "      <td>284965</td>\n",
       "      <td>58574140-962c-49a3-af70-b773a05661a3</td>\n",
       "      <td>концерты</td>\n",
       "      <td>Мой билет</td>\n",
       "      <td>Малиновоярский округ</td>\n",
       "      <td>Верховино</td>\n",
       "    </tr>\n",
       "  </tbody>\n",
       "</table>\n",
       "<p>290611 rows × 15 columns</p>\n",
       "</div>"
      ],
      "text/plain": [
       "                user_id device_type_canonical  order_id   order_dt  \\\n",
       "0       0002849b70a3ce2                mobile   4359165 2024-08-20   \n",
       "1       0005ca5e93f2cf4                mobile   7965605 2024-07-23   \n",
       "2       0005ca5e93f2cf4                mobile   7292370 2024-10-06   \n",
       "3       000898990054619                mobile   1139875 2024-07-13   \n",
       "4       000898990054619                mobile    972400 2024-10-04   \n",
       "...                 ...                   ...       ...        ...   \n",
       "290606  fffcd3dde79eb2c                mobile    368562 2024-10-27   \n",
       "290607  fffcd3dde79eb2c                mobile    368591 2024-10-27   \n",
       "290608  fffcd3dde79eb2c               desktop   8473772 2024-10-30   \n",
       "290609  fffeeb3c120cf0b               desktop   5526067 2024-09-24   \n",
       "290610  ffff00725179321                mobile    813654 2024-09-25   \n",
       "\n",
       "                  order_ts currency_code  revenue  tickets_count  \\\n",
       "0      2024-08-20 16:08:03           rub  1521.94              4   \n",
       "1      2024-07-23 18:36:24           rub   289.45              2   \n",
       "2      2024-10-06 13:56:02           rub  1258.57              4   \n",
       "3      2024-07-13 19:40:48           rub     8.49              2   \n",
       "4      2024-10-04 22:33:15           rub  1390.41              3   \n",
       "...                    ...           ...      ...            ...   \n",
       "290606 2024-10-27 17:53:53           rub  1448.36              6   \n",
       "290607 2024-10-27 17:54:52           rub   965.57              4   \n",
       "290608 2024-10-30 13:37:43           rub   178.95              2   \n",
       "290609 2024-09-24 10:07:42           rub   661.53              2   \n",
       "290610 2024-09-25 15:12:40           rub   802.25              2   \n",
       "\n",
       "        days_since_prev  event_id                            event_name  \\\n",
       "0                   NaN    169230  f0f7b271-04eb-4af6-bcb8-8f05cf46d6ad   \n",
       "1                   NaN    237325  40efeb04-81b7-4135-b41f-708ff00cc64c   \n",
       "2                  75.0    578454  01f3fb7b-ed07-4f94-b1d3-9a2e1ee5a8ca   \n",
       "3                   NaN    387271  2f638715-8844-466c-b43f-378a627c419f   \n",
       "4                  83.0    509453  10d805d3-9809-4d8a-834e-225b7d03f95d   \n",
       "...                 ...       ...                                   ...   \n",
       "290606              0.0     33189  e3dcdb45-9eaa-4ce4-9b85-1562e548172e   \n",
       "290607              0.0     33189  e3dcdb45-9eaa-4ce4-9b85-1562e548172e   \n",
       "290608              3.0    205231  74883818-57a6-494a-b162-bb0260877cbf   \n",
       "290609              NaN    454526  6f4c6a50-0106-407b-8f54-332c740b01da   \n",
       "290610              NaN    284965  58574140-962c-49a3-af70-b773a05661a3   \n",
       "\n",
       "       event_type_main        service_name           region_name    city_name  \n",
       "0                театр        Край билетов    Каменевский регион   Глиногорск  \n",
       "1             выставки           Мой билет    Каменевский регион   Глиногорск  \n",
       "2               другое         За билетом!    Каменевский регион   Глиногорск  \n",
       "3               другое         Лови билет!  Североярская область       Озёрск  \n",
       "4              стендап  Билеты без проблем      Озернинский край  Родниковецк  \n",
       "...                ...                 ...                   ...          ...  \n",
       "290606          другое      Весь в билетах    Каменевский регион   Глиногорск  \n",
       "290607          другое      Весь в билетах    Каменевский регион   Глиногорск  \n",
       "290608           театр           Прачечная    Каменевский регион   Глиногорск  \n",
       "290609         стендап  Билеты без проблем   Широковская область   Ягодиновка  \n",
       "290610        концерты           Мой билет  Малиновоярский округ    Верховино  \n",
       "\n",
       "[290611 rows x 15 columns]"
      ]
     },
     "execution_count": 6,
     "metadata": {},
     "output_type": "execute_result"
    }
   ],
   "source": [
    "# Выводим первые и последние строки датафрейма df\n",
    "df"
   ]
  },
  {
   "cell_type": "code",
   "execution_count": 7,
   "id": "9522ea74",
   "metadata": {},
   "outputs": [],
   "source": [
    "# Сохраняем изначальное количество строк датафрейма df в переменной\n",
    "num_of_rows = df.shape[0]"
   ]
  },
  {
   "cell_type": "code",
   "execution_count": 8,
   "id": "afb973eb",
   "metadata": {},
   "outputs": [
    {
     "name": "stdout",
     "output_type": "stream",
     "text": [
      "<class 'pandas.core.frame.DataFrame'>\n",
      "RangeIndex: 290611 entries, 0 to 290610\n",
      "Data columns (total 15 columns):\n",
      " #   Column                 Non-Null Count   Dtype         \n",
      "---  ------                 --------------   -----         \n",
      " 0   user_id                290611 non-null  object        \n",
      " 1   device_type_canonical  290611 non-null  object        \n",
      " 2   order_id               290611 non-null  int64         \n",
      " 3   order_dt               290611 non-null  datetime64[ns]\n",
      " 4   order_ts               290611 non-null  datetime64[ns]\n",
      " 5   currency_code          290611 non-null  object        \n",
      " 6   revenue                290611 non-null  float64       \n",
      " 7   tickets_count          290611 non-null  int64         \n",
      " 8   days_since_prev        268678 non-null  float64       \n",
      " 9   event_id               290611 non-null  int64         \n",
      " 10  event_name             290611 non-null  object        \n",
      " 11  event_type_main        290611 non-null  object        \n",
      " 12  service_name           290611 non-null  object        \n",
      " 13  region_name            290611 non-null  object        \n",
      " 14  city_name              290611 non-null  object        \n",
      "dtypes: datetime64[ns](2), float64(2), int64(3), object(8)\n",
      "memory usage: 33.3+ MB\n"
     ]
    }
   ],
   "source": [
    "# Выводим информацию о датафрейме df\n",
    "df.info()"
   ]
  },
  {
   "cell_type": "markdown",
   "id": "27470542",
   "metadata": {},
   "source": [
    "*Датафрейм **df** содержит 15 столбцов и 290611 строк, в которых представлена информация о заказах билетов и мероприятиях на платформе Яндекс Афиша.*\n",
    "\n",
    "- *Названия столбцов приведены к единому виду и корректно отражают их содержимое.*\n",
    "- *Значения в столбцах на первый взгляд соответствуют своему описанию.*\n",
    "- *Типы данных и их корректность:*\n",
    "    - *8 столбцов строковых значений (**object**): `user_id`, `device_type_canonical`, `currency_code`, `event_name`, `event_type_main`, `service_name`, `region_name` и `city_name`. Для перечисленных столбцов тип данных корректен, т.к. все они содержат текстовую информацию об id пользователей, типе устройств, виде валют оплаты, названиях мероприятий и их типе, названиях билетных операторов, регионов и городов.*\n",
    "    - *2 столбца числовых значений с плавающей точкой (**float64**): `revenue` и `days_since_prev`. Для столбца `revenue` тип данных корректен, т.к. он содержит информацию о выручке от заказа и может содержать значения с дробной частью. Столбец `days_since_prev` содержит информацию о количестве дней от предыдущей покупки пользователя, поэтому его нужно будет привести к целочисленному типу данных.*\n",
    "    - *3 столбца целых числовых значений (**int64**): `order_id`, `event_id` и `tickets_count`. Для перечисленных столбцов тип данных корректен, т.к. все они содержат целочисленные значения с id заказов и мероприятий, количеством купленных билетов. Разрядность типа для всех трёх столбцов можно оптимизировать - понизить.*\n",
    "    - *2 столбца значений дат и врмени (**datetime64[ns]**): `order_dt` и `order_ts`. Для перечисленных столбцов тип данных корректен, `order_dt` содержит информацию о дате создания заказа, а `order_ts` - о дате и времени создания заказа. Тип можно оптимизировать: `order_dt` привести к **datetime64[D]** - тип, который хранит данные с точностью до дня; `order_ts` привести к **datetime64[s]** - тип, который хранит данные с точностью до секунд.*\n",
    "- *Пропуски содержатся лишь в одном столбце - `days_since_prev`. Данный столбец содержит информацию о количестве дней от предыдущей покупки пользователя, и был рассчитан ранее на основе столбца `order_dt` во время стадии написания SQL-запроса, выгружающего необходимую информацию из базы данных. Пропуски в нём означают, что у пользователя есть только одна покупка на текущую дату. Однако, следует проверить и другие столбцы, т.к. в них могут встречаться значения-индикаторы (\"заглушки\"), которые будут говорить об отсутствии данных. Подробное изучение и обработка пропусков будет представлена далее.*"
   ]
  },
  {
   "cell_type": "markdown",
   "id": "21af6ed7",
   "metadata": {},
   "source": [
    "---\n",
    "\n",
    "## 2. Предобработка данных"
   ]
  },
  {
   "cell_type": "markdown",
   "id": "3eced034",
   "metadata": {},
   "source": [
    "### 2.1 Приведение выручки к единой валюте\n",
    "\n",
    "Данные о выручке сервиса представлены в российских рублях и казахстанских тенге. Приведем выручку к единой валюте - российскому рублю.\n",
    "Для этого используем датасет с информацией о курсе казахстанского тенге по отношению к российскому рублю за 2024 год `final_tickets_tenge_df.csv`.\n",
    "\n",
    "Выгрузим данные из датасета и познакомимся с ними:"
   ]
  },
  {
   "cell_type": "code",
   "execution_count": 9,
   "id": "326df0ca",
   "metadata": {},
   "outputs": [],
   "source": [
    "# Выгружаем данные из датасета в датафрейм\n",
    "tenge_exchange_rate = pd.read_csv('https://code.s3.yandex.net/datasets/final_tickets_tenge_df.csv')"
   ]
  },
  {
   "cell_type": "code",
   "execution_count": 10,
   "id": "3d58899d",
   "metadata": {},
   "outputs": [
    {
     "data": {
      "text/html": [
       "<div>\n",
       "<style scoped>\n",
       "    .dataframe tbody tr th:only-of-type {\n",
       "        vertical-align: middle;\n",
       "    }\n",
       "\n",
       "    .dataframe tbody tr th {\n",
       "        vertical-align: top;\n",
       "    }\n",
       "\n",
       "    .dataframe thead th {\n",
       "        text-align: right;\n",
       "    }\n",
       "</style>\n",
       "<table border=\"1\" class=\"dataframe\">\n",
       "  <thead>\n",
       "    <tr style=\"text-align: right;\">\n",
       "      <th></th>\n",
       "      <th>data</th>\n",
       "      <th>nominal</th>\n",
       "      <th>curs</th>\n",
       "      <th>cdx</th>\n",
       "    </tr>\n",
       "  </thead>\n",
       "  <tbody>\n",
       "    <tr>\n",
       "      <th>0</th>\n",
       "      <td>2024-01-10</td>\n",
       "      <td>100</td>\n",
       "      <td>19.9391</td>\n",
       "      <td>kzt</td>\n",
       "    </tr>\n",
       "    <tr>\n",
       "      <th>1</th>\n",
       "      <td>2024-01-11</td>\n",
       "      <td>100</td>\n",
       "      <td>19.7255</td>\n",
       "      <td>kzt</td>\n",
       "    </tr>\n",
       "    <tr>\n",
       "      <th>2</th>\n",
       "      <td>2024-01-12</td>\n",
       "      <td>100</td>\n",
       "      <td>19.5839</td>\n",
       "      <td>kzt</td>\n",
       "    </tr>\n",
       "    <tr>\n",
       "      <th>3</th>\n",
       "      <td>2024-01-13</td>\n",
       "      <td>100</td>\n",
       "      <td>19.4501</td>\n",
       "      <td>kzt</td>\n",
       "    </tr>\n",
       "    <tr>\n",
       "      <th>4</th>\n",
       "      <td>2024-01-14</td>\n",
       "      <td>100</td>\n",
       "      <td>19.4501</td>\n",
       "      <td>kzt</td>\n",
       "    </tr>\n",
       "    <tr>\n",
       "      <th>...</th>\n",
       "      <td>...</td>\n",
       "      <td>...</td>\n",
       "      <td>...</td>\n",
       "      <td>...</td>\n",
       "    </tr>\n",
       "    <tr>\n",
       "      <th>352</th>\n",
       "      <td>2024-12-27</td>\n",
       "      <td>100</td>\n",
       "      <td>19.2705</td>\n",
       "      <td>kzt</td>\n",
       "    </tr>\n",
       "    <tr>\n",
       "      <th>353</th>\n",
       "      <td>2024-12-28</td>\n",
       "      <td>100</td>\n",
       "      <td>19.5105</td>\n",
       "      <td>kzt</td>\n",
       "    </tr>\n",
       "    <tr>\n",
       "      <th>354</th>\n",
       "      <td>2024-12-29</td>\n",
       "      <td>100</td>\n",
       "      <td>19.4860</td>\n",
       "      <td>kzt</td>\n",
       "    </tr>\n",
       "    <tr>\n",
       "      <th>355</th>\n",
       "      <td>2024-12-30</td>\n",
       "      <td>100</td>\n",
       "      <td>19.4860</td>\n",
       "      <td>kzt</td>\n",
       "    </tr>\n",
       "    <tr>\n",
       "      <th>356</th>\n",
       "      <td>2024-12-31</td>\n",
       "      <td>100</td>\n",
       "      <td>19.4860</td>\n",
       "      <td>kzt</td>\n",
       "    </tr>\n",
       "  </tbody>\n",
       "</table>\n",
       "<p>357 rows × 4 columns</p>\n",
       "</div>"
      ],
      "text/plain": [
       "           data  nominal     curs  cdx\n",
       "0    2024-01-10      100  19.9391  kzt\n",
       "1    2024-01-11      100  19.7255  kzt\n",
       "2    2024-01-12      100  19.5839  kzt\n",
       "3    2024-01-13      100  19.4501  kzt\n",
       "4    2024-01-14      100  19.4501  kzt\n",
       "..          ...      ...      ...  ...\n",
       "352  2024-12-27      100  19.2705  kzt\n",
       "353  2024-12-28      100  19.5105  kzt\n",
       "354  2024-12-29      100  19.4860  kzt\n",
       "355  2024-12-30      100  19.4860  kzt\n",
       "356  2024-12-31      100  19.4860  kzt\n",
       "\n",
       "[357 rows x 4 columns]"
      ]
     },
     "execution_count": 10,
     "metadata": {},
     "output_type": "execute_result"
    }
   ],
   "source": [
    "# Выводим первые и последние строки датафрейма tenge_exchange_rate\n",
    "tenge_exchange_rate"
   ]
  },
  {
   "cell_type": "code",
   "execution_count": 11,
   "id": "8b29208c",
   "metadata": {},
   "outputs": [
    {
     "name": "stdout",
     "output_type": "stream",
     "text": [
      "<class 'pandas.core.frame.DataFrame'>\n",
      "RangeIndex: 357 entries, 0 to 356\n",
      "Data columns (total 4 columns):\n",
      " #   Column   Non-Null Count  Dtype  \n",
      "---  ------   --------------  -----  \n",
      " 0   data     357 non-null    object \n",
      " 1   nominal  357 non-null    int64  \n",
      " 2   curs     357 non-null    float64\n",
      " 3   cdx      357 non-null    object \n",
      "dtypes: float64(1), int64(1), object(2)\n",
      "memory usage: 11.3+ KB\n"
     ]
    }
   ],
   "source": [
    "# Выводим информацию о датафрейме tenge_exchange_rate\n",
    "tenge_exchange_rate.info()"
   ]
  },
  {
   "cell_type": "markdown",
   "id": "d341659b",
   "metadata": {},
   "source": [
    "<small><font color='#777778'>В ячейке ниже я полностью проверил содержимое столбцов датафрейма **tenge_exchange_rate**. Все данные представлены корректно. Чтобы не загромождать тетрадь, я её закомментировал. Для подробного рассмотрения можно её раскомментировать.</font><small>"
   ]
  },
  {
   "cell_type": "code",
   "execution_count": 12,
   "id": "8334be70",
   "metadata": {},
   "outputs": [],
   "source": [
    "# Выведем уникальные значения столбцов\n",
    "# print(\"Уникальные значения столбца 'nominal':\\n\", tenge_exchange_rate['nominal'].sort_values().unique())\n",
    "# print(\"Уникальные значения столбца 'cdx':\\n\", tenge_exchange_rate['cdx'].sort_values().unique())\n",
    "# print(\"Уникальные значения столбца 'curs':\\n\", tenge_exchange_rate['curs'].sort_values().unique())\n",
    "# print(\"Уникальные значения столбца 'data':\\n\", tenge_exchange_rate['data'].sort_values().unique())"
   ]
  },
  {
   "cell_type": "markdown",
   "id": "b9cc29fb",
   "metadata": {},
   "source": [
    "В датафрейме **tenge_exchange_rate** столбец `curs` содержит данные с курсом: значения в рублях каждой строки представлены для 100 тенге для каждого дня 2024 года (с 10 января по 31 декабря).\n",
    "\n",
    "Для того, чтобы привести строки выручки в тенге в столбце `revenue` датафрейма **df** к российскому рублю выполним следующие действия:\n",
    "- Преобразуем столбец с датой `data` датафрейма **tenge_exchange_rate** к **datetime64** и переименуем его;\n",
    "- Объединим **df** с **tenge_exchange_rate** по этому столбцу и временно оставим в объединенном датафрейме только необходимый новый столбец `curs`;\n",
    "- Рассчитаем выручку в рублях для нужных строк и сохраним её в новый столбец `revenue_rub`.\n",
    "- Удалим столбец с курсом `curs`;\n",
    "- Расположим столбец `revenue_rub` рядом с `revenue` для удобства.\n",
    "\n",
    "Выполним выше указанные действия:"
   ]
  },
  {
   "cell_type": "code",
   "execution_count": 13,
   "id": "b7f1586c",
   "metadata": {},
   "outputs": [],
   "source": [
    "# Преобразовываем столбец 'data' к нужному типу данных\n",
    "tenge_exchange_rate['data'] = pd.to_datetime(tenge_exchange_rate['data'])\n",
    "\n",
    "# Переименовываем столбец 'data'\n",
    "tenge_exchange_rate = tenge_exchange_rate.rename(columns = {'data' : 'order_dt'})\n",
    "\n",
    "# Объединяем датафреймы\n",
    "df = df.merge(tenge_exchange_rate[['order_dt', 'curs']], on = 'order_dt', how = 'left')\n",
    "\n",
    "# Создаем столбец 'revenue_rub'\n",
    "df['revenue_rub'] = df['revenue']\n",
    "\n",
    "# Рассчитываем выручку в рублях\n",
    "df.loc[df['currency_code'] == 'kzt', 'revenue_rub'] = (df.loc[df['currency_code'] == 'kzt', 'revenue_rub'] * df.loc[df['currency_code'] == 'kzt', 'curs'] / 100).round(2)\n",
    "\n",
    "# Удаляем столбец 'curs'\n",
    "df = df.drop(columns = ['curs'])\n",
    "\n",
    "# Перемещаем столбец 'revenue_rub' в место правее от столбца 'revenue'\n",
    "cols = list(df.columns) # создаем список названий столбцов\n",
    "revenue_index = cols.index('revenue') # присваиваем переменной индекс столбца 'revenue'\n",
    "cols.insert(revenue_index + 1, cols.pop(cols.index('revenue_rub'))) # вставляем 'revenue_rub' в указанное место\n",
    "df = df[cols] # \"переиндексируем\" столбцы датафрейма"
   ]
  },
  {
   "cell_type": "markdown",
   "id": "f5a01f6d",
   "metadata": {},
   "source": [
    "---\n",
    "\n",
    "### 2.2 Предобработка данных\n",
    "\n",
    "- 2.2.1 Изучим пропущенные значения в данных и проведем их обработку:"
   ]
  },
  {
   "cell_type": "markdown",
   "id": "3bc61e04",
   "metadata": {},
   "source": [
    "Посчитаем абсолютное и относительное количество пропусков в каждом столбце датафрейма:"
   ]
  },
  {
   "cell_type": "code",
   "execution_count": 14,
   "id": "b759834e",
   "metadata": {},
   "outputs": [
    {
     "name": "stdout",
     "output_type": "stream",
     "text": [
      "                       num_of_nones  perc_of_nones\n",
      "user_id                           0          0.000\n",
      "device_type_canonical             0          0.000\n",
      "order_id                          0          0.000\n",
      "order_dt                          0          0.000\n",
      "order_ts                          0          0.000\n",
      "currency_code                     0          0.000\n",
      "revenue                           0          0.000\n",
      "revenue_rub                       0          0.000\n",
      "tickets_count                     0          0.000\n",
      "days_since_prev               21933          0.075\n",
      "event_id                          0          0.000\n",
      "event_name                        0          0.000\n",
      "event_type_main                   0          0.000\n",
      "service_name                      0          0.000\n",
      "region_name                       0          0.000\n",
      "city_name                         0          0.000\n"
     ]
    }
   ],
   "source": [
    "# Считаем количество пропусков в каждом столбце\n",
    "num_of_nones = df.isna().sum()\n",
    "\n",
    "# Считаем долю порпусков в каждом столбце\n",
    "perc_of_nones = round(df.isna().mean(), 3)\n",
    "\n",
    "nones = pd.DataFrame({'num_of_nones' : num_of_nones, 'perc_of_nones' : perc_of_nones})\n",
    "print(nones)"
   ]
  },
  {
   "cell_type": "markdown",
   "id": "d6fed62b",
   "metadata": {},
   "source": [
    "Как было отмечено в **Пункте 1.2**, пропуски содержатся лишь в одном столбце - `days_since_prev`. Данный столбец содержит информацию о количестве дней от предыдущей покупки пользователя. Пропуски в нём означают, что у пользователя есть только одна покупка на текущую дату. \n",
    "\n",
    "В качестве решения по обработке этих пропусков, самым корректным будет заполнение **значением-индикатором '-1'**, т.к. среди значений столбца есть '0' (предыдущая покупка была совершена в тот же день):"
   ]
  },
  {
   "cell_type": "code",
   "execution_count": 15,
   "id": "229bbe79",
   "metadata": {},
   "outputs": [],
   "source": [
    "# Заменяем пропуски в столбце 'days_since_prev' на значение -1\n",
    "df['days_since_prev'] = df['days_since_prev'].fillna(-1)"
   ]
  },
  {
   "cell_type": "markdown",
   "id": "1c404039",
   "metadata": {},
   "source": [
    "---\n",
    "\n",
    "- 2.2.2 Изучим корректность типов данных и при необходимости проведем их преобразование:\n",
    "\n",
    "Как было отмечено в **Пункте 1.2**, в датафрейме присутствуют столбцы с некорректным типом данных, либо же столбцы, разрядность типов данных которых можно оптимизировать:\n",
    "- Столбец `days_since_prev` **float64** → **int16**;\n",
    "- Столбцы `order_id` и `event_id` **int64** → **int32**;\n",
    "- Столбец `tickets_count` **int64** → **int8**;\n",
    "- Столбец `order_dt` **datetime64[ns]** → **datetime64[D]**;\n",
    "- Столбец `order_ts` **datetime64[ns]** → **datetime64[s]**."
   ]
  },
  {
   "cell_type": "code",
   "execution_count": 16,
   "id": "2fdc44a8",
   "metadata": {},
   "outputs": [],
   "source": [
    "# Приводим столбец 'days_since_prev' к целочисленному типу данных\n",
    "df['days_since_prev'] = pd.to_numeric(df['days_since_prev'], downcast = 'integer')\n",
    "\n",
    "# Оптимизируем разрядность столбцов 'order_id', 'event_id' и 'tickets_count'\n",
    "df['order_id'] = pd.to_numeric(df['order_id'], downcast = 'integer')\n",
    "df['event_id'] = pd.to_numeric(df['event_id'], downcast = 'integer')\n",
    "df['tickets_count'] = pd.to_numeric(df['tickets_count'], downcast = 'integer')\n",
    "\n",
    "# Оптимизируем размерность столбцов 'order_dt' и 'order_ts' до дней и секунд соответственно\n",
    "df['order_dt'] = df['order_dt'].values.astype('datetime64[D]')\n",
    "df['order_ts'] = df['order_ts'].values.astype('datetime64[s]')"
   ]
  },
  {
   "cell_type": "markdown",
   "id": "3e67e7d7",
   "metadata": {},
   "source": [
    "Выведем информацию о датафрейме после преобразований типов данных:"
   ]
  },
  {
   "cell_type": "code",
   "execution_count": 17,
   "id": "e9c93429",
   "metadata": {},
   "outputs": [
    {
     "name": "stdout",
     "output_type": "stream",
     "text": [
      "<class 'pandas.core.frame.DataFrame'>\n",
      "RangeIndex: 290611 entries, 0 to 290610\n",
      "Data columns (total 16 columns):\n",
      " #   Column                 Non-Null Count   Dtype        \n",
      "---  ------                 --------------   -----        \n",
      " 0   user_id                290611 non-null  object       \n",
      " 1   device_type_canonical  290611 non-null  object       \n",
      " 2   order_id               290611 non-null  int32        \n",
      " 3   order_dt               290611 non-null  datetime64[s]\n",
      " 4   order_ts               290611 non-null  datetime64[s]\n",
      " 5   currency_code          290611 non-null  object       \n",
      " 6   revenue                290611 non-null  float64      \n",
      " 7   revenue_rub            290611 non-null  float64      \n",
      " 8   tickets_count          290611 non-null  int8         \n",
      " 9   days_since_prev        290611 non-null  int16        \n",
      " 10  event_id               290611 non-null  int32        \n",
      " 11  event_name             290611 non-null  object       \n",
      " 12  event_type_main        290611 non-null  object       \n",
      " 13  service_name           290611 non-null  object       \n",
      " 14  region_name            290611 non-null  object       \n",
      " 15  city_name              290611 non-null  object       \n",
      "dtypes: datetime64[s](2), float64(2), int16(1), int32(2), int8(1), object(8)\n",
      "memory usage: 29.7+ MB\n"
     ]
    }
   ],
   "source": [
    "# Выводим информацию о датафрейме df после преобразований типов данных\n",
    "df.info()"
   ]
  },
  {
   "cell_type": "markdown",
   "id": "c2c717fe",
   "metadata": {},
   "source": [
    "Видим, что в столбце `order_dt` тип данных отображается как **datetime64[s]** вместо **datetime64[D]**. Но всё отработало правильно - значения обрезались до дней. Тип **datetime64[s]** в info() просто визуальный артефакт (внутренняя форма хранения). С данными в этом столбце всё в порядке, и теперь они действительно имеют точность до дня."
   ]
  },
  {
   "cell_type": "markdown",
   "id": "2e9ddf70",
   "metadata": {},
   "source": [
    "---\n",
    "\n",
    "- 2.2.3 Проверим, встречаются ли в столбцах с категориальными данными значения-индикаторы, которые можно рассматривать как пропуски (или отсутствие информации):\n",
    "\n",
    "<small><font color='#777778'>В ячейке ниже я закомментировал выводы уникальных значений для некатегориальных столбцов, чтобы не загромождать тетрадь. Среди них нет значений, которые можно было бы интерпретировать как отсутствие информации. Также среди значений нет неявных дубликатов (как и в принципе дубликатов во всём датафрейме). Этот аспект проверялся и до текущего момента на стадии знакомства и проверки качества данных до их выгрузки из базы данных с помощью SQL (этот факт еще раз будет отмечен в конце предобработки). Для подробного рассмотрения строки в ячейке можно раскомментировать.</font><small>"
   ]
  },
  {
   "cell_type": "code",
   "execution_count": 18,
   "id": "1697e69c",
   "metadata": {},
   "outputs": [
    {
     "name": "stdout",
     "output_type": "stream",
     "text": [
      "Уникальные значения столбца 'device_type_canonical':\n",
      " ['desktop' 'mobile']\n",
      "\n",
      "Уникальные значения столбца 'currency_code':\n",
      " ['kzt' 'rub']\n",
      "\n",
      "Уникальные значения столбца 'event_type_main':\n",
      " ['выставки' 'другое' 'концерты' 'спорт' 'стендап' 'театр' 'ёлки']\n"
     ]
    }
   ],
   "source": [
    "# Выводим уникальные значения столбцов 'device_type_canonical', 'currency_code' и 'event_type_main'\n",
    "print(\"Уникальные значения столбца 'device_type_canonical':\\n\", df['device_type_canonical'].sort_values().unique())\n",
    "print(\"\\nУникальные значения столбца 'currency_code':\\n\", df['currency_code'].sort_values().unique())\n",
    "print(\"\\nУникальные значения столбца 'event_type_main':\\n\", df['event_type_main'].sort_values().unique())\n",
    "\n",
    "# Выводим уникальные значения столбцов 'service_name', 'region_name' и 'city_name'\n",
    "# print(\"\\nУникальные значения столбца 'service_name':\\n\", df['service_name'].sort_values().unique())\n",
    "# print(\"\\nУникальные значения столбца 'region_name':\\n\", df['region_name'].sort_values().unique())\n",
    "# print(\"\\nУникальные значения столбца 'city_name':\\n\", df['city_name'].sort_values().unique())"
   ]
  },
  {
   "cell_type": "markdown",
   "id": "f2bc01a5",
   "metadata": {},
   "source": [
    "Во всех трёх столбцах отсутствуют значения-индикаторы. Среди значений столбца `event_type_main` с типами мероприятий есть категория 'другое'. Это просто обозначает, что ни к одному из других 6 типов мероприятий данное событие не относится. Категория 'другое' используется как универсальная, к ней могут относиться, например, фестивали, лекции и семинары, квесты, экскурсии и т.д."
   ]
  },
  {
   "cell_type": "markdown",
   "id": "88b4777a",
   "metadata": {},
   "source": [
    "---\n",
    "\n",
    "- 2.2.4 Проверим распределение численных данных и наличие в них ошибок и выбросов:"
   ]
  },
  {
   "cell_type": "markdown",
   "id": "87fad10c",
   "metadata": {},
   "source": [
    "Начнём со столбца `tickets_count`. Выведем его статистические показатели:"
   ]
  },
  {
   "cell_type": "code",
   "execution_count": 19,
   "id": "1185b96a",
   "metadata": {},
   "outputs": [
    {
     "data": {
      "text/plain": [
       "count    290611.000000\n",
       "mean          2.754311\n",
       "std           1.170620\n",
       "min           1.000000\n",
       "25%           2.000000\n",
       "50%           3.000000\n",
       "75%           4.000000\n",
       "max          57.000000\n",
       "Name: tickets_count, dtype: float64"
      ]
     },
     "execution_count": 19,
     "metadata": {},
     "output_type": "execute_result"
    }
   ],
   "source": [
    "# Выводим статистические показатели столбца 'tickets_count'\n",
    "df['tickets_count'].describe()"
   ]
  },
  {
   "cell_type": "markdown",
   "id": "216fd942",
   "metadata": {},
   "source": [
    "- Среднее количество купленных билетов пользователем за один заказ ~ 3. \n",
    "- Стандартное отклонение ~ 1, что говорит о небольшом разбросе значений.\n",
    "- Минимальное значение - 1, что логично, ведь в данных содержится информация только о совершивших заказ пользователях.\n",
    "- Максимальное значение - 57, что очевидно много для большинства случаев, тем не менее, большие значения в данном столбце не стоит относить к выбросам и отфильтровывать их, т.к. они просто относятся к редким случаям единоразового приобретения большого числа билетов. И не влияют на основные статистические показатели.\n",
    "- Типичное количество купленных билетов - от 2 до 4, медиана - 3. Это говорит, что пользователи чаще покупают сразу несколько билетов, чем 1.\n",
    "\n",
    "Теперь построим гистограмму распределения значений. Для того, чтобы были видны редкие значения (с большим количеством купленных билетов), то есть, чтобы хвост распределения не терялся внизу гистограммы, используем логарифмическую шкалу по оси Y. Так мы увидим и частые (основной пик), и редкие (\"хвост\") значения на одном графике без искажений масштаба:"
   ]
  },
  {
   "cell_type": "code",
   "execution_count": 20,
   "id": "53ef5e2f",
   "metadata": {},
   "outputs": [
    {
     "data": {
      "image/png": "[encoded data removed]",
      "text/plain": [
       "<Figure size 1200x600 with 1 Axes>"
      ]
     },
     "metadata": {},
     "output_type": "display_data"
    }
   ],
   "source": [
    "# Создаём контейнер графика matplotlib и задаём его размер\n",
    "plt.figure(figsize = (12, 6))\n",
    "\n",
    "# Строим гистограмму через plot(kind = 'hist')\n",
    "df['tickets_count'].plot(\n",
    "    kind = 'hist',\n",
    "    bins = range(1, df['tickets_count'].max() + 2),  # корзины по каждому целому числу\n",
    "    color = 'skyblue', # Цвет столбцов - небесно-голубой\n",
    "    edgecolor = 'black', # Цвет обводки - чёрный\n",
    "    logy = True # Логарифмическая шкала по оси Y\n",
    ")\n",
    "\n",
    "# Подписываем заголовок и оси\n",
    "plt.title('Распределение значений количества купленных билетов')\n",
    "plt.xlabel('Количество купленных билетов')\n",
    "plt.ylabel('Частота (log масштаб)')\n",
    "# Добавляем сетку графика\n",
    "plt.grid(alpha = 0.3)\n",
    "\n",
    "# Выводим график\n",
    "plt.show()"
   ]
  },
  {
   "cell_type": "markdown",
   "id": "13df4927",
   "metadata": {},
   "source": [
    "- Распределение правоассиметрично и имеет правый хвост из редких значений.\n",
    "- Основная масса данных сосредоточена в диапазоне от 1 до 6 купленных пользователем за один заказ билетов. Частоты таких значений распределены между тысячами, десятками тысяч и доходят почти до сотни тысяч у количества 2 и 3. Начиная от значения 7-ми купленных билетов и более, частоты резко уменьшаются до десятков и практически плавно опускаются до единиц. \n",
    "- Имеется несколько пиков распределения, которые находятся в диапазоне от 1 до 4 купленных билетов.\n",
    "- Графики подтверждают все статистические показатели и выводы по ним.\n",
    "\n",
    "Т.к уникальных значений у данного столбца в принципе не много, можно и просто посмотреть на них в таком виде: "
   ]
  },
  {
   "cell_type": "code",
   "execution_count": 21,
   "id": "5f11002c",
   "metadata": {},
   "outputs": [
    {
     "data": {
      "text/plain": [
       "tickets_count\n",
       "3     92247\n",
       "2     83807\n",
       "4     54812\n",
       "1     41798\n",
       "5     13476\n",
       "6      4283\n",
       "7        62\n",
       "9        38\n",
       "8        21\n",
       "10       19\n",
       "11       13\n",
       "13        7\n",
       "17        6\n",
       "19        5\n",
       "12        4\n",
       "14        4\n",
       "15        2\n",
       "27        2\n",
       "30        2\n",
       "47        1\n",
       "57        1\n",
       "37        1\n",
       "Name: count, dtype: int64"
      ]
     },
     "execution_count": 21,
     "metadata": {},
     "output_type": "execute_result"
    }
   ],
   "source": [
    "# Выводим количество строк для каждого уникального значения столбца 'tickets_count'\n",
    "df['tickets_count'].value_counts()"
   ]
  },
  {
   "cell_type": "markdown",
   "id": "0ade8038",
   "metadata": {},
   "source": [
    "В значениях столбца `tickets_count` ошибки отсутствуют. Фильтрация в данном случае не нужна. \n",
    "\n",
    "Перейдем к столбцу `revenue_rub`:"
   ]
  },
  {
   "cell_type": "markdown",
   "id": "f3539246",
   "metadata": {},
   "source": [
    "Выведем уникальные значения столбца `revenue_rub`:"
   ]
  },
  {
   "cell_type": "code",
   "execution_count": 22,
   "id": "5c80aa91",
   "metadata": {},
   "outputs": [
    {
     "name": "stdout",
     "output_type": "stream",
     "text": [
      "[-9.076000e+01 -1.794000e+01 -1.077000e+01 ...  4.870472e+04  6.493963e+04\n",
      "  8.117454e+04]\n"
     ]
    }
   ],
   "source": [
    "# Выводим уникальные значения столбца 'revenue_rub'\n",
    "print(df['revenue_rub'].sort_values().unique())"
   ]
  },
  {
   "cell_type": "markdown",
   "id": "d6976aa3",
   "metadata": {},
   "source": [
    "В столбце встречаются отрицательные значения, что для значений выручки от заказа странно. Взглянем на количество таких строк в датафрейме и заодно на количество строк со значениями выручки, равным нулю:"
   ]
  },
  {
   "cell_type": "code",
   "execution_count": 23,
   "id": "a55f46f7",
   "metadata": {},
   "outputs": [
    {
     "name": "stdout",
     "output_type": "stream",
     "text": [
      "Количество строк с отрицательными значениями в столбце 'revenue_rub': 381\n",
      "Количество строк с нулевыми значениями в столбце 'revenue_rub': 5526\n"
     ]
    }
   ],
   "source": [
    "# Выводим количество строк с отрицательными значениями в столбце 'revenue_rub'\n",
    "print(\"Количество строк с отрицательными значениями в столбце 'revenue_rub':\", df[df['revenue_rub'] < 0].shape[0])\n",
    "\n",
    "# Выводим количество строк с нулевыми значениями в столбце 'revenue_rub'\n",
    "print(\"Количество строк с нулевыми значениями в столбце 'revenue_rub':\", df[df['revenue_rub'] == 0].shape[0])"
   ]
  },
  {
   "cell_type": "markdown",
   "id": "b76a92d5",
   "metadata": {},
   "source": [
    "- В датафрейме присутствует небольшое (относительно общего количества 290611) количество строк (381) с отрицательными значениями в столбце с выручкой от заказа `revenue_rub`. Возможными причинами наличия таких значений могут быть:\n",
    "    - Отображение в таком виде факта того, что данный заказ был возвращен, т.е. по какой-либо причине средства за билеты были отправлены обратно пользователю (наиболее вероятная причина);\n",
    "    - Технические ошибки (сбои) при оформлении заказа.\n",
    "    - Ошибки при ручном заполнении данных в таблицу в исходной базе данных (мало вероятно, т.к. такие данные должны заполняться в автоматическом режиме).\n",
    "\n",
    "    Какими бы ни были причины, следует удалить такие строки из датафрейма для исключения их влияния на дальнейший анализ.\n",
    "- Также есть строки с нулевыми значениями выручки (5526, что ~ 2% от всех строк). Это нормальное явление, причинами наличия таких значений могут быть:\n",
    "    - Бесплатные билеты. Некоторые билеты могут распространяться бесплатно в рамках промо-акций, розыгрышей, в качестве бонуса для партнеров или сотрудников, либо для журналистов. Такие транзакции будут иметь нулевую выручку, но при этом могут учитываться как полноценный заказ, чтобы отследить количество выданных билетов.\n",
    "    - Заказы с использованием 100%-ой скидки. Клиенты могли оплатить билеты с помощью бонусов или промокодов, покрывших всю стоимость заказа. В таких случаях выручка от самого заказа будет нулевой, поскольку оплата не была произведена реальными деньгами.\n",
    "    - Несостоявшиеся заказы или ошибки. Заказ мог быть создан, но по какой-то причине не был оплачен, а затем был отменён. Это может произойти из-за сбоев в работе платежной системы, отмены покупки пользователем в последний момент или других технических проблем.\n",
    "\n",
    "    В этом случае, следует оставить такие строки в датафрейме, т.к. причинами их присутствия с большой вероятностью не являются ошибки в данных и строки несут конкретную информацию - выручка равна нулю, что имеет место быть, в отличие от сложной интерпретации отрицательных значений.\n",
    "\n",
    "Исключим строки с отрицательной выручкой из датафрейма:"
   ]
  },
  {
   "cell_type": "code",
   "execution_count": 24,
   "id": "9839c233",
   "metadata": {},
   "outputs": [],
   "source": [
    "# Исключаем строки со значениями в столбце 'revenue_rub' < 0 из датафрейма\n",
    "df = df[df['revenue_rub'] >= 0]\n",
    "\n",
    "# Сохраняем количество строк датафрейма df после исключения строк с отрицательной выручкой в переменной\n",
    "num_of_rows2 = df.shape[0]"
   ]
  },
  {
   "cell_type": "markdown",
   "id": "2437d6e0",
   "metadata": {},
   "source": [
    "Выведем статистические показатели столбца `revenue_rub`:"
   ]
  },
  {
   "cell_type": "code",
   "execution_count": 25,
   "id": "e8c05099",
   "metadata": {},
   "outputs": [
    {
     "name": "stdout",
     "output_type": "stream",
     "text": [
      "count    290230.000000\n",
      "mean        556.304590\n",
      "std         875.838946\n",
      "min           0.000000\n",
      "25%         114.610000\n",
      "50%         352.080000\n",
      "75%         802.250000\n",
      "max       81174.540000\n",
      "Name: revenue_rub, dtype: float64\n",
      "99-й перцентиль для столбца 'revenue_rub' составляет: 2628.42 руб.\n"
     ]
    }
   ],
   "source": [
    "# Выводим статистические показатели столбца 'revenue_rub'\n",
    "print(df['revenue_rub'].describe())\n",
    "\n",
    "# Дополнительно выводим 99-ый перцентиль для столбца 'revenue_rub'\n",
    "print(\"99-й перцентиль для столбца 'revenue_rub' составляет:\", df['revenue_rub'].quantile(0.99), 'руб.')"
   ]
  },
  {
   "cell_type": "markdown",
   "id": "fc81fe99",
   "metadata": {},
   "source": [
    "- Среднее значение выручки от заказа ~ 556.3 руб.\n",
    "- Стандартное отклонение ~ 875.84 руб., что говорит о большом разбросе значений.\n",
    "- Минимальное значение - 0 руб. (причины наличия таких значений рассмотрены выше).\n",
    "- Максимальное значение - 81174.54 руб., что очевидно аномально для большинства значений.\n",
    "- Типичные значения выручки - от 114.61 руб. до 802.25 руб., медиана - 352.08 руб.\n",
    "- Среднее значение ~ 556.3 руб. смещено вправо из-за выбросов. Поэтому медиана более точно отражает типичное значение выручки.\n",
    "- 99% всех значений не превышают 2628.42 руб.\n",
    "- Уже на данном этапе становится ясно, что в данных присутствуют аномально высокие значения, которые влияют на среднее, для дальнейшего анализа их можно считать за выбросы. Но пока продолжим рассматривать ситуацию: "
   ]
  },
  {
   "cell_type": "code",
   "execution_count": 26,
   "id": "69a603d4",
   "metadata": {},
   "outputs": [
    {
     "data": {
      "text/plain": [
       "count    284704.000000\n",
       "mean        567.102257\n",
       "std         880.828882\n",
       "min           0.020000\n",
       "25%         124.730000\n",
       "50%         364.280000\n",
       "75%         811.610000\n",
       "max       81174.540000\n",
       "Name: revenue_rub, dtype: float64"
      ]
     },
     "execution_count": 26,
     "metadata": {},
     "output_type": "execute_result"
    }
   ],
   "source": [
    "# Выводим статистические показатели столбца 'revenue_rub' без нулевых значений\n",
    "df[df['revenue_rub'] > 0]['revenue_rub'].describe()"
   ]
  },
  {
   "cell_type": "markdown",
   "id": "6864d157",
   "metadata": {},
   "source": [
    "При исключении нулевых значений статистические показатели практически не меняются."
   ]
  },
  {
   "cell_type": "markdown",
   "id": "321c6dfc",
   "metadata": {},
   "source": [
    "Теперь построим гистограмму распределения значений и диаграммы размаха (\"ящики с усами\") для столбца `revenue_rub`. Для наглядности гистограмму отобразим с заказами до 3000 руб. (99% всех значений не превышает 2628.42 руб.), а \"ящиков с усами\" сделаем два - первый для всего диапазона значений, второй также как для гистограммы - до 3000 руб."
   ]
  },
  {
   "cell_type": "code",
   "execution_count": 27,
   "id": "d9ab8085",
   "metadata": {},
   "outputs": [
    {
     "data": {
      "image/png": "[encoded data removed]",
      "text/plain": [
       "<Figure size 1200x600 with 1 Axes>"
      ]
     },
     "metadata": {},
     "output_type": "display_data"
    },
    {
     "data": {
      "image/png": "[encoded data removed]",
      "text/plain": [
       "<Figure size 1500x400 with 2 Axes>"
      ]
     },
     "metadata": {},
     "output_type": "display_data"
    }
   ],
   "source": [
    "# Гистограмма \"Распределение значений выручки от заказа\":\n",
    "# Создаём контейнер графика matplotlib и задаём его размер\n",
    "plt.figure(figsize = (12, 6))\n",
    "\n",
    "# Строим гистограмму через plot(kind = 'hist')\n",
    "df['revenue_rub'].plot(\n",
    "    kind = 'hist',\n",
    "    bins = 3000,\n",
    "    color = 'skyblue', # Цвет столбцов - небесно-голубой\n",
    "    edgecolor = 'black' # Цвет обводки - чёрный\n",
    ")\n",
    "\n",
    "# Задаем ограничение для оси X\n",
    "plt.xlim(0, 3000)\n",
    "\n",
    "# Подписываем заголовок и оси\n",
    "plt.title('Распределение значений выручки от заказа')\n",
    "plt.xlabel('Выручка от заказа')\n",
    "plt.ylabel('Частота')\n",
    "# Добавляем сетку графика\n",
    "plt.grid(alpha = 0.3)\n",
    "# Выводим график\n",
    "plt.show()\n",
    "\n",
    "###\n",
    "\n",
    "# \"Ящики с усами\" для столбца 'revenue_rub':\n",
    "# Создаём фигуру с двумя осями, 2 строки (т.е. 2 графика), 1 столбец (т.е. графики будут друг над другом), ось X - не общая\n",
    "fig, axes = plt.subplots(2, 1, figsize = (15, 4), sharex = False)\n",
    "\n",
    "# Строим диаграмму размаха значений в столбце 'revenue_rub' для полного диапазона значений\n",
    "df.boxplot(column = 'revenue_rub', vert = False, ax = axes[0])\n",
    "axes[0].set_title('Полный диапазон выручки')\n",
    "\n",
    "# Строим диаграмму размаха значений в столбце 'revenue_rub' для основной массы заказов\n",
    "df.boxplot(column = 'revenue_rub', vert = False, ax = axes[1])\n",
    "axes[1].set_xlim(0, 3000)\n",
    "axes[1].set_title('Основная масса заказов (до 3000 руб.)')\n",
    "\n",
    "plt.xlabel('Выручка от заказа')\n",
    "plt.tight_layout() # автоматическая подстройка отступов\n",
    "# Выводим график\n",
    "plt.show()"
   ]
  },
  {
   "cell_type": "markdown",
   "id": "f90c7a21",
   "metadata": {},
   "source": [
    "Графики подтверждают все статистические показатели и выводы по ним, повторимся:\n",
    "- Распределение правоассиметрично и имеет огромный правый хвост из выбросов.\n",
    "- После ~ 1500 - 2000 руб. количество заказов (частота) сильно падает, но есть редкие заказы с выручкой вплоть до ~ 80000 руб.\n",
    "- Даже при ограничении оси X до 3000 руб. видно, что большая часть данных сосредоточена в пределах первых ~ 1850 руб., что хорошо видно на второй диаграмме размаха (и на гистограмме).\n",
    "- Очень много выбросов - отдельные точки далеко от основного \"ящика\" (межквартильный размах IQR), который сжат слева, а справа имеет длинный \"ус\" и затем выбросы. Всё это ещё раз показывает аномально большие значения, являющиеся редкими заказами с высокой выручкой.\n",
    "- Медиана согласуется со статистикой.\n",
    "\n",
    "Для дальнейшего анализа корректным решением будет отфильтровать датафрейм по значению 99-ого перцентиля (2628.42 руб.):"
   ]
  },
  {
   "cell_type": "code",
   "execution_count": 28,
   "id": "c7aa9263",
   "metadata": {},
   "outputs": [],
   "source": [
    "# Исключаем строки со значениями в столбце 'revenue_rub' > 2628.42 из датафрейма\n",
    "df = df[df['revenue_rub'] <= df['revenue_rub'].quantile(0.99)]\n",
    "\n",
    "# Сохраняем количество строк датафрейма df после исключения строк с выручкой более 2628.42 руб. в переменной\n",
    "num_of_rows3 = df.shape[0]"
   ]
  },
  {
   "cell_type": "markdown",
   "id": "44340626",
   "metadata": {},
   "source": [
    "Выведем статистические показатели столбца `revenue_rub` после фильтрации:"
   ]
  },
  {
   "cell_type": "code",
   "execution_count": 29,
   "id": "fc0d0f93",
   "metadata": {},
   "outputs": [
    {
     "data": {
      "text/plain": [
       "count    287405.000000\n",
       "mean        518.719259\n",
       "std         511.951843\n",
       "min           0.000000\n",
       "25%         112.600000\n",
       "50%         344.830000\n",
       "75%         788.900000\n",
       "max        2628.420000\n",
       "Name: revenue_rub, dtype: float64"
      ]
     },
     "execution_count": 29,
     "metadata": {},
     "output_type": "execute_result"
    }
   ],
   "source": [
    "# Выводим статистические показатели столбца 'revenue_rub' после фильтрации\n",
    "df['revenue_rub'].describe()"
   ]
  },
  {
   "cell_type": "markdown",
   "id": "25f67a9b",
   "metadata": {},
   "source": [
    "Теперь видно, что распределение значений выручки от заказа стало гораздо \"чище\":\n",
    "- После удаления хвоста (1% самых больших значений) распределение стало ближе к логически ожидаемому, теперь оно отражает \"поведение\" выручки основной массы заказов.\n",
    "- Типичные значения выручки почти не изменились - от 112.6 руб. до 788.9 руб., медиана 344.83 руб., это говорит о том, что удаленные данные действительно были выбросами.\n",
    "- Среднее стало ближе к медиане (~ 518.72 руб.), т.е. распределение теперь менее ассиметричное, но перекос, конечно, всё еще есть.\n",
    "- Стандартное отклонение снизилось более чем в 1.7 раз (~ 511.95 руб. против изначального ~ 875.84 руб.), что значит, что теперь данные менее вариативны и более устойчивы.\n",
    "- Главное, что распределение значений в столбце `revenue_rub` стало компактнее и более репрезентативным для типичных заказов. Такие данные можно использовать для дальнейшего анализа."
   ]
  },
  {
   "cell_type": "markdown",
   "id": "6362b5d0",
   "metadata": {},
   "source": [
    "Оценим объем отфильтрованных данных:"
   ]
  },
  {
   "cell_type": "code",
   "execution_count": 30,
   "id": "f9f8ce22",
   "metadata": {},
   "outputs": [
    {
     "name": "stdout",
     "output_type": "stream",
     "text": [
      "Изначальное количество строк датафрейма df: 290611\n",
      "Количество строк датафрейма df после исключения строк с отрицательной выручкой: 290230\n",
      "Количество строк датафрейма df после исключения выбросов, связанных с выручкой: 287405\n",
      "Количество удалённых строк: 3206\n",
      "Доля удалённых строк: 1.103%\n"
     ]
    }
   ],
   "source": [
    "# Выводим информацию об удалённых строках\n",
    "print('Изначальное количество строк датафрейма df:', num_of_rows)\n",
    "print('Количество строк датафрейма df после исключения строк с отрицательной выручкой:', num_of_rows2)\n",
    "print('Количество строк датафрейма df после исключения выбросов, связанных с выручкой:', num_of_rows3)\n",
    "print('Количество удалённых строк:', num_of_rows - num_of_rows3)\n",
    "del_ratio = (1 - (num_of_rows3 / num_of_rows)) * 100\n",
    "print(f'Доля удалённых строк: {round(del_ratio, 3)}%')"
   ]
  },
  {
   "cell_type": "markdown",
   "id": "7e80f612",
   "metadata": {},
   "source": [
    "На этом этап предобработки завершен. Взглянем на результирующий датафрейм **df** (перед этим отсортируем его по времени заказа и обновим индексы):"
   ]
  },
  {
   "cell_type": "code",
   "execution_count": 31,
   "id": "304acc9c",
   "metadata": {},
   "outputs": [
    {
     "data": {
      "text/html": [
       "<div>\n",
       "<style scoped>\n",
       "    .dataframe tbody tr th:only-of-type {\n",
       "        vertical-align: middle;\n",
       "    }\n",
       "\n",
       "    .dataframe tbody tr th {\n",
       "        vertical-align: top;\n",
       "    }\n",
       "\n",
       "    .dataframe thead th {\n",
       "        text-align: right;\n",
       "    }\n",
       "</style>\n",
       "<table border=\"1\" class=\"dataframe\">\n",
       "  <thead>\n",
       "    <tr style=\"text-align: right;\">\n",
       "      <th></th>\n",
       "      <th>user_id</th>\n",
       "      <th>device_type_canonical</th>\n",
       "      <th>order_id</th>\n",
       "      <th>order_dt</th>\n",
       "      <th>order_ts</th>\n",
       "      <th>currency_code</th>\n",
       "      <th>revenue</th>\n",
       "      <th>revenue_rub</th>\n",
       "      <th>tickets_count</th>\n",
       "      <th>days_since_prev</th>\n",
       "      <th>event_id</th>\n",
       "      <th>event_name</th>\n",
       "      <th>event_type_main</th>\n",
       "      <th>service_name</th>\n",
       "      <th>region_name</th>\n",
       "      <th>city_name</th>\n",
       "    </tr>\n",
       "  </thead>\n",
       "  <tbody>\n",
       "    <tr>\n",
       "      <th>0</th>\n",
       "      <td>fd4d47438ebb946</td>\n",
       "      <td>mobile</td>\n",
       "      <td>7565637</td>\n",
       "      <td>2024-06-01</td>\n",
       "      <td>2024-06-01 00:00:42</td>\n",
       "      <td>rub</td>\n",
       "      <td>1083.15</td>\n",
       "      <td>1083.15</td>\n",
       "      <td>4</td>\n",
       "      <td>0</td>\n",
       "      <td>131671</td>\n",
       "      <td>f4431442-3d97-452d-a6d6-eadf6bd34378</td>\n",
       "      <td>театр</td>\n",
       "      <td>Прачечная</td>\n",
       "      <td>Каменевский регион</td>\n",
       "      <td>Глиногорск</td>\n",
       "    </tr>\n",
       "    <tr>\n",
       "      <th>1</th>\n",
       "      <td>fd4d47438ebb946</td>\n",
       "      <td>mobile</td>\n",
       "      <td>7565521</td>\n",
       "      <td>2024-06-01</td>\n",
       "      <td>2024-06-01 00:01:30</td>\n",
       "      <td>rub</td>\n",
       "      <td>812.36</td>\n",
       "      <td>812.36</td>\n",
       "      <td>3</td>\n",
       "      <td>0</td>\n",
       "      <td>131671</td>\n",
       "      <td>f4431442-3d97-452d-a6d6-eadf6bd34378</td>\n",
       "      <td>театр</td>\n",
       "      <td>Прачечная</td>\n",
       "      <td>Каменевский регион</td>\n",
       "      <td>Глиногорск</td>\n",
       "    </tr>\n",
       "    <tr>\n",
       "      <th>2</th>\n",
       "      <td>57ef0a1905ac488</td>\n",
       "      <td>mobile</td>\n",
       "      <td>6670842</td>\n",
       "      <td>2024-06-01</td>\n",
       "      <td>2024-06-01 00:01:58</td>\n",
       "      <td>rub</td>\n",
       "      <td>2091.31</td>\n",
       "      <td>2091.31</td>\n",
       "      <td>4</td>\n",
       "      <td>-1</td>\n",
       "      <td>375861</td>\n",
       "      <td>ba89f19f-e73c-4d74-ab35-b9c023bb4de6</td>\n",
       "      <td>театр</td>\n",
       "      <td>Билеты в руки</td>\n",
       "      <td>Лесодальний край</td>\n",
       "      <td>Родниковец</td>\n",
       "    </tr>\n",
       "    <tr>\n",
       "      <th>3</th>\n",
       "      <td>fd4d47438ebb946</td>\n",
       "      <td>mobile</td>\n",
       "      <td>7565550</td>\n",
       "      <td>2024-06-01</td>\n",
       "      <td>2024-06-01 00:03:13</td>\n",
       "      <td>rub</td>\n",
       "      <td>812.36</td>\n",
       "      <td>812.36</td>\n",
       "      <td>3</td>\n",
       "      <td>-1</td>\n",
       "      <td>131671</td>\n",
       "      <td>f4431442-3d97-452d-a6d6-eadf6bd34378</td>\n",
       "      <td>театр</td>\n",
       "      <td>Прачечная</td>\n",
       "      <td>Каменевский регион</td>\n",
       "      <td>Глиногорск</td>\n",
       "    </tr>\n",
       "    <tr>\n",
       "      <th>4</th>\n",
       "      <td>e73089d7d016cd8</td>\n",
       "      <td>mobile</td>\n",
       "      <td>5502055</td>\n",
       "      <td>2024-06-01</td>\n",
       "      <td>2024-06-01 00:03:34</td>\n",
       "      <td>rub</td>\n",
       "      <td>181.39</td>\n",
       "      <td>181.39</td>\n",
       "      <td>2</td>\n",
       "      <td>0</td>\n",
       "      <td>211846</td>\n",
       "      <td>20165b73-7202-48df-a5e3-fd8cd1a70554</td>\n",
       "      <td>театр</td>\n",
       "      <td>Прачечная</td>\n",
       "      <td>Широковская область</td>\n",
       "      <td>Радужнополье</td>\n",
       "    </tr>\n",
       "    <tr>\n",
       "      <th>...</th>\n",
       "      <td>...</td>\n",
       "      <td>...</td>\n",
       "      <td>...</td>\n",
       "      <td>...</td>\n",
       "      <td>...</td>\n",
       "      <td>...</td>\n",
       "      <td>...</td>\n",
       "      <td>...</td>\n",
       "      <td>...</td>\n",
       "      <td>...</td>\n",
       "      <td>...</td>\n",
       "      <td>...</td>\n",
       "      <td>...</td>\n",
       "      <td>...</td>\n",
       "      <td>...</td>\n",
       "      <td>...</td>\n",
       "    </tr>\n",
       "    <tr>\n",
       "      <th>287400</th>\n",
       "      <td>7eb4fc207ecc10f</td>\n",
       "      <td>mobile</td>\n",
       "      <td>7928369</td>\n",
       "      <td>2024-10-31</td>\n",
       "      <td>2024-10-31 23:58:55</td>\n",
       "      <td>rub</td>\n",
       "      <td>1954.78</td>\n",
       "      <td>1954.78</td>\n",
       "      <td>5</td>\n",
       "      <td>0</td>\n",
       "      <td>420149</td>\n",
       "      <td>ecd3a795-c65a-48ac-904e-1d78e7c43ec6</td>\n",
       "      <td>концерты</td>\n",
       "      <td>Облачко</td>\n",
       "      <td>Каменевский регион</td>\n",
       "      <td>Глиногорск</td>\n",
       "    </tr>\n",
       "    <tr>\n",
       "      <th>287401</th>\n",
       "      <td>3127060e4f02037</td>\n",
       "      <td>mobile</td>\n",
       "      <td>1307669</td>\n",
       "      <td>2024-10-31</td>\n",
       "      <td>2024-10-31 23:58:56</td>\n",
       "      <td>rub</td>\n",
       "      <td>578.72</td>\n",
       "      <td>578.72</td>\n",
       "      <td>3</td>\n",
       "      <td>0</td>\n",
       "      <td>589958</td>\n",
       "      <td>58051316-2668-4dfb-b442-6859638ea711</td>\n",
       "      <td>концерты</td>\n",
       "      <td>Мой билет</td>\n",
       "      <td>Североярская область</td>\n",
       "      <td>Озёрск</td>\n",
       "    </tr>\n",
       "    <tr>\n",
       "      <th>287402</th>\n",
       "      <td>3127060e4f02037</td>\n",
       "      <td>mobile</td>\n",
       "      <td>1307553</td>\n",
       "      <td>2024-10-31</td>\n",
       "      <td>2024-10-31 23:59:24</td>\n",
       "      <td>rub</td>\n",
       "      <td>578.72</td>\n",
       "      <td>578.72</td>\n",
       "      <td>3</td>\n",
       "      <td>0</td>\n",
       "      <td>589958</td>\n",
       "      <td>58051316-2668-4dfb-b442-6859638ea711</td>\n",
       "      <td>концерты</td>\n",
       "      <td>Мой билет</td>\n",
       "      <td>Североярская область</td>\n",
       "      <td>Озёрск</td>\n",
       "    </tr>\n",
       "    <tr>\n",
       "      <th>287403</th>\n",
       "      <td>3127060e4f02037</td>\n",
       "      <td>mobile</td>\n",
       "      <td>1307582</td>\n",
       "      <td>2024-10-31</td>\n",
       "      <td>2024-10-31 23:59:51</td>\n",
       "      <td>rub</td>\n",
       "      <td>385.81</td>\n",
       "      <td>385.81</td>\n",
       "      <td>2</td>\n",
       "      <td>0</td>\n",
       "      <td>589958</td>\n",
       "      <td>58051316-2668-4dfb-b442-6859638ea711</td>\n",
       "      <td>концерты</td>\n",
       "      <td>Мой билет</td>\n",
       "      <td>Североярская область</td>\n",
       "      <td>Озёрск</td>\n",
       "    </tr>\n",
       "    <tr>\n",
       "      <th>287404</th>\n",
       "      <td>443fe1aafcc96ab</td>\n",
       "      <td>mobile</td>\n",
       "      <td>1696414</td>\n",
       "      <td>2024-10-31</td>\n",
       "      <td>2024-10-31 23:59:54</td>\n",
       "      <td>rub</td>\n",
       "      <td>960.64</td>\n",
       "      <td>960.64</td>\n",
       "      <td>3</td>\n",
       "      <td>2</td>\n",
       "      <td>505541</td>\n",
       "      <td>3a75769d-5611-45ff-be36-db022e90a171</td>\n",
       "      <td>другое</td>\n",
       "      <td>Билеты без проблем</td>\n",
       "      <td>Североярская область</td>\n",
       "      <td>Озёрск</td>\n",
       "    </tr>\n",
       "  </tbody>\n",
       "</table>\n",
       "<p>287405 rows × 16 columns</p>\n",
       "</div>"
      ],
      "text/plain": [
       "                user_id device_type_canonical  order_id   order_dt  \\\n",
       "0       fd4d47438ebb946                mobile   7565637 2024-06-01   \n",
       "1       fd4d47438ebb946                mobile   7565521 2024-06-01   \n",
       "2       57ef0a1905ac488                mobile   6670842 2024-06-01   \n",
       "3       fd4d47438ebb946                mobile   7565550 2024-06-01   \n",
       "4       e73089d7d016cd8                mobile   5502055 2024-06-01   \n",
       "...                 ...                   ...       ...        ...   \n",
       "287400  7eb4fc207ecc10f                mobile   7928369 2024-10-31   \n",
       "287401  3127060e4f02037                mobile   1307669 2024-10-31   \n",
       "287402  3127060e4f02037                mobile   1307553 2024-10-31   \n",
       "287403  3127060e4f02037                mobile   1307582 2024-10-31   \n",
       "287404  443fe1aafcc96ab                mobile   1696414 2024-10-31   \n",
       "\n",
       "                  order_ts currency_code  revenue  revenue_rub  tickets_count  \\\n",
       "0      2024-06-01 00:00:42           rub  1083.15      1083.15              4   \n",
       "1      2024-06-01 00:01:30           rub   812.36       812.36              3   \n",
       "2      2024-06-01 00:01:58           rub  2091.31      2091.31              4   \n",
       "3      2024-06-01 00:03:13           rub   812.36       812.36              3   \n",
       "4      2024-06-01 00:03:34           rub   181.39       181.39              2   \n",
       "...                    ...           ...      ...          ...            ...   \n",
       "287400 2024-10-31 23:58:55           rub  1954.78      1954.78              5   \n",
       "287401 2024-10-31 23:58:56           rub   578.72       578.72              3   \n",
       "287402 2024-10-31 23:59:24           rub   578.72       578.72              3   \n",
       "287403 2024-10-31 23:59:51           rub   385.81       385.81              2   \n",
       "287404 2024-10-31 23:59:54           rub   960.64       960.64              3   \n",
       "\n",
       "        days_since_prev  event_id                            event_name  \\\n",
       "0                     0    131671  f4431442-3d97-452d-a6d6-eadf6bd34378   \n",
       "1                     0    131671  f4431442-3d97-452d-a6d6-eadf6bd34378   \n",
       "2                    -1    375861  ba89f19f-e73c-4d74-ab35-b9c023bb4de6   \n",
       "3                    -1    131671  f4431442-3d97-452d-a6d6-eadf6bd34378   \n",
       "4                     0    211846  20165b73-7202-48df-a5e3-fd8cd1a70554   \n",
       "...                 ...       ...                                   ...   \n",
       "287400                0    420149  ecd3a795-c65a-48ac-904e-1d78e7c43ec6   \n",
       "287401                0    589958  58051316-2668-4dfb-b442-6859638ea711   \n",
       "287402                0    589958  58051316-2668-4dfb-b442-6859638ea711   \n",
       "287403                0    589958  58051316-2668-4dfb-b442-6859638ea711   \n",
       "287404                2    505541  3a75769d-5611-45ff-be36-db022e90a171   \n",
       "\n",
       "       event_type_main        service_name           region_name     city_name  \n",
       "0                театр           Прачечная    Каменевский регион    Глиногорск  \n",
       "1                театр           Прачечная    Каменевский регион    Глиногорск  \n",
       "2                театр       Билеты в руки      Лесодальний край    Родниковец  \n",
       "3                театр           Прачечная    Каменевский регион    Глиногорск  \n",
       "4                театр           Прачечная   Широковская область  Радужнополье  \n",
       "...                ...                 ...                   ...           ...  \n",
       "287400        концерты             Облачко    Каменевский регион    Глиногорск  \n",
       "287401        концерты           Мой билет  Североярская область        Озёрск  \n",
       "287402        концерты           Мой билет  Североярская область        Озёрск  \n",
       "287403        концерты           Мой билет  Североярская область        Озёрск  \n",
       "287404          другое  Билеты без проблем  Североярская область        Озёрск  \n",
       "\n",
       "[287405 rows x 16 columns]"
      ]
     },
     "execution_count": 31,
     "metadata": {},
     "output_type": "execute_result"
    }
   ],
   "source": [
    "# Сортируем датафрейм по времени заказа\n",
    "df = df.sort_values(by = 'order_ts')\n",
    "\n",
    "# Сбрасываем старые индексы и создаём новые\n",
    "df = df.reset_index(drop = True)\n",
    "\n",
    "# Выводим первые и последние строки датафрейма df после предобработки\n",
    "df"
   ]
  },
  {
   "cell_type": "code",
   "execution_count": 32,
   "id": "9ea086e2",
   "metadata": {},
   "outputs": [
    {
     "name": "stdout",
     "output_type": "stream",
     "text": [
      "<class 'pandas.core.frame.DataFrame'>\n",
      "RangeIndex: 287405 entries, 0 to 287404\n",
      "Data columns (total 16 columns):\n",
      " #   Column                 Non-Null Count   Dtype        \n",
      "---  ------                 --------------   -----        \n",
      " 0   user_id                287405 non-null  object       \n",
      " 1   device_type_canonical  287405 non-null  object       \n",
      " 2   order_id               287405 non-null  int32        \n",
      " 3   order_dt               287405 non-null  datetime64[s]\n",
      " 4   order_ts               287405 non-null  datetime64[s]\n",
      " 5   currency_code          287405 non-null  object       \n",
      " 6   revenue                287405 non-null  float64      \n",
      " 7   revenue_rub            287405 non-null  float64      \n",
      " 8   tickets_count          287405 non-null  int8         \n",
      " 9   days_since_prev        287405 non-null  int16        \n",
      " 10  event_id               287405 non-null  int32        \n",
      " 11  event_name             287405 non-null  object       \n",
      " 12  event_type_main        287405 non-null  object       \n",
      " 13  service_name           287405 non-null  object       \n",
      " 14  region_name            287405 non-null  object       \n",
      " 15  city_name              287405 non-null  object       \n",
      "dtypes: datetime64[s](2), float64(2), int16(1), int32(2), int8(1), object(8)\n",
      "memory usage: 29.3+ MB\n"
     ]
    }
   ],
   "source": [
    "# Выводим информацию о датафрейме df после предобработки\n",
    "df.info()"
   ]
  },
  {
   "cell_type": "markdown",
   "id": "41f9ad9c",
   "metadata": {},
   "source": [
    "---\n",
    "\n",
    "- 2.2.5 <font color='#777778'>Проверка данных на явные и неявные дубликаты:</font>"
   ]
  },
  {
   "cell_type": "markdown",
   "id": "5b37d094",
   "metadata": {},
   "source": [
    "<font color='#777778'>Проверка данных на наличие явных и неявных дубликатов была проведена заранее - на стадии знакомства с данными и проверки их качества. Все действия связанные с этим пунктом были проведены перед подготовкой SQL-запроса с выгрузкой и созданием необходимых столбцов из базы данных PostgreSQL `data-analyst-afisha`. Дубликаты в данных отсутствуют, проведение повторной проверки излишне.</font>"
   ]
  },
  {
   "cell_type": "markdown",
   "id": "a16b22d4",
   "metadata": {},
   "source": [
    "---\n",
    "\n",
    "### 2.3 Выводы после предобработки данных"
   ]
  },
  {
   "cell_type": "markdown",
   "id": "560554d5",
   "metadata": {},
   "source": [
    "*В результате предобработки данных были выполнены следующие действия:*\n",
    "- *Исходные данные о выручке сервиса представлены в российских рублях и казахстанских тенге - столбец `revenue`. Был создан новый столбец `revenue_rub`, в котором выручка представлена в единой валюте - российском рубле (**Пункт 2.1**).*\n",
    "- *Изучены и обработаны пропуски в данных, а также данные проверены на наличие значений-индикаторов, которые можно было бы интерпретировать как пропуски (или отсутствие информации):*\n",
    "    - *В столбце `days_since_prev` пропуски заменены на значение-индикатор '-1'. Такие значения отражают факт того, что пользователем совершена только одна покупка на текущую дату (**Пункт 2.2.1**).*\n",
    "    - *Кроме созданного нами индикатора '-1' в столбце `days_since_prev`, в данных отсутствуют другие значения-индикаторы (**Пункт 2.2.3**).*\n",
    "- *Проведены преобразования типов данных для столбцов, изначально имеющих некорректный тип данных, а также были оптимизированы разрядности типов данных, где это было уместно (**Пункт 2.2.2**).*\n",
    "- *Проверены распределения данных и наличие в них ошибок и выбросов в ключевых столбцах с численными значениями - `tickets_count` и `revenue_rub`:*\n",
    "    - *В данных столбца `tickets_count` ошибки отсутствуют. Фильтрация не проводилась.*\n",
    "    - *В данных столбца `revenue_rub` были исключены строки с отрицательной выручкой, а также данные были отфильтрованы с целью исключения выбросов (**Пункт 2.2.4**).*\n",
    "- *По результатам предобработки доля отфильтрованных строк датафрейма **df** составляет ~ 1.1% от изначального количества. Данные готовы к дальнейшему анализу.*"
   ]
  },
  {
   "cell_type": "markdown",
   "id": "86111de1",
   "metadata": {},
   "source": [
    "---\n",
    "\n",
    "## 3. Создание профиля пользователя\n",
    "\n",
    "Построим агрегированные признаки, описывающие поведение и профиль каждого пользователя."
   ]
  },
  {
   "cell_type": "markdown",
   "id": "8acd34c6",
   "metadata": {},
   "source": [
    "### 3.1 Построение профиля пользователя\n",
    "\n",
    "- Для каждого пользователя найдём:\n",
    "    - Дату первого и последнего заказа;\n",
    "    - Устройство, с которого был сделан первый заказ;\n",
    "    - Регион, в котором был сделан первый заказ;\n",
    "    - Билетного партнёра, к которому обращались при первом заказе;\n",
    "    - Жанр первого посещённого мероприятия;\n",
    "    - Общее количество заказов;\n",
    "    - Средняя выручка с одного заказа в рублях;\n",
    "    - Среднее количество билетов в заказе;\n",
    "    - Среднее время между заказами.\n",
    "- Добавим два бинарных признака:\n",
    "    - `is_two` - совершил ли пользователь 2 и более заказа;\n",
    "    - `is_five` - совершил ли пользователь 5 и более заказов."
   ]
  },
  {
   "cell_type": "markdown",
   "id": "c63217ee",
   "metadata": {},
   "source": [
    "Сгруппируем данные по `user_id` и вычислим агрегированные показатели:"
   ]
  },
  {
   "cell_type": "code",
   "execution_count": 33,
   "id": "25baa867",
   "metadata": {},
   "outputs": [],
   "source": [
    "# Создаём датафрейм с нужными агрегированными характеристиками\n",
    "user_profile = (df.groupby('user_id').agg(\n",
    "    first_order_dt = ('order_ts', 'min'), # Дата первого заказа\n",
    "    last_order_dt = ('order_ts', 'max'), # Дата последнего заказа\n",
    "    total_orders = ('order_id', 'count'), # Общее количество заказов\n",
    "    avg_revenue = ('revenue_rub', 'mean'), # Средняя выручка с одного заказа в рублях\n",
    "    avg_tickets_count = ('tickets_count', 'mean'), # Среднее количество билетов в заказе\n",
    "    # Ниже: x - это Series со значениями 'days_since_prev' (для одного пользователя внутри группировки)\n",
    "          # x[x != -1] - это фильтр, который оставляет только те значения, которые не равны -1\n",
    "          # x[x != -1].mean() - если после фильтрации есть любые другие значения (>= 0), возвращается среднее (условие if (x != -1).any())\n",
    "          # else -1 - иначе (было только одно значение '-1') возвращается '-1' \n",
    "    avg_days_since_prev = ('days_since_prev', lambda x: x[x != -1].mean() if (x != -1).any() else -1)\n",
    ")).reset_index()"
   ]
  },
  {
   "cell_type": "markdown",
   "id": "6a062814",
   "metadata": {},
   "source": [
    "Найдём устройство, регион, билетного партнёра и жанр мероприятия для первого заказа каждого пользователя. Для этого применим метод first() (данные в датафрейме **df** уже отсортированы по `order_ts`). После чего зададим столбцам новые названия и объединим в один датафрейм с агрегированными характеристиками:"
   ]
  },
  {
   "cell_type": "code",
   "execution_count": 34,
   "id": "41213e7a",
   "metadata": {},
   "outputs": [],
   "source": [
    "# Создаём датафрейм с нужными столбцами для первого заказа\n",
    "first_order = df.groupby('user_id').first().reset_index()[['user_id', 'device_type_canonical', 'region_name', 'service_name', 'event_type_main']]\n",
    "\n",
    "# Переименовываем столбцы датафрейма 'first_order'\n",
    "first_order.columns = ['user_id', 'f_o_device', 'f_o_region', 'f_o_service', 'f_o_event_type']\n",
    "\n",
    "# Объединим датафреймы 'user_profile' и 'first_order'\n",
    "user_profile = user_profile.merge(first_order, on = 'user_id')"
   ]
  },
  {
   "cell_type": "markdown",
   "id": "e5106fb3",
   "metadata": {},
   "source": [
    "Создадим бинарные признаки, расположим столбцы в нужном порядке, у столбцов `first_order_dt` и `last_order_dt` оставим только дату и округлим значения для столбцов со средними:"
   ]
  },
  {
   "cell_type": "code",
   "execution_count": 35,
   "id": "0a14450a",
   "metadata": {},
   "outputs": [],
   "source": [
    "# Создаём новые столбцы c бинарными признаками по количеству заказов\n",
    "user_profile['is_two'] = user_profile['total_orders'] >= 2\n",
    "user_profile['is_five'] = user_profile['total_orders'] >= 5\n",
    "\n",
    "# Переставляем столбцы\n",
    "user_profile = user_profile[['user_id', 'first_order_dt', 'last_order_dt', 'f_o_device', 'f_o_region', 'f_o_service', 'f_o_event_type', 'total_orders', 'avg_revenue', 'avg_tickets_count',\\\n",
    "    'avg_days_since_prev', 'is_two', 'is_five']]\n",
    "\n",
    "# Оставляем только дату у столбцов 'first_order_dt' и 'last_order_dt'\n",
    "user_profile['first_order_dt'] = pd.to_datetime(user_profile['first_order_dt']).dt.floor('D')\n",
    "user_profile['last_order_dt'] = pd.to_datetime(user_profile['last_order_dt']).dt.floor('D')\n",
    "\n",
    "# Окргулим значения столбцов со средними значениями\n",
    "user_profile[['avg_revenue', 'avg_tickets_count', 'avg_days_since_prev']] = user_profile[['avg_revenue', 'avg_tickets_count', 'avg_days_since_prev']].round(2)\n",
    "\n",
    "# Сохраняем изначальное количество строк датафрейма user_profile в переменной\n",
    "num_of_rows_u_p = user_profile.shape[0]"
   ]
  },
  {
   "cell_type": "markdown",
   "id": "751a0ed8",
   "metadata": {},
   "source": [
    "Выведем первые и последние строки датафрейма **user_profile** и информацию о нём:"
   ]
  },
  {
   "cell_type": "code",
   "execution_count": 36,
   "id": "e5c96641",
   "metadata": {},
   "outputs": [
    {
     "data": {
      "text/html": [
       "<div>\n",
       "<style scoped>\n",
       "    .dataframe tbody tr th:only-of-type {\n",
       "        vertical-align: middle;\n",
       "    }\n",
       "\n",
       "    .dataframe tbody tr th {\n",
       "        vertical-align: top;\n",
       "    }\n",
       "\n",
       "    .dataframe thead th {\n",
       "        text-align: right;\n",
       "    }\n",
       "</style>\n",
       "<table border=\"1\" class=\"dataframe\">\n",
       "  <thead>\n",
       "    <tr style=\"text-align: right;\">\n",
       "      <th></th>\n",
       "      <th>user_id</th>\n",
       "      <th>first_order_dt</th>\n",
       "      <th>last_order_dt</th>\n",
       "      <th>f_o_device</th>\n",
       "      <th>f_o_region</th>\n",
       "      <th>f_o_service</th>\n",
       "      <th>f_o_event_type</th>\n",
       "      <th>total_orders</th>\n",
       "      <th>avg_revenue</th>\n",
       "      <th>avg_tickets_count</th>\n",
       "      <th>avg_days_since_prev</th>\n",
       "      <th>is_two</th>\n",
       "      <th>is_five</th>\n",
       "    </tr>\n",
       "  </thead>\n",
       "  <tbody>\n",
       "    <tr>\n",
       "      <th>0</th>\n",
       "      <td>0002849b70a3ce2</td>\n",
       "      <td>2024-08-20</td>\n",
       "      <td>2024-08-20</td>\n",
       "      <td>mobile</td>\n",
       "      <td>Каменевский регион</td>\n",
       "      <td>Край билетов</td>\n",
       "      <td>театр</td>\n",
       "      <td>1</td>\n",
       "      <td>1521.94</td>\n",
       "      <td>4.00</td>\n",
       "      <td>-1.00</td>\n",
       "      <td>False</td>\n",
       "      <td>False</td>\n",
       "    </tr>\n",
       "    <tr>\n",
       "      <th>1</th>\n",
       "      <td>0005ca5e93f2cf4</td>\n",
       "      <td>2024-07-23</td>\n",
       "      <td>2024-10-06</td>\n",
       "      <td>mobile</td>\n",
       "      <td>Каменевский регион</td>\n",
       "      <td>Мой билет</td>\n",
       "      <td>выставки</td>\n",
       "      <td>2</td>\n",
       "      <td>774.01</td>\n",
       "      <td>3.00</td>\n",
       "      <td>75.00</td>\n",
       "      <td>True</td>\n",
       "      <td>False</td>\n",
       "    </tr>\n",
       "    <tr>\n",
       "      <th>2</th>\n",
       "      <td>000898990054619</td>\n",
       "      <td>2024-07-13</td>\n",
       "      <td>2024-10-23</td>\n",
       "      <td>mobile</td>\n",
       "      <td>Североярская область</td>\n",
       "      <td>Лови билет!</td>\n",
       "      <td>другое</td>\n",
       "      <td>3</td>\n",
       "      <td>767.21</td>\n",
       "      <td>2.67</td>\n",
       "      <td>51.00</td>\n",
       "      <td>True</td>\n",
       "      <td>False</td>\n",
       "    </tr>\n",
       "    <tr>\n",
       "      <th>3</th>\n",
       "      <td>00096d1f542ab2b</td>\n",
       "      <td>2024-08-15</td>\n",
       "      <td>2024-08-15</td>\n",
       "      <td>desktop</td>\n",
       "      <td>Каменевский регион</td>\n",
       "      <td>Край билетов</td>\n",
       "      <td>театр</td>\n",
       "      <td>1</td>\n",
       "      <td>917.83</td>\n",
       "      <td>4.00</td>\n",
       "      <td>-1.00</td>\n",
       "      <td>False</td>\n",
       "      <td>False</td>\n",
       "    </tr>\n",
       "    <tr>\n",
       "      <th>4</th>\n",
       "      <td>000a55a418c128c</td>\n",
       "      <td>2024-09-29</td>\n",
       "      <td>2024-10-15</td>\n",
       "      <td>mobile</td>\n",
       "      <td>Поленовский край</td>\n",
       "      <td>Лучшие билеты</td>\n",
       "      <td>театр</td>\n",
       "      <td>2</td>\n",
       "      <td>61.31</td>\n",
       "      <td>1.50</td>\n",
       "      <td>16.00</td>\n",
       "      <td>True</td>\n",
       "      <td>False</td>\n",
       "    </tr>\n",
       "    <tr>\n",
       "      <th>...</th>\n",
       "      <td>...</td>\n",
       "      <td>...</td>\n",
       "      <td>...</td>\n",
       "      <td>...</td>\n",
       "      <td>...</td>\n",
       "      <td>...</td>\n",
       "      <td>...</td>\n",
       "      <td>...</td>\n",
       "      <td>...</td>\n",
       "      <td>...</td>\n",
       "      <td>...</td>\n",
       "      <td>...</td>\n",
       "      <td>...</td>\n",
       "    </tr>\n",
       "    <tr>\n",
       "      <th>21833</th>\n",
       "      <td>fff13b79bd47d7c</td>\n",
       "      <td>2024-07-16</td>\n",
       "      <td>2024-10-31</td>\n",
       "      <td>mobile</td>\n",
       "      <td>Каменевский регион</td>\n",
       "      <td>Мой билет</td>\n",
       "      <td>другое</td>\n",
       "      <td>9</td>\n",
       "      <td>688.04</td>\n",
       "      <td>2.56</td>\n",
       "      <td>13.38</td>\n",
       "      <td>True</td>\n",
       "      <td>True</td>\n",
       "    </tr>\n",
       "    <tr>\n",
       "      <th>21834</th>\n",
       "      <td>fff32fc9ad0f9f6</td>\n",
       "      <td>2024-08-15</td>\n",
       "      <td>2024-10-28</td>\n",
       "      <td>desktop</td>\n",
       "      <td>Каменевский регион</td>\n",
       "      <td>Билеты без проблем</td>\n",
       "      <td>стендап</td>\n",
       "      <td>2</td>\n",
       "      <td>851.00</td>\n",
       "      <td>2.50</td>\n",
       "      <td>74.00</td>\n",
       "      <td>True</td>\n",
       "      <td>False</td>\n",
       "    </tr>\n",
       "    <tr>\n",
       "      <th>21835</th>\n",
       "      <td>fffcd3dde79eb2c</td>\n",
       "      <td>2024-06-20</td>\n",
       "      <td>2024-10-30</td>\n",
       "      <td>desktop</td>\n",
       "      <td>Каменевский регион</td>\n",
       "      <td>Билеты без проблем</td>\n",
       "      <td>концерты</td>\n",
       "      <td>33</td>\n",
       "      <td>557.91</td>\n",
       "      <td>2.79</td>\n",
       "      <td>4.12</td>\n",
       "      <td>True</td>\n",
       "      <td>True</td>\n",
       "    </tr>\n",
       "    <tr>\n",
       "      <th>21836</th>\n",
       "      <td>fffeeb3c120cf0b</td>\n",
       "      <td>2024-09-24</td>\n",
       "      <td>2024-09-24</td>\n",
       "      <td>desktop</td>\n",
       "      <td>Широковская область</td>\n",
       "      <td>Билеты без проблем</td>\n",
       "      <td>стендап</td>\n",
       "      <td>1</td>\n",
       "      <td>661.53</td>\n",
       "      <td>2.00</td>\n",
       "      <td>-1.00</td>\n",
       "      <td>False</td>\n",
       "      <td>False</td>\n",
       "    </tr>\n",
       "    <tr>\n",
       "      <th>21837</th>\n",
       "      <td>ffff00725179321</td>\n",
       "      <td>2024-09-25</td>\n",
       "      <td>2024-09-25</td>\n",
       "      <td>mobile</td>\n",
       "      <td>Малиновоярский округ</td>\n",
       "      <td>Мой билет</td>\n",
       "      <td>концерты</td>\n",
       "      <td>1</td>\n",
       "      <td>802.25</td>\n",
       "      <td>2.00</td>\n",
       "      <td>-1.00</td>\n",
       "      <td>False</td>\n",
       "      <td>False</td>\n",
       "    </tr>\n",
       "  </tbody>\n",
       "</table>\n",
       "<p>21838 rows × 13 columns</p>\n",
       "</div>"
      ],
      "text/plain": [
       "               user_id first_order_dt last_order_dt f_o_device  \\\n",
       "0      0002849b70a3ce2     2024-08-20    2024-08-20     mobile   \n",
       "1      0005ca5e93f2cf4     2024-07-23    2024-10-06     mobile   \n",
       "2      000898990054619     2024-07-13    2024-10-23     mobile   \n",
       "3      00096d1f542ab2b     2024-08-15    2024-08-15    desktop   \n",
       "4      000a55a418c128c     2024-09-29    2024-10-15     mobile   \n",
       "...                ...            ...           ...        ...   \n",
       "21833  fff13b79bd47d7c     2024-07-16    2024-10-31     mobile   \n",
       "21834  fff32fc9ad0f9f6     2024-08-15    2024-10-28    desktop   \n",
       "21835  fffcd3dde79eb2c     2024-06-20    2024-10-30    desktop   \n",
       "21836  fffeeb3c120cf0b     2024-09-24    2024-09-24    desktop   \n",
       "21837  ffff00725179321     2024-09-25    2024-09-25     mobile   \n",
       "\n",
       "                 f_o_region         f_o_service f_o_event_type  total_orders  \\\n",
       "0        Каменевский регион        Край билетов          театр             1   \n",
       "1        Каменевский регион           Мой билет       выставки             2   \n",
       "2      Североярская область         Лови билет!         другое             3   \n",
       "3        Каменевский регион        Край билетов          театр             1   \n",
       "4          Поленовский край       Лучшие билеты          театр             2   \n",
       "...                     ...                 ...            ...           ...   \n",
       "21833    Каменевский регион           Мой билет         другое             9   \n",
       "21834    Каменевский регион  Билеты без проблем        стендап             2   \n",
       "21835    Каменевский регион  Билеты без проблем       концерты            33   \n",
       "21836   Широковская область  Билеты без проблем        стендап             1   \n",
       "21837  Малиновоярский округ           Мой билет       концерты             1   \n",
       "\n",
       "       avg_revenue  avg_tickets_count  avg_days_since_prev  is_two  is_five  \n",
       "0          1521.94               4.00                -1.00   False    False  \n",
       "1           774.01               3.00                75.00    True    False  \n",
       "2           767.21               2.67                51.00    True    False  \n",
       "3           917.83               4.00                -1.00   False    False  \n",
       "4            61.31               1.50                16.00    True    False  \n",
       "...            ...                ...                  ...     ...      ...  \n",
       "21833       688.04               2.56                13.38    True     True  \n",
       "21834       851.00               2.50                74.00    True    False  \n",
       "21835       557.91               2.79                 4.12    True     True  \n",
       "21836       661.53               2.00                -1.00   False    False  \n",
       "21837       802.25               2.00                -1.00   False    False  \n",
       "\n",
       "[21838 rows x 13 columns]"
      ]
     },
     "execution_count": 36,
     "metadata": {},
     "output_type": "execute_result"
    }
   ],
   "source": [
    "# Выводим первые и последние строки датафрейма user_profile\n",
    "user_profile"
   ]
  },
  {
   "cell_type": "code",
   "execution_count": 37,
   "id": "b565aa58",
   "metadata": {},
   "outputs": [
    {
     "name": "stdout",
     "output_type": "stream",
     "text": [
      "<class 'pandas.core.frame.DataFrame'>\n",
      "RangeIndex: 21838 entries, 0 to 21837\n",
      "Data columns (total 13 columns):\n",
      " #   Column               Non-Null Count  Dtype        \n",
      "---  ------               --------------  -----        \n",
      " 0   user_id              21838 non-null  object       \n",
      " 1   first_order_dt       21838 non-null  datetime64[s]\n",
      " 2   last_order_dt        21838 non-null  datetime64[s]\n",
      " 3   f_o_device           21838 non-null  object       \n",
      " 4   f_o_region           21838 non-null  object       \n",
      " 5   f_o_service          21838 non-null  object       \n",
      " 6   f_o_event_type       21838 non-null  object       \n",
      " 7   total_orders         21838 non-null  int64        \n",
      " 8   avg_revenue          21838 non-null  float64      \n",
      " 9   avg_tickets_count    21838 non-null  float64      \n",
      " 10  avg_days_since_prev  21838 non-null  float64      \n",
      " 11  is_two               21838 non-null  bool         \n",
      " 12  is_five              21838 non-null  bool         \n",
      "dtypes: bool(2), datetime64[s](2), float64(3), int64(1), object(5)\n",
      "memory usage: 1.9+ MB\n"
     ]
    }
   ],
   "source": [
    "# Выводим информацию о датафрейме user_profile\n",
    "user_profile.info()"
   ]
  },
  {
   "cell_type": "markdown",
   "id": "9f5e77ec",
   "metadata": {},
   "source": [
    "---\n",
    "### 3.2 Проверка качества данных профиля пользователя"
   ]
  },
  {
   "cell_type": "markdown",
   "id": "7273f907",
   "metadata": {},
   "source": [
    "Рассчитаем:\n",
    "- Общее число пользователей в выборке;\n",
    "- Среднюю выручку с одного заказа;\n",
    "- Долю пользователей, совершивших 2 и более заказа;\n",
    "- Долю пользователей, совершивших 5 и более заказов."
   ]
  },
  {
   "cell_type": "code",
   "execution_count": 38,
   "id": "486c4964",
   "metadata": {},
   "outputs": [
    {
     "name": "stdout",
     "output_type": "stream",
     "text": [
      "Общее число пользователей: 21838\n",
      "Средняя выручка с одного заказа (по всему датафрейму df): 518.72 руб.\n",
      "Средняя выручка с одного заказа (усреднение средних значений по пользователям): 545.03 руб.\n",
      "Доля пользователей с 2+ заказами: 61.7%\n",
      "Доля пользователей с 5+ заказами: 29.0%\n"
     ]
    }
   ],
   "source": [
    "# Рассчитываем общее число пользователей в выборке\n",
    "total_users = user_profile.shape[0]\n",
    "print('Общее число пользователей:', total_users)\n",
    "\n",
    "# Рассчитываем среднюю выручку с одного заказа по всему датафрейму df\n",
    "avg_revenue_per_order = df['revenue_rub'].mean().round(2)\n",
    "print(f'Средняя выручка с одного заказа (по всему датафрейму df): {avg_revenue_per_order} руб.')\n",
    "\n",
    "# Рассчитываем среднюю выручку с одного заказа (усреднение средних значений по пользователям)\n",
    "avg_revenue_per_order2 = user_profile['avg_revenue'].mean().round(2)\n",
    "print(f'Средняя выручка с одного заказа (усреднение средних значений по пользователям): {avg_revenue_per_order2} руб.')\n",
    "\n",
    "# Рассчитываем долю пользователей, совершивших 2+ заказа\n",
    "is_two_ratio = (user_profile['is_two'].mean() * 100).round(2)\n",
    "print(f'Доля пользователей с 2+ заказами: {is_two_ratio}%')\n",
    "\n",
    "# Рассчитываем долю пользователей, совершивших 5+ заказов\n",
    "is_five_ratio = (user_profile['is_five'].mean() * 100).round(2)\n",
    "print(f'Доля пользователей с 5+ заказами: {is_five_ratio}%')"
   ]
  },
  {
   "cell_type": "markdown",
   "id": "bd77c43d",
   "metadata": {},
   "source": [
    "- Объем выборки в 21838 пользователей достаточно большой.\n",
    "- Средняя выручка с одного заказа при усреднении средних значений по пользователям - 545.03 руб. немного выше чем, если считать её по всему датафрейму **df** - 518.72 руб. из-за того, что при усреднении по пользователям уменьшается влияние частых покупателей с маленькими суммами заказов (с маленькими значениями выручки сервиса).\n",
    "- 61.7% (почти 2/3) пользователей вернулись в сервис и совершили еще как минимум один заказ - это неплохой уровень удержания.\n",
    "- 29% пользователей (почти 1/3) активные и лояльные клиенты, которые совершили 5 и более заказов - это сильный показатель вовлеченности клиентов. "
   ]
  },
  {
   "cell_type": "markdown",
   "id": "3146549c",
   "metadata": {},
   "source": [
    "Изучим статистические показатели для столбцов `total_orders`, `avg_tickets_count` и `avg_days_since_prev`.\n",
    "\n",
    "Начнём со столбца `total_orders`:"
   ]
  },
  {
   "cell_type": "code",
   "execution_count": 39,
   "id": "54eff3f8",
   "metadata": {},
   "outputs": [
    {
     "name": "stdout",
     "output_type": "stream",
     "text": [
      "count    21838.000000\n",
      "mean        13.160775\n",
      "std        121.577370\n",
      "min          1.000000\n",
      "25%          1.000000\n",
      "50%          2.000000\n",
      "75%          5.000000\n",
      "max      10168.000000\n",
      "Name: total_orders, dtype: float64\n",
      "95-й перцентиль для столбца 'total_orders' составляет: 31.0\n",
      "99-й перцентиль для столбца 'total_orders' составляет: 152.0\n",
      "99.9-й перцентиль для столбца 'total_orders' составляет: 1462.0750000001026\n"
     ]
    }
   ],
   "source": [
    "# Выводим статистические показатели столбца 'total_orders'\n",
    "print(user_profile['total_orders'].describe())\n",
    "\n",
    "# Дополнительно выводим 95-ый и 99-ый перцентиль для столбца 'total_orders'\n",
    "print(\"95-й перцентиль для столбца 'total_orders' составляет:\", user_profile['total_orders'].quantile(0.95))\n",
    "print(\"99-й перцентиль для столбца 'total_orders' составляет:\", user_profile['total_orders'].quantile(0.99))\n",
    "print(\"99.9-й перцентиль для столбца 'total_orders' составляет:\", user_profile['total_orders'].quantile(0.999))"
   ]
  },
  {
   "cell_type": "markdown",
   "id": "d291652b",
   "metadata": {},
   "source": [
    "- Распределение очень сильно смещено вправо. Это объясняется тем, что у большинства пользователей относительно низкая активность, а у небольшой группы огромная.\n",
    "- Среднее значение количества заказов для одного пользователя ~ 13 значительно выше медианы в 2 заказа из-за выше сказанного.\n",
    "- Огромное стандартное отклонение ~ 122 говорит о наличии аномалий.\n",
    "- Типичные значения количества заказов 1 - 5. \n",
    "- Только 5% пользователей сделали более 31 заказа, только 1% сделали более 152 заказов и только 0.1% более 1462 заказов.\n",
    "- Максимальное значение в 10168 заказов является очевидной аномалией (выбросом). Такие значения и в принципе большие значения (допустим от 200 заказов) маловероятны для реальных людей. Если в очень активных пользователей (до 150 заказов) еще можно поверить, то для значений нескольких сотен и тысяч заказов у одного клиента объяснения могут быть следующими: корпоративные аккаунты или тестовые пользователи. \n",
    "\n",
    "Для корректного проведения дальнейшего анализа необходимо отфильтровать данные. Лучше это сделать именно по 95-ому перцентилю. Среди пользователей действительно могут встречаться люди, активно пользующиеся сервисом Яндекс Афиши и посещающие большое количество культурных/спортивных мероприятий, но наши данные охватывают всего лишь 5 месяцев 2024-ого года, поэтому посещение мероприятий в количестве от 31 до 152 для типичного пользователя мало вероятно. Фильтрация по 95-ому перцентилю оставит более репрезентативное ядро аудитории."
   ]
  },
  {
   "cell_type": "code",
   "execution_count": 40,
   "id": "fc54e20a",
   "metadata": {},
   "outputs": [],
   "source": [
    "# Исключаем строки со значениями в столбце 'total_orders' > 31 из датафрейма\n",
    "user_profile = user_profile[user_profile['total_orders'] <= user_profile['total_orders'].quantile(0.95)]\n",
    "\n",
    "# Сохраняем количество строк датафрейма user_profile после исключения строк с числом заказов более 31 в переменной\n",
    "num_of_rows_u_p2 = user_profile.shape[0]"
   ]
  },
  {
   "cell_type": "markdown",
   "id": "d0665416",
   "metadata": {},
   "source": [
    "Выведем статистические показатели столбца `total_orders` после фильтрации:"
   ]
  },
  {
   "cell_type": "code",
   "execution_count": 41,
   "id": "0390b881",
   "metadata": {},
   "outputs": [
    {
     "data": {
      "text/plain": [
       "count    20747.000000\n",
       "mean         4.049164\n",
       "std          5.113877\n",
       "min          1.000000\n",
       "25%          1.000000\n",
       "50%          2.000000\n",
       "75%          5.000000\n",
       "max         31.000000\n",
       "Name: total_orders, dtype: float64"
      ]
     },
     "execution_count": 41,
     "metadata": {},
     "output_type": "execute_result"
    }
   ],
   "source": [
    "# Выводим статистические показатели столбца 'total_orders' после фильтрации\n",
    "user_profile['total_orders'].describe()"
   ]
  },
  {
   "cell_type": "markdown",
   "id": "f32223b9",
   "metadata": {},
   "source": [
    "- После фильтрации удалено ~ 5% пользователей (строк): 21838 → 20747.\n",
    "- Среднее стало намного ближе к медиане (~ 4 заказа против изначальных ~ 13).\n",
    "- Стандартное отклонение снизилось ~ в 24 раза (~ 5 заказов против изначальных ~ 122), что значит, что теперь данные менее вариативны и более устойчивы - стабилизация распределения.\n",
    "- Типичные значения количества заказов 1 - 5 не изменились. Это говорит о том, что удаленные данные действительно были выбросами.\n",
    "- Главное, что распределение значений в столбце `total_orders` стало компактнее и более репрезентативным для типичных пользователей. Такие данные можно использовать для дальнейшего анализа."
   ]
  },
  {
   "cell_type": "markdown",
   "id": "1672981d",
   "metadata": {},
   "source": [
    "Перейдем к столбцу `avg_tickets_count`:"
   ]
  },
  {
   "cell_type": "code",
   "execution_count": 42,
   "id": "7dc6600d",
   "metadata": {},
   "outputs": [
    {
     "name": "stdout",
     "output_type": "stream",
     "text": [
      "count    20747.000000\n",
      "mean         2.744535\n",
      "std          0.934527\n",
      "min          1.000000\n",
      "25%          2.000000\n",
      "50%          2.750000\n",
      "75%          3.150000\n",
      "max         11.000000\n",
      "Name: avg_tickets_count, dtype: float64\n",
      "95-й перцентиль для столбца 'avg_tickets_count' составляет: 4.0\n",
      "99-й перцентиль для столбца 'avg_tickets_count' составляет: 5.0\n"
     ]
    }
   ],
   "source": [
    "# Выводим статистические показатели столбца 'avg_tickets_count'\n",
    "print(user_profile['avg_tickets_count'].describe())\n",
    "\n",
    "# Дополнительно выводим 95-ый и 99-ый перцентиль для столбца 'avg_tickets_count'\n",
    "print(\"95-й перцентиль для столбца 'avg_tickets_count' составляет:\", user_profile['avg_tickets_count'].quantile(0.95))\n",
    "print(\"99-й перцентиль для столбца 'avg_tickets_count' составляет:\", user_profile['avg_tickets_count'].quantile(0.99))"
   ]
  },
  {
   "cell_type": "markdown",
   "id": "5d9f588a",
   "metadata": {},
   "source": [
    "- В среднем пользователь покупает 2 - 3 билета за заказ (типичные значения). Среднее и медиана очень близки (~ 2.745 и 2.75).\n",
    "- Стандартное отклонение небольшое ~ 1, что говорит о небольшом разбросе значений. Большинство пользователей имеют схожее поведение.\n",
    "- Только 5% пользователей покупают в среднем более 4 билетов за заказ и только 1% покупают в среднем более 5 билетов, а максимальное значение - 11 билетов.\n",
    "- Распределение выглядит умеренно асимметричным вправо, есть очень редкие случаи, отличающиеся от основной массы пользователей, которые могут означать групповые (семейные/дружеские/небольшие корпоративные) покупки. Такие значения вполне конкретно объясняются и статистические показатели от них \"не страдают\", поэтому аномалиями их можно не считать и в фильтрации по столбцу `avg_tickets_count` нет необходимости."
   ]
  },
  {
   "cell_type": "markdown",
   "id": "984e92d1",
   "metadata": {},
   "source": [
    "Перейдем к столбцу `avg_days_since_prev`. Рассмотрим его статистические показатели без учёта пользователей, совершивших только один заказ:"
   ]
  },
  {
   "cell_type": "code",
   "execution_count": 43,
   "id": "55856120",
   "metadata": {},
   "outputs": [
    {
     "name": "stdout",
     "output_type": "stream",
     "text": [
      "count    12413.000000\n",
      "mean        17.069035\n",
      "std         22.899086\n",
      "min          0.000000\n",
      "25%          1.000000\n",
      "50%          9.470000\n",
      "75%         22.170000\n",
      "max        148.000000\n",
      "Name: avg_days_since_prev, dtype: float64\n",
      "95-й перцентиль для столбца 'avg_days_since_prev' составляет: 64.0\n",
      "99-й перцентиль для столбца 'avg_days_since_prev' составляет: 115.8799999999992\n"
     ]
    }
   ],
   "source": [
    "# Выводим статистические показатели столбца 'avg_days_since_prev' для пользователей с 2+ заказами\n",
    "print(user_profile[user_profile['avg_days_since_prev'] != -1]['avg_days_since_prev'].describe())\n",
    "\n",
    "# Дополнительно выводим 95-ый и 99-ый перцентиль для столбца 'avg_tickets_count'\n",
    "print(\"95-й перцентиль для столбца 'avg_days_since_prev' составляет:\", user_profile[user_profile['avg_days_since_prev'] != -1]['avg_days_since_prev'].quantile(0.95))\n",
    "print(\"99-й перцентиль для столбца 'avg_days_since_prev' составляет:\", user_profile[user_profile['avg_days_since_prev'] != -1]['avg_days_since_prev'].quantile(0.99))"
   ]
  },
  {
   "cell_type": "markdown",
   "id": "d142ba10",
   "metadata": {},
   "source": [
    "- 12413 пользователей из 20747 (~ 60%) совершили 2 и более заказов.\n",
    "- Среднее значение среднего времени между заказами ~ 17 дней. В среднем пользователи возвращаются за новым заказом в промежутке 2 - 3 недель.\n",
    "- Медиана ~ 9 с половиной дней - 50% пользователей возвращаются за новым заказом через 9 - 10 дней.\n",
    "- Стандартное отклонение ~ 23 дня - большой разброс из-за небольшой части пользователей, которые возвращаются через 2+ месяца.\n",
    "- Типичные значения среднего времени между заказами от 1 до ~ 22 дней. \n",
    "- Только 5% пользователей в среднем возращаются в сервис за новой покупкой через 64+ дня и только 1% через ~ 116+ дней.\n",
    "- Для нашей выборки (данные за 152 дня - 5 месяцев) максимальное значение среднего возвращения пользователя за покупкой - 148 дней. Логичное значение, близкое ко всему охватываемому периоду. Также логично и минимальное - 0 дней, когда пользователи делают еще один заказ в тот же день. И не стоит забывать, что еще есть неучтенные здесь пользователи, которые не возвращались в сервис за повторным заказом вовсе (8334 клиента).\n",
    "- Распределение прилично скошено вправо из-за чего среднее значение тоже завышено.\n",
    "\n",
    "Среди любых значений этого столбца нет тех, что являлись бы \"оторванными от реальности\" (пользователь может вернуться в сервис, когда угодно, и помимо качества самого сервиса, на это может влиять бесконечное количество факторов). Но для корректного проведения дальнейшего анализа необходимо отфильтровать данные, чтобы оставить для анализа более репрезентативное ядро аудитории. Лучше это сделать именно по 95-ому перцентилю. Ограничение выборки до значений <= 64 дней будет в достаточной мере отражать среднестатистических пользователей."
   ]
  },
  {
   "cell_type": "code",
   "execution_count": 44,
   "id": "fcc82137",
   "metadata": {},
   "outputs": [],
   "source": [
    "# Исключаем строки со значениями в столбце 'avg_days_since_prev' > 64 из датафрейма\n",
    "user_profile = user_profile[user_profile['avg_days_since_prev'] <= user_profile[user_profile['avg_days_since_prev'] != -1]['avg_days_since_prev'].quantile(0.95)]\n",
    "\n",
    "# Сохраняем количество строк датафрейма user_profile после исключения строк со средним значением количества дней между заказами > 64 в переменной\n",
    "num_of_rows_u_p3 = user_profile.shape[0]"
   ]
  },
  {
   "cell_type": "markdown",
   "id": "f151cb87",
   "metadata": {},
   "source": [
    "Выведем статистические показатели столбца `avg_days_since_prev` после фильтрации:"
   ]
  },
  {
   "cell_type": "code",
   "execution_count": 45,
   "id": "f5e7860a",
   "metadata": {},
   "outputs": [
    {
     "name": "stdout",
     "output_type": "stream",
     "text": [
      "count    11803.000000\n",
      "mean        13.108822\n",
      "std         14.384984\n",
      "min          0.000000\n",
      "25%          0.670000\n",
      "50%          8.750000\n",
      "75%         19.400000\n",
      "max         64.000000\n",
      "Name: avg_days_since_prev, dtype: float64\n"
     ]
    }
   ],
   "source": [
    "# Выводим статистические показатели столбца 'avg_days_since_prev' для пользователей с 2+ заказами после фильтрации\n",
    "print(user_profile[user_profile['avg_days_since_prev'] != -1]['avg_days_since_prev'].describe())"
   ]
  },
  {
   "cell_type": "markdown",
   "id": "02ceec71",
   "metadata": {},
   "source": [
    "- После фильтрации удалено ~ 5% пользователей (строк): 12413 → 11803.\n",
    "- Среднее ~ 13 дней между заказами теперь более точно отражает типичное поведение пользователей и приблизилось к медиане ~ 9 дней.\n",
    "- Стандартное отклонение снизилось ~ в 1.6 раз (~ 14 дней против изначальных ~ 23), что значит, что теперь данные менее вариативны и более устойчивы - стабилизация распределения.\n",
    "- Типичные значения среднего времени между заказами от 0-1 до ~ 19 дней слегка уменьшились (изначально от 1 до ~ 22 дней). Медиана осталась ~ 9 дней, значит, что распределение по сути не сдвинулось, убран \"хвост\" редких, нерегулярных пользователей, благодаря чему данные стали \"чище\" и репрезентативнее.\n",
    "- Главное, что распределение значений в столбце `avg_days_since_prev` стало компактнее и более репрезентативным для типичных пользователей. Такие данные можно использовать для дальнейшего анализа."
   ]
  },
  {
   "cell_type": "markdown",
   "id": "2cb21881",
   "metadata": {},
   "source": [
    "Оценим объем отфильтрованных данных:"
   ]
  },
  {
   "cell_type": "code",
   "execution_count": 46,
   "id": "2f1f7bca",
   "metadata": {},
   "outputs": [
    {
     "name": "stdout",
     "output_type": "stream",
     "text": [
      "Изначальное количество строк датафрейма user_profile: 21838\n",
      "Количество строк датафрейма user_profile после исключения строк с числом заказов более 31: 20747\n",
      "Количество строк датафрейма user_profile после исключения строк со средним значением количества дней между заказами > 64: 20137\n",
      "Количество удалённых строк: 1701\n",
      "Доля удалённых строк: 7.789%\n"
     ]
    }
   ],
   "source": [
    "# Выводим информацию об удалённых строках\n",
    "print('Изначальное количество строк датафрейма user_profile:', num_of_rows_u_p)\n",
    "print('Количество строк датафрейма user_profile после исключения строк с числом заказов более 31:', num_of_rows_u_p2)\n",
    "print('Количество строк датафрейма user_profile после исключения строк со средним значением количества дней между заказами > 64:', num_of_rows_u_p3)\n",
    "print('Количество удалённых строк:', num_of_rows_u_p - num_of_rows_u_p3)\n",
    "del_ratio_u_p = (1 - (num_of_rows_u_p3 / num_of_rows_u_p)) * 100\n",
    "print(f'Доля удалённых строк: {round(del_ratio_u_p, 3)}%')"
   ]
  },
  {
   "cell_type": "markdown",
   "id": "84a5cf59",
   "metadata": {},
   "source": [
    "Вновь рассчитаем после фильтраций:\n",
    "- Общее число пользователей в выборке;\n",
    "- Среднюю выручку с одного заказа;\n",
    "- Долю пользователей, совершивших 2 и более заказа;\n",
    "- Долю пользователей, совершивших 5 и более заказов.\n",
    "\n",
    "И выведем статистические показатели для столбцов `total_orders`, `avg_tickets_count` и `avg_days_since_prev` вместе:"
   ]
  },
  {
   "cell_type": "code",
   "execution_count": 47,
   "id": "8d6ded4f",
   "metadata": {},
   "outputs": [
    {
     "name": "stdout",
     "output_type": "stream",
     "text": [
      "Общее число пользователей: 20137\n",
      "Средняя выручка с одного заказа (по всему датафрейму df): 518.72 руб.\n",
      "Средняя выручка с одного заказа (усреднение средних значений по пользователям): 546.61 руб.\n",
      "Доля пользователей с 2+ заказами: 58.5%\n",
      "Доля пользователей с 5+ заказами: 26.03%\n",
      "\n",
      "       total_orders  avg_tickets_count\n",
      "count  20137.000000       20137.000000\n",
      "mean       4.108805           2.742251\n",
      "std        5.178818           0.936510\n",
      "min        1.000000           1.000000\n",
      "25%        1.000000           2.000000\n",
      "50%        2.000000           2.750000\n",
      "75%        5.000000           3.140000\n",
      "max       31.000000          11.000000\n",
      "\n",
      "  avg_days_since_prev\n",
      "count    11803.000000\n",
      "mean        13.108822\n",
      "std         14.384984\n",
      "min          0.000000\n",
      "25%          0.670000\n",
      "50%          8.750000\n",
      "75%         19.400000\n",
      "max         64.000000\n",
      "Name: avg_days_since_prev, dtype: float64\n"
     ]
    }
   ],
   "source": [
    "# Рассчитываем общее число пользователей в выборке после фильтраций\n",
    "total_users = user_profile.shape[0]\n",
    "print('Общее число пользователей:', total_users)\n",
    "\n",
    "# Рассчитываем среднюю выручку с одного заказа по всему датафрейму df\n",
    "avg_revenue_per_order = df['revenue_rub'].mean().round(2)\n",
    "print(f'Средняя выручка с одного заказа (по всему датафрейму df): {avg_revenue_per_order} руб.')\n",
    "\n",
    "# Рассчитываем среднюю выручку с одного заказа (усреднение средних значений по пользователям) после фильтраций\n",
    "avg_revenue_per_order2 = user_profile['avg_revenue'].mean().round(2)\n",
    "print(f'Средняя выручка с одного заказа (усреднение средних значений по пользователям): {avg_revenue_per_order2} руб.')\n",
    "\n",
    "# Рассчитываем долю пользователей, совершивших 2+ заказа после фильтраций\n",
    "is_two_ratio = (user_profile['is_two'].mean() * 100).round(2)\n",
    "print(f'Доля пользователей с 2+ заказами: {is_two_ratio}%')\n",
    "\n",
    "# Рассчитываем долю пользователей, совершивших 5+ заказов после фильтраций\n",
    "is_five_ratio = (user_profile['is_five'].mean() * 100).round(2)\n",
    "print(f'Доля пользователей с 5+ заказами: {is_five_ratio}%')\n",
    "print()\n",
    "# Выводим статистические показатели столбцов 'total_orders', 'avg_tickets_count' и 'avg_days_since_prev' (для пользователей с 2+ заказами) после фильтраций\n",
    "print(user_profile[['total_orders', 'avg_tickets_count']].describe())\n",
    "print()\n",
    "print('  avg_days_since_prev')\n",
    "print(user_profile[user_profile['avg_days_since_prev'] != -1]['avg_days_since_prev'].describe())"
   ]
  },
  {
   "cell_type": "markdown",
   "id": "a6454295",
   "metadata": {},
   "source": [
    "*Взглянем на изменения:*"
   ]
  },
  {
   "cell_type": "markdown",
   "id": "7daac5ec",
   "metadata": {},
   "source": [
    "- *Объем данных после двух последовательных фильтраций - 20137 пользователей (удалено ~ 7.8% строк) остался достаточно большим для анализа. Именно исключенные строки создавали сильные искажения распределений, теперь они более стабилизированные и репрезентативные.*\n",
    "- *Средняя выручка с одного заказа (усреднение средних значений по пользователям) до фильтраций - 545.03 руб., после фильтраций - 546.61 руб. Практически не изменилась. Удаление выбросов почти не затронуло структуру выручки, значит, экстремальные значения количества заказов не искажали среднюю выручку.*\n",
    "- *Доля пользователей с 2+ заказами: 61.7% → 58.5% (-3.2%), доля пользователей с 5+ заказами: 29% → ~ 26% (−3%). Незначительное снижение логично, ведь фильтрация по числу заказов убрала наиболее активных пользователей. Теперь эти показатели лучше отражают поведение типичных клиентов, а не \"суперактивных\" исключений.*\n",
    "- *Выводы по изменению статистических показателей для столбцов `total_orders`, `avg_tickets_count` и `avg_days_since_prev` подробно описаны и представлены выше по ходу выполнения данного пункта проекта (показатели первых двух столбцов после второй фильтрации по 3-ему столбцу претерпели очень незначительные изменения лишь в 'mean' и 'std' в десятых и сотых долях значений, поэтому все выводы актуальны и без изменений).*\n",
    "- *Датафрейм **user_profile** готов к дальнейшему анализу.*"
   ]
  },
  {
   "cell_type": "markdown",
   "id": "0a82ddc1",
   "metadata": {},
   "source": [
    "На этом этап создания профиля пользователя завершен. Взглянем на результирующий датафрейм **user_profile** (перед этим обновим его индексы):"
   ]
  },
  {
   "cell_type": "code",
   "execution_count": 48,
   "id": "e0ced147",
   "metadata": {},
   "outputs": [
    {
     "data": {
      "text/html": [
       "<div>\n",
       "<style scoped>\n",
       "    .dataframe tbody tr th:only-of-type {\n",
       "        vertical-align: middle;\n",
       "    }\n",
       "\n",
       "    .dataframe tbody tr th {\n",
       "        vertical-align: top;\n",
       "    }\n",
       "\n",
       "    .dataframe thead th {\n",
       "        text-align: right;\n",
       "    }\n",
       "</style>\n",
       "<table border=\"1\" class=\"dataframe\">\n",
       "  <thead>\n",
       "    <tr style=\"text-align: right;\">\n",
       "      <th></th>\n",
       "      <th>user_id</th>\n",
       "      <th>first_order_dt</th>\n",
       "      <th>last_order_dt</th>\n",
       "      <th>f_o_device</th>\n",
       "      <th>f_o_region</th>\n",
       "      <th>f_o_service</th>\n",
       "      <th>f_o_event_type</th>\n",
       "      <th>total_orders</th>\n",
       "      <th>avg_revenue</th>\n",
       "      <th>avg_tickets_count</th>\n",
       "      <th>avg_days_since_prev</th>\n",
       "      <th>is_two</th>\n",
       "      <th>is_five</th>\n",
       "    </tr>\n",
       "  </thead>\n",
       "  <tbody>\n",
       "    <tr>\n",
       "      <th>0</th>\n",
       "      <td>0002849b70a3ce2</td>\n",
       "      <td>2024-08-20</td>\n",
       "      <td>2024-08-20</td>\n",
       "      <td>mobile</td>\n",
       "      <td>Каменевский регион</td>\n",
       "      <td>Край билетов</td>\n",
       "      <td>театр</td>\n",
       "      <td>1</td>\n",
       "      <td>1521.94</td>\n",
       "      <td>4.00</td>\n",
       "      <td>-1.00</td>\n",
       "      <td>False</td>\n",
       "      <td>False</td>\n",
       "    </tr>\n",
       "    <tr>\n",
       "      <th>1</th>\n",
       "      <td>000898990054619</td>\n",
       "      <td>2024-07-13</td>\n",
       "      <td>2024-10-23</td>\n",
       "      <td>mobile</td>\n",
       "      <td>Североярская область</td>\n",
       "      <td>Лови билет!</td>\n",
       "      <td>другое</td>\n",
       "      <td>3</td>\n",
       "      <td>767.21</td>\n",
       "      <td>2.67</td>\n",
       "      <td>51.00</td>\n",
       "      <td>True</td>\n",
       "      <td>False</td>\n",
       "    </tr>\n",
       "    <tr>\n",
       "      <th>2</th>\n",
       "      <td>00096d1f542ab2b</td>\n",
       "      <td>2024-08-15</td>\n",
       "      <td>2024-08-15</td>\n",
       "      <td>desktop</td>\n",
       "      <td>Каменевский регион</td>\n",
       "      <td>Край билетов</td>\n",
       "      <td>театр</td>\n",
       "      <td>1</td>\n",
       "      <td>917.83</td>\n",
       "      <td>4.00</td>\n",
       "      <td>-1.00</td>\n",
       "      <td>False</td>\n",
       "      <td>False</td>\n",
       "    </tr>\n",
       "    <tr>\n",
       "      <th>3</th>\n",
       "      <td>000a55a418c128c</td>\n",
       "      <td>2024-09-29</td>\n",
       "      <td>2024-10-15</td>\n",
       "      <td>mobile</td>\n",
       "      <td>Поленовский край</td>\n",
       "      <td>Лучшие билеты</td>\n",
       "      <td>театр</td>\n",
       "      <td>2</td>\n",
       "      <td>61.31</td>\n",
       "      <td>1.50</td>\n",
       "      <td>16.00</td>\n",
       "      <td>True</td>\n",
       "      <td>False</td>\n",
       "    </tr>\n",
       "    <tr>\n",
       "      <th>4</th>\n",
       "      <td>000cf0659a9f40f</td>\n",
       "      <td>2024-06-20</td>\n",
       "      <td>2024-06-21</td>\n",
       "      <td>mobile</td>\n",
       "      <td>Широковская область</td>\n",
       "      <td>Лови билет!</td>\n",
       "      <td>концерты</td>\n",
       "      <td>13</td>\n",
       "      <td>1175.81</td>\n",
       "      <td>3.31</td>\n",
       "      <td>0.08</td>\n",
       "      <td>True</td>\n",
       "      <td>True</td>\n",
       "    </tr>\n",
       "    <tr>\n",
       "      <th>...</th>\n",
       "      <td>...</td>\n",
       "      <td>...</td>\n",
       "      <td>...</td>\n",
       "      <td>...</td>\n",
       "      <td>...</td>\n",
       "      <td>...</td>\n",
       "      <td>...</td>\n",
       "      <td>...</td>\n",
       "      <td>...</td>\n",
       "      <td>...</td>\n",
       "      <td>...</td>\n",
       "      <td>...</td>\n",
       "      <td>...</td>\n",
       "    </tr>\n",
       "    <tr>\n",
       "      <th>20132</th>\n",
       "      <td>ffecf05f1f6a9c6</td>\n",
       "      <td>2024-06-03</td>\n",
       "      <td>2024-08-02</td>\n",
       "      <td>mobile</td>\n",
       "      <td>Североярская область</td>\n",
       "      <td>Билеты без проблем</td>\n",
       "      <td>концерты</td>\n",
       "      <td>4</td>\n",
       "      <td>818.71</td>\n",
       "      <td>2.25</td>\n",
       "      <td>20.00</td>\n",
       "      <td>True</td>\n",
       "      <td>False</td>\n",
       "    </tr>\n",
       "    <tr>\n",
       "      <th>20133</th>\n",
       "      <td>ffed3ff067d4f12</td>\n",
       "      <td>2024-07-31</td>\n",
       "      <td>2024-10-17</td>\n",
       "      <td>mobile</td>\n",
       "      <td>Малиновая область</td>\n",
       "      <td>Лучшие билеты</td>\n",
       "      <td>другое</td>\n",
       "      <td>4</td>\n",
       "      <td>50.52</td>\n",
       "      <td>2.25</td>\n",
       "      <td>26.00</td>\n",
       "      <td>True</td>\n",
       "      <td>False</td>\n",
       "    </tr>\n",
       "    <tr>\n",
       "      <th>20134</th>\n",
       "      <td>fff13b79bd47d7c</td>\n",
       "      <td>2024-07-16</td>\n",
       "      <td>2024-10-31</td>\n",
       "      <td>mobile</td>\n",
       "      <td>Каменевский регион</td>\n",
       "      <td>Мой билет</td>\n",
       "      <td>другое</td>\n",
       "      <td>9</td>\n",
       "      <td>688.04</td>\n",
       "      <td>2.56</td>\n",
       "      <td>13.38</td>\n",
       "      <td>True</td>\n",
       "      <td>True</td>\n",
       "    </tr>\n",
       "    <tr>\n",
       "      <th>20135</th>\n",
       "      <td>fffeeb3c120cf0b</td>\n",
       "      <td>2024-09-24</td>\n",
       "      <td>2024-09-24</td>\n",
       "      <td>desktop</td>\n",
       "      <td>Широковская область</td>\n",
       "      <td>Билеты без проблем</td>\n",
       "      <td>стендап</td>\n",
       "      <td>1</td>\n",
       "      <td>661.53</td>\n",
       "      <td>2.00</td>\n",
       "      <td>-1.00</td>\n",
       "      <td>False</td>\n",
       "      <td>False</td>\n",
       "    </tr>\n",
       "    <tr>\n",
       "      <th>20136</th>\n",
       "      <td>ffff00725179321</td>\n",
       "      <td>2024-09-25</td>\n",
       "      <td>2024-09-25</td>\n",
       "      <td>mobile</td>\n",
       "      <td>Малиновоярский округ</td>\n",
       "      <td>Мой билет</td>\n",
       "      <td>концерты</td>\n",
       "      <td>1</td>\n",
       "      <td>802.25</td>\n",
       "      <td>2.00</td>\n",
       "      <td>-1.00</td>\n",
       "      <td>False</td>\n",
       "      <td>False</td>\n",
       "    </tr>\n",
       "  </tbody>\n",
       "</table>\n",
       "<p>20137 rows × 13 columns</p>\n",
       "</div>"
      ],
      "text/plain": [
       "               user_id first_order_dt last_order_dt f_o_device  \\\n",
       "0      0002849b70a3ce2     2024-08-20    2024-08-20     mobile   \n",
       "1      000898990054619     2024-07-13    2024-10-23     mobile   \n",
       "2      00096d1f542ab2b     2024-08-15    2024-08-15    desktop   \n",
       "3      000a55a418c128c     2024-09-29    2024-10-15     mobile   \n",
       "4      000cf0659a9f40f     2024-06-20    2024-06-21     mobile   \n",
       "...                ...            ...           ...        ...   \n",
       "20132  ffecf05f1f6a9c6     2024-06-03    2024-08-02     mobile   \n",
       "20133  ffed3ff067d4f12     2024-07-31    2024-10-17     mobile   \n",
       "20134  fff13b79bd47d7c     2024-07-16    2024-10-31     mobile   \n",
       "20135  fffeeb3c120cf0b     2024-09-24    2024-09-24    desktop   \n",
       "20136  ffff00725179321     2024-09-25    2024-09-25     mobile   \n",
       "\n",
       "                 f_o_region         f_o_service f_o_event_type  total_orders  \\\n",
       "0        Каменевский регион        Край билетов          театр             1   \n",
       "1      Североярская область         Лови билет!         другое             3   \n",
       "2        Каменевский регион        Край билетов          театр             1   \n",
       "3          Поленовский край       Лучшие билеты          театр             2   \n",
       "4       Широковская область         Лови билет!       концерты            13   \n",
       "...                     ...                 ...            ...           ...   \n",
       "20132  Североярская область  Билеты без проблем       концерты             4   \n",
       "20133     Малиновая область       Лучшие билеты         другое             4   \n",
       "20134    Каменевский регион           Мой билет         другое             9   \n",
       "20135   Широковская область  Билеты без проблем        стендап             1   \n",
       "20136  Малиновоярский округ           Мой билет       концерты             1   \n",
       "\n",
       "       avg_revenue  avg_tickets_count  avg_days_since_prev  is_two  is_five  \n",
       "0          1521.94               4.00                -1.00   False    False  \n",
       "1           767.21               2.67                51.00    True    False  \n",
       "2           917.83               4.00                -1.00   False    False  \n",
       "3            61.31               1.50                16.00    True    False  \n",
       "4          1175.81               3.31                 0.08    True     True  \n",
       "...            ...                ...                  ...     ...      ...  \n",
       "20132       818.71               2.25                20.00    True    False  \n",
       "20133        50.52               2.25                26.00    True    False  \n",
       "20134       688.04               2.56                13.38    True     True  \n",
       "20135       661.53               2.00                -1.00   False    False  \n",
       "20136       802.25               2.00                -1.00   False    False  \n",
       "\n",
       "[20137 rows x 13 columns]"
      ]
     },
     "execution_count": 48,
     "metadata": {},
     "output_type": "execute_result"
    }
   ],
   "source": [
    "# Сбрасываем старые индексы и создаём новые\n",
    "user_profile = user_profile.reset_index(drop = True)\n",
    "\n",
    "# Выводим первые и последние строки датафрейма user_profile после фильтраций\n",
    "user_profile"
   ]
  },
  {
   "cell_type": "code",
   "execution_count": 49,
   "id": "f1edc7ea",
   "metadata": {},
   "outputs": [
    {
     "name": "stdout",
     "output_type": "stream",
     "text": [
      "<class 'pandas.core.frame.DataFrame'>\n",
      "RangeIndex: 20137 entries, 0 to 20136\n",
      "Data columns (total 13 columns):\n",
      " #   Column               Non-Null Count  Dtype        \n",
      "---  ------               --------------  -----        \n",
      " 0   user_id              20137 non-null  object       \n",
      " 1   first_order_dt       20137 non-null  datetime64[s]\n",
      " 2   last_order_dt        20137 non-null  datetime64[s]\n",
      " 3   f_o_device           20137 non-null  object       \n",
      " 4   f_o_region           20137 non-null  object       \n",
      " 5   f_o_service          20137 non-null  object       \n",
      " 6   f_o_event_type       20137 non-null  object       \n",
      " 7   total_orders         20137 non-null  int64        \n",
      " 8   avg_revenue          20137 non-null  float64      \n",
      " 9   avg_tickets_count    20137 non-null  float64      \n",
      " 10  avg_days_since_prev  20137 non-null  float64      \n",
      " 11  is_two               20137 non-null  bool         \n",
      " 12  is_five              20137 non-null  bool         \n",
      "dtypes: bool(2), datetime64[s](2), float64(3), int64(1), object(5)\n",
      "memory usage: 1.7+ MB\n"
     ]
    }
   ],
   "source": [
    "# Выводим информацию о датафрейме user_profile после фильтраций\n",
    "user_profile.info()"
   ]
  },
  {
   "cell_type": "markdown",
   "id": "70069a18",
   "metadata": {},
   "source": [
    "---\n",
    "\n",
    "## 4. Исследовательский анализ данных\n",
    "\n",
    "Исследуем признаки, влияющие на возврат пользователей, то есть на совершение повторного заказа. Для этого будем использовать профили пользователей."
   ]
  },
  {
   "cell_type": "markdown",
   "id": "b2b66fc5",
   "metadata": {},
   "source": [
    "### 4.1 Исследование признаков первого заказа и их связи с возвращением на платформу\n",
    "\n",
    "Исследуем признаки, описывающие первый заказ пользователя, и выясним, влияют ли они на вероятность возвращения пользователя."
   ]
  },
  {
   "cell_type": "markdown",
   "id": "5d46d458",
   "metadata": {},
   "source": [
    "- 4.1.1 Изучим распределение пользователей по признакам.\n",
    "\n",
    "Сгруппируем пользователей:\n",
    "- По типу их первого мероприятия;\n",
    "- По типу устройства, с которого совершена первая покупка;\n",
    "- По региону проведения мероприятия из первого заказа;\n",
    "- По билетному оператору, продавшему билеты на первый заказ.\n",
    "\n",
    "И подсчитаем общее количество пользователей в каждом сегменте и их долю в разрезе каждого признака:\n",
    "\n",
    "<small><font color='#777778'>В ячейке ниже я закомментировал настройку pandas для отображения всех строк, чтобы не загромождать тетрадь. Для подробного рассмотрения строки в ячейке можно раскомментировать.</font><small>"
   ]
  },
  {
   "cell_type": "code",
   "execution_count": 50,
   "id": "ecfc000d",
   "metadata": {},
   "outputs": [
    {
     "name": "stdout",
     "output_type": "stream",
     "text": [
      "Распредление пользователей по признаку f_o_event_type:\n"
     ]
    },
    {
     "data": {
      "text/html": [
       "<div>\n",
       "<style scoped>\n",
       "    .dataframe tbody tr th:only-of-type {\n",
       "        vertical-align: middle;\n",
       "    }\n",
       "\n",
       "    .dataframe tbody tr th {\n",
       "        vertical-align: top;\n",
       "    }\n",
       "\n",
       "    .dataframe thead th {\n",
       "        text-align: right;\n",
       "    }\n",
       "</style>\n",
       "<table border=\"1\" class=\"dataframe\">\n",
       "  <thead>\n",
       "    <tr style=\"text-align: right;\">\n",
       "      <th></th>\n",
       "      <th>users_count</th>\n",
       "      <th>users_ratio, %</th>\n",
       "    </tr>\n",
       "    <tr>\n",
       "      <th>f_o_event_type</th>\n",
       "      <th></th>\n",
       "      <th></th>\n",
       "    </tr>\n",
       "  </thead>\n",
       "  <tbody>\n",
       "    <tr>\n",
       "      <th>концерты</th>\n",
       "      <td>8905</td>\n",
       "      <td>44.222</td>\n",
       "    </tr>\n",
       "    <tr>\n",
       "      <th>другое</th>\n",
       "      <td>5015</td>\n",
       "      <td>24.904</td>\n",
       "    </tr>\n",
       "    <tr>\n",
       "      <th>театр</th>\n",
       "      <td>3943</td>\n",
       "      <td>19.581</td>\n",
       "    </tr>\n",
       "    <tr>\n",
       "      <th>стендап</th>\n",
       "      <td>1037</td>\n",
       "      <td>5.150</td>\n",
       "    </tr>\n",
       "    <tr>\n",
       "      <th>спорт</th>\n",
       "      <td>760</td>\n",
       "      <td>3.774</td>\n",
       "    </tr>\n",
       "    <tr>\n",
       "      <th>выставки</th>\n",
       "      <td>384</td>\n",
       "      <td>1.907</td>\n",
       "    </tr>\n",
       "    <tr>\n",
       "      <th>ёлки</th>\n",
       "      <td>93</td>\n",
       "      <td>0.462</td>\n",
       "    </tr>\n",
       "  </tbody>\n",
       "</table>\n",
       "</div>"
      ],
      "text/plain": [
       "                users_count  users_ratio, %\n",
       "f_o_event_type                             \n",
       "концерты               8905          44.222\n",
       "другое                 5015          24.904\n",
       "театр                  3943          19.581\n",
       "стендап                1037           5.150\n",
       "спорт                   760           3.774\n",
       "выставки                384           1.907\n",
       "ёлки                     93           0.462"
      ]
     },
     "metadata": {},
     "output_type": "display_data"
    },
    {
     "name": "stdout",
     "output_type": "stream",
     "text": [
      "Распредление пользователей по признаку f_o_device:\n"
     ]
    },
    {
     "data": {
      "text/html": [
       "<div>\n",
       "<style scoped>\n",
       "    .dataframe tbody tr th:only-of-type {\n",
       "        vertical-align: middle;\n",
       "    }\n",
       "\n",
       "    .dataframe tbody tr th {\n",
       "        vertical-align: top;\n",
       "    }\n",
       "\n",
       "    .dataframe thead th {\n",
       "        text-align: right;\n",
       "    }\n",
       "</style>\n",
       "<table border=\"1\" class=\"dataframe\">\n",
       "  <thead>\n",
       "    <tr style=\"text-align: right;\">\n",
       "      <th></th>\n",
       "      <th>users_count</th>\n",
       "      <th>users_ratio, %</th>\n",
       "    </tr>\n",
       "    <tr>\n",
       "      <th>f_o_device</th>\n",
       "      <th></th>\n",
       "      <th></th>\n",
       "    </tr>\n",
       "  </thead>\n",
       "  <tbody>\n",
       "    <tr>\n",
       "      <th>mobile</th>\n",
       "      <td>16713</td>\n",
       "      <td>82.996</td>\n",
       "    </tr>\n",
       "    <tr>\n",
       "      <th>desktop</th>\n",
       "      <td>3424</td>\n",
       "      <td>17.004</td>\n",
       "    </tr>\n",
       "  </tbody>\n",
       "</table>\n",
       "</div>"
      ],
      "text/plain": [
       "            users_count  users_ratio, %\n",
       "f_o_device                             \n",
       "mobile            16713          82.996\n",
       "desktop            3424          17.004"
      ]
     },
     "metadata": {},
     "output_type": "display_data"
    },
    {
     "name": "stdout",
     "output_type": "stream",
     "text": [
      "Распредление пользователей по признаку f_o_region:\n"
     ]
    },
    {
     "data": {
      "text/html": [
       "<div>\n",
       "<style scoped>\n",
       "    .dataframe tbody tr th:only-of-type {\n",
       "        vertical-align: middle;\n",
       "    }\n",
       "\n",
       "    .dataframe tbody tr th {\n",
       "        vertical-align: top;\n",
       "    }\n",
       "\n",
       "    .dataframe thead th {\n",
       "        text-align: right;\n",
       "    }\n",
       "</style>\n",
       "<table border=\"1\" class=\"dataframe\">\n",
       "  <thead>\n",
       "    <tr style=\"text-align: right;\">\n",
       "      <th></th>\n",
       "      <th>users_count</th>\n",
       "      <th>users_ratio, %</th>\n",
       "    </tr>\n",
       "    <tr>\n",
       "      <th>f_o_region</th>\n",
       "      <th></th>\n",
       "      <th></th>\n",
       "    </tr>\n",
       "  </thead>\n",
       "  <tbody>\n",
       "    <tr>\n",
       "      <th>Каменевский регион</th>\n",
       "      <td>6541</td>\n",
       "      <td>32.482</td>\n",
       "    </tr>\n",
       "    <tr>\n",
       "      <th>Североярская область</th>\n",
       "      <td>3483</td>\n",
       "      <td>17.297</td>\n",
       "    </tr>\n",
       "    <tr>\n",
       "      <th>Широковская область</th>\n",
       "      <td>1144</td>\n",
       "      <td>5.681</td>\n",
       "    </tr>\n",
       "    <tr>\n",
       "      <th>Озернинский край</th>\n",
       "      <td>642</td>\n",
       "      <td>3.188</td>\n",
       "    </tr>\n",
       "    <tr>\n",
       "      <th>Малиновоярский округ</th>\n",
       "      <td>504</td>\n",
       "      <td>2.503</td>\n",
       "    </tr>\n",
       "    <tr>\n",
       "      <th>...</th>\n",
       "      <td>...</td>\n",
       "      <td>...</td>\n",
       "    </tr>\n",
       "    <tr>\n",
       "      <th>Тихогорская область</th>\n",
       "      <td>2</td>\n",
       "      <td>0.010</td>\n",
       "    </tr>\n",
       "    <tr>\n",
       "      <th>Сосноводолинская область</th>\n",
       "      <td>1</td>\n",
       "      <td>0.005</td>\n",
       "    </tr>\n",
       "    <tr>\n",
       "      <th>Светолесский край</th>\n",
       "      <td>1</td>\n",
       "      <td>0.005</td>\n",
       "    </tr>\n",
       "    <tr>\n",
       "      <th>Яснопольский округ</th>\n",
       "      <td>1</td>\n",
       "      <td>0.005</td>\n",
       "    </tr>\n",
       "    <tr>\n",
       "      <th>Верхозёрский край</th>\n",
       "      <td>1</td>\n",
       "      <td>0.005</td>\n",
       "    </tr>\n",
       "  </tbody>\n",
       "</table>\n",
       "<p>81 rows × 2 columns</p>\n",
       "</div>"
      ],
      "text/plain": [
       "                          users_count  users_ratio, %\n",
       "f_o_region                                           \n",
       "Каменевский регион               6541          32.482\n",
       "Североярская область             3483          17.297\n",
       "Широковская область              1144           5.681\n",
       "Озернинский край                  642           3.188\n",
       "Малиновоярский округ              504           2.503\n",
       "...                               ...             ...\n",
       "Тихогорская область                 2           0.010\n",
       "Сосноводолинская область            1           0.005\n",
       "Светолесский край                   1           0.005\n",
       "Яснопольский округ                  1           0.005\n",
       "Верхозёрский край                   1           0.005\n",
       "\n",
       "[81 rows x 2 columns]"
      ]
     },
     "metadata": {},
     "output_type": "display_data"
    },
    {
     "name": "stdout",
     "output_type": "stream",
     "text": [
      "Распредление пользователей по признаку f_o_service:\n"
     ]
    },
    {
     "data": {
      "text/html": [
       "<div>\n",
       "<style scoped>\n",
       "    .dataframe tbody tr th:only-of-type {\n",
       "        vertical-align: middle;\n",
       "    }\n",
       "\n",
       "    .dataframe tbody tr th {\n",
       "        vertical-align: top;\n",
       "    }\n",
       "\n",
       "    .dataframe thead th {\n",
       "        text-align: right;\n",
       "    }\n",
       "</style>\n",
       "<table border=\"1\" class=\"dataframe\">\n",
       "  <thead>\n",
       "    <tr style=\"text-align: right;\">\n",
       "      <th></th>\n",
       "      <th>users_count</th>\n",
       "      <th>users_ratio, %</th>\n",
       "    </tr>\n",
       "    <tr>\n",
       "      <th>f_o_service</th>\n",
       "      <th></th>\n",
       "      <th></th>\n",
       "    </tr>\n",
       "  </thead>\n",
       "  <tbody>\n",
       "    <tr>\n",
       "      <th>Билеты без проблем</th>\n",
       "      <td>4806</td>\n",
       "      <td>23.867</td>\n",
       "    </tr>\n",
       "    <tr>\n",
       "      <th>Мой билет</th>\n",
       "      <td>2783</td>\n",
       "      <td>13.820</td>\n",
       "    </tr>\n",
       "    <tr>\n",
       "      <th>Лови билет!</th>\n",
       "      <td>2633</td>\n",
       "      <td>13.075</td>\n",
       "    </tr>\n",
       "    <tr>\n",
       "      <th>Билеты в руки</th>\n",
       "      <td>2352</td>\n",
       "      <td>11.680</td>\n",
       "    </tr>\n",
       "    <tr>\n",
       "      <th>Облачко</th>\n",
       "      <td>2045</td>\n",
       "      <td>10.155</td>\n",
       "    </tr>\n",
       "    <tr>\n",
       "      <th>Весь в билетах</th>\n",
       "      <td>1190</td>\n",
       "      <td>5.910</td>\n",
       "    </tr>\n",
       "    <tr>\n",
       "      <th>Лучшие билеты</th>\n",
       "      <td>1108</td>\n",
       "      <td>5.502</td>\n",
       "    </tr>\n",
       "    <tr>\n",
       "      <th>Прачечная</th>\n",
       "      <td>533</td>\n",
       "      <td>2.647</td>\n",
       "    </tr>\n",
       "    <tr>\n",
       "      <th>Край билетов</th>\n",
       "      <td>424</td>\n",
       "      <td>2.106</td>\n",
       "    </tr>\n",
       "    <tr>\n",
       "      <th>Дом культуры</th>\n",
       "      <td>326</td>\n",
       "      <td>1.619</td>\n",
       "    </tr>\n",
       "    <tr>\n",
       "      <th>Тебе билет!</th>\n",
       "      <td>294</td>\n",
       "      <td>1.460</td>\n",
       "    </tr>\n",
       "    <tr>\n",
       "      <th>Яблоко</th>\n",
       "      <td>293</td>\n",
       "      <td>1.455</td>\n",
       "    </tr>\n",
       "    <tr>\n",
       "      <th>Городской дом культуры</th>\n",
       "      <td>203</td>\n",
       "      <td>1.008</td>\n",
       "    </tr>\n",
       "    <tr>\n",
       "      <th>За билетом!</th>\n",
       "      <td>193</td>\n",
       "      <td>0.958</td>\n",
       "    </tr>\n",
       "    <tr>\n",
       "      <th>Мир касс</th>\n",
       "      <td>185</td>\n",
       "      <td>0.919</td>\n",
       "    </tr>\n",
       "    <tr>\n",
       "      <th>Быстробилет</th>\n",
       "      <td>159</td>\n",
       "      <td>0.790</td>\n",
       "    </tr>\n",
       "    <tr>\n",
       "      <th>Show_ticket</th>\n",
       "      <td>148</td>\n",
       "      <td>0.735</td>\n",
       "    </tr>\n",
       "    <tr>\n",
       "      <th>Выступления.ру</th>\n",
       "      <td>90</td>\n",
       "      <td>0.447</td>\n",
       "    </tr>\n",
       "    <tr>\n",
       "      <th>Восьмёрка</th>\n",
       "      <td>81</td>\n",
       "      <td>0.402</td>\n",
       "    </tr>\n",
       "    <tr>\n",
       "      <th>Быстрый кассир</th>\n",
       "      <td>48</td>\n",
       "      <td>0.238</td>\n",
       "    </tr>\n",
       "    <tr>\n",
       "      <th>Crazy ticket!</th>\n",
       "      <td>42</td>\n",
       "      <td>0.209</td>\n",
       "    </tr>\n",
       "    <tr>\n",
       "      <th>Росбилет</th>\n",
       "      <td>36</td>\n",
       "      <td>0.179</td>\n",
       "    </tr>\n",
       "    <tr>\n",
       "      <th>Радио ticket</th>\n",
       "      <td>35</td>\n",
       "      <td>0.174</td>\n",
       "    </tr>\n",
       "    <tr>\n",
       "      <th>Реестр</th>\n",
       "      <td>26</td>\n",
       "      <td>0.129</td>\n",
       "    </tr>\n",
       "    <tr>\n",
       "      <th>Телебилет</th>\n",
       "      <td>25</td>\n",
       "      <td>0.124</td>\n",
       "    </tr>\n",
       "    <tr>\n",
       "      <th>Цвет и билет</th>\n",
       "      <td>20</td>\n",
       "      <td>0.099</td>\n",
       "    </tr>\n",
       "    <tr>\n",
       "      <th>Шоу начинается!</th>\n",
       "      <td>18</td>\n",
       "      <td>0.089</td>\n",
       "    </tr>\n",
       "    <tr>\n",
       "      <th>КарандашРУ</th>\n",
       "      <td>13</td>\n",
       "      <td>0.065</td>\n",
       "    </tr>\n",
       "    <tr>\n",
       "      <th>Кино билет</th>\n",
       "      <td>9</td>\n",
       "      <td>0.045</td>\n",
       "    </tr>\n",
       "    <tr>\n",
       "      <th>Вперёд!</th>\n",
       "      <td>7</td>\n",
       "      <td>0.035</td>\n",
       "    </tr>\n",
       "    <tr>\n",
       "      <th>Билет по телефону</th>\n",
       "      <td>6</td>\n",
       "      <td>0.030</td>\n",
       "    </tr>\n",
       "    <tr>\n",
       "      <th>Тех билет</th>\n",
       "      <td>3</td>\n",
       "      <td>0.015</td>\n",
       "    </tr>\n",
       "    <tr>\n",
       "      <th>Лимоны</th>\n",
       "      <td>2</td>\n",
       "      <td>0.010</td>\n",
       "    </tr>\n",
       "    <tr>\n",
       "      <th>Зе Бест!</th>\n",
       "      <td>1</td>\n",
       "      <td>0.005</td>\n",
       "    </tr>\n",
       "  </tbody>\n",
       "</table>\n",
       "</div>"
      ],
      "text/plain": [
       "                        users_count  users_ratio, %\n",
       "f_o_service                                        \n",
       "Билеты без проблем             4806          23.867\n",
       "Мой билет                      2783          13.820\n",
       "Лови билет!                    2633          13.075\n",
       "Билеты в руки                  2352          11.680\n",
       "Облачко                        2045          10.155\n",
       "Весь в билетах                 1190           5.910\n",
       "Лучшие билеты                  1108           5.502\n",
       "Прачечная                       533           2.647\n",
       "Край билетов                    424           2.106\n",
       "Дом культуры                    326           1.619\n",
       "Тебе билет!                     294           1.460\n",
       "Яблоко                          293           1.455\n",
       "Городской дом культуры          203           1.008\n",
       "За билетом!                     193           0.958\n",
       "Мир касс                        185           0.919\n",
       "Быстробилет                     159           0.790\n",
       "Show_ticket                     148           0.735\n",
       "Выступления.ру                   90           0.447\n",
       "Восьмёрка                        81           0.402\n",
       "Быстрый кассир                   48           0.238\n",
       "Crazy ticket!                    42           0.209\n",
       "Росбилет                         36           0.179\n",
       "Радио ticket                     35           0.174\n",
       "Реестр                           26           0.129\n",
       "Телебилет                        25           0.124\n",
       "Цвет и билет                     20           0.099\n",
       "Шоу начинается!                  18           0.089\n",
       "КарандашРУ                       13           0.065\n",
       "Кино билет                        9           0.045\n",
       "Вперёд!                           7           0.035\n",
       "Билет по телефону                 6           0.030\n",
       "Тех билет                         3           0.015\n",
       "Лимоны                            2           0.010\n",
       "Зе Бест!                          1           0.005"
      ]
     },
     "metadata": {},
     "output_type": "display_data"
    }
   ],
   "source": [
    "# Временно устанавливаем отображение всех строк\n",
    "# pd.set_option('display.max_rows', None)\n",
    "\n",
    "# Создаём список столбцов (признаков) для исследования\n",
    "f_o = ['f_o_event_type', 'f_o_device', 'f_o_region', 'f_o_service']\n",
    "\n",
    "# Проходим по каждому признаку\n",
    "for col in f_o:\n",
    "    print(f'Распредление пользователей по признаку {col}:')\n",
    "    # Подсчитываем общее количество пользователей в каждом сегменте и добавляем столбец в датафрейм\n",
    "    segment = user_profile[col].value_counts().to_frame('users_count')\n",
    "    # Подсчитываем долю пользователей в каждом сегменте и добавляем столбец в датафрейм\n",
    "    segment['users_ratio, %'] = (segment['users_count'] / user_profile.shape[0] * 100).round(3)\n",
    "    # Выводим результаты подсчётов\n",
    "    display(segment)\n",
    "\n",
    "# Возвращаем настройки отображения всех строк по умолчанию\n",
    "# pd.reset_option('display.max_rows')"
   ]
  },
  {
   "cell_type": "markdown",
   "id": "6dea0e35",
   "metadata": {},
   "source": [
    "Взглянем на результаты:\n",
    "- Тип первого мероприятия:\n",
    "    - Концерты - 44.22%;\n",
    "    - Другое - 24.9%;\n",
    "    - Театр - 19.58%;\n",
    "    - Остальные 4 типа - от 5.15% до 0.46%.\n",
    "    - Есть выраженные \"точки входа\" - концерты, другое(универсальная категория, к ней могут относиться, например, фестивали, лекции и семинары, квесты, экскурсии и т.д) и театр.\n",
    "- Тип устройства, с которого совершена первая покупка:\n",
    "    - mobile - 83%;\n",
    "    - desktop - 17%;\n",
    "    - Очевидная концентрация на мобильных устройствах.\n",
    "- Регион проведения мероприятия первого заказа:\n",
    "    - Каменевский регион - 32.48%;\n",
    "    - Североярская область - 17.3%;\n",
    "    - Широковская область - 5.68%;\n",
    "    - Остальные 78 регионов имеют маленькие доли - плавно уменьшаются от 3.19% до 0.005% (всего 1 пользователь).\n",
    "    - Есть выраженные \"точки входа\" - Каменевский регион и Североярская область.\n",
    "- Билетный оператор, продавший билеты на первый заказ:\n",
    "    - Билеты без проблем - 23.87%;\n",
    "    - Мой билет - 13.82%;\n",
    "    - Лови билет! - 13.08%;\n",
    "    - Билеты в руки - 11.68%;\n",
    "    - Облачко - 10.16%;\n",
    "    - Остальные операторы имеют доли < 6%, а большинство < 1% снова вплоть до 0.005% (всего 1 пользователь).\n",
    "    - Есть выраженные \"точки входа\" - \"Билеты без проблем\", \"Мой билет\", \"Лови билет!\", \"Билеты в руки\" и \"Облачко\".\n",
    "\n",
    "Распределение пользователей по сегментам неравномерное. Есть явные \"точки входа\" у каждого из признаков."
   ]
  },
  {
   "cell_type": "markdown",
   "id": "998033b3",
   "metadata": {},
   "source": [
    "---\n",
    "\n",
    "- 4.1.2 Проанализируем возвраты пользователей."
   ]
  },
  {
   "cell_type": "markdown",
   "id": "1eba5a31",
   "metadata": {},
   "source": [
    "Для каждого сегмента вычислим долю пользователей, совершивших два и более заказа:\n",
    "\n",
    "<small><font color='#777778'>В ячейке ниже я закомментировал настройку pandas для отображения всех строк, чтобы не загромождать тетрадь. Для подробного рассмотрения строки в ячейке можно раскомментировать.</font><small>"
   ]
  },
  {
   "cell_type": "code",
   "execution_count": 51,
   "id": "0a34c7a1",
   "metadata": {},
   "outputs": [
    {
     "name": "stdout",
     "output_type": "stream",
     "text": [
      "Распредление пользователей по признаку f_o_event_type:\n"
     ]
    },
    {
     "data": {
      "text/html": [
       "<div>\n",
       "<style scoped>\n",
       "    .dataframe tbody tr th:only-of-type {\n",
       "        vertical-align: middle;\n",
       "    }\n",
       "\n",
       "    .dataframe tbody tr th {\n",
       "        vertical-align: top;\n",
       "    }\n",
       "\n",
       "    .dataframe thead th {\n",
       "        text-align: right;\n",
       "    }\n",
       "</style>\n",
       "<table border=\"1\" class=\"dataframe\">\n",
       "  <thead>\n",
       "    <tr style=\"text-align: right;\">\n",
       "      <th></th>\n",
       "      <th>users_count</th>\n",
       "      <th>is_two_count</th>\n",
       "      <th>is_two_ratio, %</th>\n",
       "    </tr>\n",
       "    <tr>\n",
       "      <th>f_o_event_type</th>\n",
       "      <th></th>\n",
       "      <th></th>\n",
       "      <th></th>\n",
       "    </tr>\n",
       "  </thead>\n",
       "  <tbody>\n",
       "    <tr>\n",
       "      <th>концерты</th>\n",
       "      <td>8905</td>\n",
       "      <td>5257</td>\n",
       "      <td>59.034</td>\n",
       "    </tr>\n",
       "    <tr>\n",
       "      <th>другое</th>\n",
       "      <td>5015</td>\n",
       "      <td>2833</td>\n",
       "      <td>56.491</td>\n",
       "    </tr>\n",
       "    <tr>\n",
       "      <th>театр</th>\n",
       "      <td>3943</td>\n",
       "      <td>2391</td>\n",
       "      <td>60.639</td>\n",
       "    </tr>\n",
       "    <tr>\n",
       "      <th>стендап</th>\n",
       "      <td>1037</td>\n",
       "      <td>603</td>\n",
       "      <td>58.149</td>\n",
       "    </tr>\n",
       "    <tr>\n",
       "      <th>спорт</th>\n",
       "      <td>760</td>\n",
       "      <td>409</td>\n",
       "      <td>53.816</td>\n",
       "    </tr>\n",
       "    <tr>\n",
       "      <th>выставки</th>\n",
       "      <td>384</td>\n",
       "      <td>236</td>\n",
       "      <td>61.458</td>\n",
       "    </tr>\n",
       "    <tr>\n",
       "      <th>ёлки</th>\n",
       "      <td>93</td>\n",
       "      <td>51</td>\n",
       "      <td>54.839</td>\n",
       "    </tr>\n",
       "  </tbody>\n",
       "</table>\n",
       "</div>"
      ],
      "text/plain": [
       "                users_count  is_two_count  is_two_ratio, %\n",
       "f_o_event_type                                            \n",
       "концерты               8905          5257           59.034\n",
       "другое                 5015          2833           56.491\n",
       "театр                  3943          2391           60.639\n",
       "стендап                1037           603           58.149\n",
       "спорт                   760           409           53.816\n",
       "выставки                384           236           61.458\n",
       "ёлки                     93            51           54.839"
      ]
     },
     "metadata": {},
     "output_type": "display_data"
    },
    {
     "name": "stdout",
     "output_type": "stream",
     "text": [
      "Распредление пользователей по признаку f_o_device:\n"
     ]
    },
    {
     "data": {
      "text/html": [
       "<div>\n",
       "<style scoped>\n",
       "    .dataframe tbody tr th:only-of-type {\n",
       "        vertical-align: middle;\n",
       "    }\n",
       "\n",
       "    .dataframe tbody tr th {\n",
       "        vertical-align: top;\n",
       "    }\n",
       "\n",
       "    .dataframe thead th {\n",
       "        text-align: right;\n",
       "    }\n",
       "</style>\n",
       "<table border=\"1\" class=\"dataframe\">\n",
       "  <thead>\n",
       "    <tr style=\"text-align: right;\">\n",
       "      <th></th>\n",
       "      <th>users_count</th>\n",
       "      <th>is_two_count</th>\n",
       "      <th>is_two_ratio, %</th>\n",
       "    </tr>\n",
       "    <tr>\n",
       "      <th>f_o_device</th>\n",
       "      <th></th>\n",
       "      <th></th>\n",
       "      <th></th>\n",
       "    </tr>\n",
       "  </thead>\n",
       "  <tbody>\n",
       "    <tr>\n",
       "      <th>mobile</th>\n",
       "      <td>16713</td>\n",
       "      <td>9700</td>\n",
       "      <td>58.039</td>\n",
       "    </tr>\n",
       "    <tr>\n",
       "      <th>desktop</th>\n",
       "      <td>3424</td>\n",
       "      <td>2080</td>\n",
       "      <td>60.748</td>\n",
       "    </tr>\n",
       "  </tbody>\n",
       "</table>\n",
       "</div>"
      ],
      "text/plain": [
       "            users_count  is_two_count  is_two_ratio, %\n",
       "f_o_device                                            \n",
       "mobile            16713          9700           58.039\n",
       "desktop            3424          2080           60.748"
      ]
     },
     "metadata": {},
     "output_type": "display_data"
    },
    {
     "name": "stdout",
     "output_type": "stream",
     "text": [
      "Распредление пользователей по признаку f_o_region:\n"
     ]
    },
    {
     "data": {
      "text/html": [
       "<div>\n",
       "<style scoped>\n",
       "    .dataframe tbody tr th:only-of-type {\n",
       "        vertical-align: middle;\n",
       "    }\n",
       "\n",
       "    .dataframe tbody tr th {\n",
       "        vertical-align: top;\n",
       "    }\n",
       "\n",
       "    .dataframe thead th {\n",
       "        text-align: right;\n",
       "    }\n",
       "</style>\n",
       "<table border=\"1\" class=\"dataframe\">\n",
       "  <thead>\n",
       "    <tr style=\"text-align: right;\">\n",
       "      <th></th>\n",
       "      <th>users_count</th>\n",
       "      <th>is_two_count</th>\n",
       "      <th>is_two_ratio, %</th>\n",
       "    </tr>\n",
       "    <tr>\n",
       "      <th>f_o_region</th>\n",
       "      <th></th>\n",
       "      <th></th>\n",
       "      <th></th>\n",
       "    </tr>\n",
       "  </thead>\n",
       "  <tbody>\n",
       "    <tr>\n",
       "      <th>Каменевский регион</th>\n",
       "      <td>6541</td>\n",
       "      <td>3877</td>\n",
       "      <td>59.272</td>\n",
       "    </tr>\n",
       "    <tr>\n",
       "      <th>Североярская область</th>\n",
       "      <td>3483</td>\n",
       "      <td>2121</td>\n",
       "      <td>60.896</td>\n",
       "    </tr>\n",
       "    <tr>\n",
       "      <th>Широковская область</th>\n",
       "      <td>1144</td>\n",
       "      <td>709</td>\n",
       "      <td>61.976</td>\n",
       "    </tr>\n",
       "    <tr>\n",
       "      <th>Озернинский край</th>\n",
       "      <td>642</td>\n",
       "      <td>340</td>\n",
       "      <td>52.960</td>\n",
       "    </tr>\n",
       "    <tr>\n",
       "      <th>Малиновоярский округ</th>\n",
       "      <td>504</td>\n",
       "      <td>272</td>\n",
       "      <td>53.968</td>\n",
       "    </tr>\n",
       "    <tr>\n",
       "      <th>...</th>\n",
       "      <td>...</td>\n",
       "      <td>...</td>\n",
       "      <td>...</td>\n",
       "    </tr>\n",
       "    <tr>\n",
       "      <th>Тихогорская область</th>\n",
       "      <td>2</td>\n",
       "      <td>1</td>\n",
       "      <td>50.000</td>\n",
       "    </tr>\n",
       "    <tr>\n",
       "      <th>Сосноводолинская область</th>\n",
       "      <td>1</td>\n",
       "      <td>0</td>\n",
       "      <td>0.000</td>\n",
       "    </tr>\n",
       "    <tr>\n",
       "      <th>Светолесский край</th>\n",
       "      <td>1</td>\n",
       "      <td>0</td>\n",
       "      <td>0.000</td>\n",
       "    </tr>\n",
       "    <tr>\n",
       "      <th>Яснопольский округ</th>\n",
       "      <td>1</td>\n",
       "      <td>0</td>\n",
       "      <td>0.000</td>\n",
       "    </tr>\n",
       "    <tr>\n",
       "      <th>Верхозёрский край</th>\n",
       "      <td>1</td>\n",
       "      <td>1</td>\n",
       "      <td>100.000</td>\n",
       "    </tr>\n",
       "  </tbody>\n",
       "</table>\n",
       "<p>81 rows × 3 columns</p>\n",
       "</div>"
      ],
      "text/plain": [
       "                          users_count  is_two_count  is_two_ratio, %\n",
       "f_o_region                                                          \n",
       "Каменевский регион               6541          3877           59.272\n",
       "Североярская область             3483          2121           60.896\n",
       "Широковская область              1144           709           61.976\n",
       "Озернинский край                  642           340           52.960\n",
       "Малиновоярский округ              504           272           53.968\n",
       "...                               ...           ...              ...\n",
       "Тихогорская область                 2             1           50.000\n",
       "Сосноводолинская область            1             0            0.000\n",
       "Светолесский край                   1             0            0.000\n",
       "Яснопольский округ                  1             0            0.000\n",
       "Верхозёрский край                   1             1          100.000\n",
       "\n",
       "[81 rows x 3 columns]"
      ]
     },
     "metadata": {},
     "output_type": "display_data"
    },
    {
     "name": "stdout",
     "output_type": "stream",
     "text": [
      "Распредление пользователей по признаку f_o_service:\n"
     ]
    },
    {
     "data": {
      "text/html": [
       "<div>\n",
       "<style scoped>\n",
       "    .dataframe tbody tr th:only-of-type {\n",
       "        vertical-align: middle;\n",
       "    }\n",
       "\n",
       "    .dataframe tbody tr th {\n",
       "        vertical-align: top;\n",
       "    }\n",
       "\n",
       "    .dataframe thead th {\n",
       "        text-align: right;\n",
       "    }\n",
       "</style>\n",
       "<table border=\"1\" class=\"dataframe\">\n",
       "  <thead>\n",
       "    <tr style=\"text-align: right;\">\n",
       "      <th></th>\n",
       "      <th>users_count</th>\n",
       "      <th>is_two_count</th>\n",
       "      <th>is_two_ratio, %</th>\n",
       "    </tr>\n",
       "    <tr>\n",
       "      <th>f_o_service</th>\n",
       "      <th></th>\n",
       "      <th></th>\n",
       "      <th></th>\n",
       "    </tr>\n",
       "  </thead>\n",
       "  <tbody>\n",
       "    <tr>\n",
       "      <th>Билеты без проблем</th>\n",
       "      <td>4806</td>\n",
       "      <td>2757</td>\n",
       "      <td>57.366</td>\n",
       "    </tr>\n",
       "    <tr>\n",
       "      <th>Мой билет</th>\n",
       "      <td>2783</td>\n",
       "      <td>1622</td>\n",
       "      <td>58.282</td>\n",
       "    </tr>\n",
       "    <tr>\n",
       "      <th>Лови билет!</th>\n",
       "      <td>2633</td>\n",
       "      <td>1535</td>\n",
       "      <td>58.299</td>\n",
       "    </tr>\n",
       "    <tr>\n",
       "      <th>Билеты в руки</th>\n",
       "      <td>2352</td>\n",
       "      <td>1401</td>\n",
       "      <td>59.566</td>\n",
       "    </tr>\n",
       "    <tr>\n",
       "      <th>Облачко</th>\n",
       "      <td>2045</td>\n",
       "      <td>1202</td>\n",
       "      <td>58.778</td>\n",
       "    </tr>\n",
       "    <tr>\n",
       "      <th>Весь в билетах</th>\n",
       "      <td>1190</td>\n",
       "      <td>713</td>\n",
       "      <td>59.916</td>\n",
       "    </tr>\n",
       "    <tr>\n",
       "      <th>Лучшие билеты</th>\n",
       "      <td>1108</td>\n",
       "      <td>651</td>\n",
       "      <td>58.755</td>\n",
       "    </tr>\n",
       "    <tr>\n",
       "      <th>Прачечная</th>\n",
       "      <td>533</td>\n",
       "      <td>315</td>\n",
       "      <td>59.099</td>\n",
       "    </tr>\n",
       "    <tr>\n",
       "      <th>Край билетов</th>\n",
       "      <td>424</td>\n",
       "      <td>266</td>\n",
       "      <td>62.736</td>\n",
       "    </tr>\n",
       "    <tr>\n",
       "      <th>Дом культуры</th>\n",
       "      <td>326</td>\n",
       "      <td>200</td>\n",
       "      <td>61.350</td>\n",
       "    </tr>\n",
       "    <tr>\n",
       "      <th>Тебе билет!</th>\n",
       "      <td>294</td>\n",
       "      <td>172</td>\n",
       "      <td>58.503</td>\n",
       "    </tr>\n",
       "    <tr>\n",
       "      <th>Яблоко</th>\n",
       "      <td>293</td>\n",
       "      <td>146</td>\n",
       "      <td>49.829</td>\n",
       "    </tr>\n",
       "    <tr>\n",
       "      <th>Городской дом культуры</th>\n",
       "      <td>203</td>\n",
       "      <td>114</td>\n",
       "      <td>56.158</td>\n",
       "    </tr>\n",
       "    <tr>\n",
       "      <th>За билетом!</th>\n",
       "      <td>193</td>\n",
       "      <td>110</td>\n",
       "      <td>56.995</td>\n",
       "    </tr>\n",
       "    <tr>\n",
       "      <th>Мир касс</th>\n",
       "      <td>185</td>\n",
       "      <td>111</td>\n",
       "      <td>60.000</td>\n",
       "    </tr>\n",
       "    <tr>\n",
       "      <th>Быстробилет</th>\n",
       "      <td>159</td>\n",
       "      <td>93</td>\n",
       "      <td>58.491</td>\n",
       "    </tr>\n",
       "    <tr>\n",
       "      <th>Show_ticket</th>\n",
       "      <td>148</td>\n",
       "      <td>93</td>\n",
       "      <td>62.838</td>\n",
       "    </tr>\n",
       "    <tr>\n",
       "      <th>Выступления.ру</th>\n",
       "      <td>90</td>\n",
       "      <td>54</td>\n",
       "      <td>60.000</td>\n",
       "    </tr>\n",
       "    <tr>\n",
       "      <th>Восьмёрка</th>\n",
       "      <td>81</td>\n",
       "      <td>54</td>\n",
       "      <td>66.667</td>\n",
       "    </tr>\n",
       "    <tr>\n",
       "      <th>Быстрый кассир</th>\n",
       "      <td>48</td>\n",
       "      <td>39</td>\n",
       "      <td>81.250</td>\n",
       "    </tr>\n",
       "    <tr>\n",
       "      <th>Crazy ticket!</th>\n",
       "      <td>42</td>\n",
       "      <td>28</td>\n",
       "      <td>66.667</td>\n",
       "    </tr>\n",
       "    <tr>\n",
       "      <th>Росбилет</th>\n",
       "      <td>36</td>\n",
       "      <td>22</td>\n",
       "      <td>61.111</td>\n",
       "    </tr>\n",
       "    <tr>\n",
       "      <th>Радио ticket</th>\n",
       "      <td>35</td>\n",
       "      <td>14</td>\n",
       "      <td>40.000</td>\n",
       "    </tr>\n",
       "    <tr>\n",
       "      <th>Реестр</th>\n",
       "      <td>26</td>\n",
       "      <td>20</td>\n",
       "      <td>76.923</td>\n",
       "    </tr>\n",
       "    <tr>\n",
       "      <th>Телебилет</th>\n",
       "      <td>25</td>\n",
       "      <td>10</td>\n",
       "      <td>40.000</td>\n",
       "    </tr>\n",
       "    <tr>\n",
       "      <th>Цвет и билет</th>\n",
       "      <td>20</td>\n",
       "      <td>12</td>\n",
       "      <td>60.000</td>\n",
       "    </tr>\n",
       "    <tr>\n",
       "      <th>Шоу начинается!</th>\n",
       "      <td>18</td>\n",
       "      <td>5</td>\n",
       "      <td>27.778</td>\n",
       "    </tr>\n",
       "    <tr>\n",
       "      <th>КарандашРУ</th>\n",
       "      <td>13</td>\n",
       "      <td>4</td>\n",
       "      <td>30.769</td>\n",
       "    </tr>\n",
       "    <tr>\n",
       "      <th>Кино билет</th>\n",
       "      <td>9</td>\n",
       "      <td>5</td>\n",
       "      <td>55.556</td>\n",
       "    </tr>\n",
       "    <tr>\n",
       "      <th>Вперёд!</th>\n",
       "      <td>7</td>\n",
       "      <td>4</td>\n",
       "      <td>57.143</td>\n",
       "    </tr>\n",
       "    <tr>\n",
       "      <th>Билет по телефону</th>\n",
       "      <td>6</td>\n",
       "      <td>5</td>\n",
       "      <td>83.333</td>\n",
       "    </tr>\n",
       "    <tr>\n",
       "      <th>Тех билет</th>\n",
       "      <td>3</td>\n",
       "      <td>1</td>\n",
       "      <td>33.333</td>\n",
       "    </tr>\n",
       "    <tr>\n",
       "      <th>Лимоны</th>\n",
       "      <td>2</td>\n",
       "      <td>1</td>\n",
       "      <td>50.000</td>\n",
       "    </tr>\n",
       "    <tr>\n",
       "      <th>Зе Бест!</th>\n",
       "      <td>1</td>\n",
       "      <td>1</td>\n",
       "      <td>100.000</td>\n",
       "    </tr>\n",
       "  </tbody>\n",
       "</table>\n",
       "</div>"
      ],
      "text/plain": [
       "                        users_count  is_two_count  is_two_ratio, %\n",
       "f_o_service                                                       \n",
       "Билеты без проблем             4806          2757           57.366\n",
       "Мой билет                      2783          1622           58.282\n",
       "Лови билет!                    2633          1535           58.299\n",
       "Билеты в руки                  2352          1401           59.566\n",
       "Облачко                        2045          1202           58.778\n",
       "Весь в билетах                 1190           713           59.916\n",
       "Лучшие билеты                  1108           651           58.755\n",
       "Прачечная                       533           315           59.099\n",
       "Край билетов                    424           266           62.736\n",
       "Дом культуры                    326           200           61.350\n",
       "Тебе билет!                     294           172           58.503\n",
       "Яблоко                          293           146           49.829\n",
       "Городской дом культуры          203           114           56.158\n",
       "За билетом!                     193           110           56.995\n",
       "Мир касс                        185           111           60.000\n",
       "Быстробилет                     159            93           58.491\n",
       "Show_ticket                     148            93           62.838\n",
       "Выступления.ру                   90            54           60.000\n",
       "Восьмёрка                        81            54           66.667\n",
       "Быстрый кассир                   48            39           81.250\n",
       "Crazy ticket!                    42            28           66.667\n",
       "Росбилет                         36            22           61.111\n",
       "Радио ticket                     35            14           40.000\n",
       "Реестр                           26            20           76.923\n",
       "Телебилет                        25            10           40.000\n",
       "Цвет и билет                     20            12           60.000\n",
       "Шоу начинается!                  18             5           27.778\n",
       "КарандашРУ                       13             4           30.769\n",
       "Кино билет                        9             5           55.556\n",
       "Вперёд!                           7             4           57.143\n",
       "Билет по телефону                 6             5           83.333\n",
       "Тех билет                         3             1           33.333\n",
       "Лимоны                            2             1           50.000\n",
       "Зе Бест!                          1             1          100.000"
      ]
     },
     "metadata": {},
     "output_type": "display_data"
    }
   ],
   "source": [
    "# Временно устанавливаем отображение всех строк\n",
    "# pd.set_option('display.max_rows', None)\n",
    "\n",
    "# Проходим по каждому признаку\n",
    "for col in f_o:\n",
    "    print(f'Распредление пользователей по признаку {col}:')\n",
    "    # Подсчитываем общее количество пользователей в каждом сегменте и добавляем столбец в датафрейм\n",
    "    segment = user_profile[col].value_counts().to_frame('users_count')\n",
    "    # Подсчитываем количество пользователей, совершивших 2+ заказов в каждом сегменте и добавляем столбец в датафрейм\n",
    "    segment['is_two_count'] = user_profile.groupby(col)['is_two'].sum()\n",
    "    # Подсчитываем долю пользователей, совершивших 2+ заказов в каждом сегменте и добавляем столбец в датафрейм\n",
    "    segment['is_two_ratio, %'] = (user_profile.groupby(col)['is_two'].mean() * 100).round(3)\n",
    "    # Выводим результаты подсчётов\n",
    "    display(segment)\n",
    "\n",
    "# Возвращаем настройки отображения всех строк по умолчанию\n",
    "# pd.reset_option('display.max_rows')"
   ]
  },
  {
   "cell_type": "markdown",
   "id": "60073980",
   "metadata": {},
   "source": [
    "Визуализируем результаты с использованием горизонтальных столбчатых диаграмм. Для сегментов по региону и билетному оператору на графиках оставим только ТОП-10 с наибольшим количеством пользователей:"
   ]
  },
  {
   "cell_type": "code",
   "execution_count": 52,
   "id": "f8a9badd",
   "metadata": {},
   "outputs": [
    {
     "name": "stdout",
     "output_type": "stream",
     "text": [
      "\n",
      "График для признака f_o_event_type:\n"
     ]
    },
    {
     "data": {
      "image/png": "[encoded data removed]",
      "text/plain": [
       "<Figure size 1000x500 with 1 Axes>"
      ]
     },
     "metadata": {},
     "output_type": "display_data"
    },
    {
     "name": "stdout",
     "output_type": "stream",
     "text": [
      "\n",
      "График для признака f_o_device:\n"
     ]
    },
    {
     "data": {
      "image/png": "[encoded data removed]",
      "text/plain": [
       "<Figure size 1000x500 with 1 Axes>"
      ]
     },
     "metadata": {},
     "output_type": "display_data"
    },
    {
     "name": "stdout",
     "output_type": "stream",
     "text": [
      "\n",
      "График для признака f_o_region:\n"
     ]
    },
    {
     "data": {
      "image/png": "[encoded data removed]",
      "text/plain": [
       "<Figure size 1000x500 with 1 Axes>"
      ]
     },
     "metadata": {},
     "output_type": "display_data"
    },
    {
     "name": "stdout",
     "output_type": "stream",
     "text": [
      "\n",
      "График для признака f_o_service:\n"
     ]
    },
    {
     "data": {
      "image/png": "[encoded data removed]",
      "text/plain": [
       "<Figure size 1000x500 with 1 Axes>"
      ]
     },
     "metadata": {},
     "output_type": "display_data"
    }
   ],
   "source": [
    "# Проходим по каждому признаку\n",
    "for col in f_o:\n",
    "    print(f'\\nГрафик для признака {col}:')\n",
    "    # Подсчитываем количество и долю пользователей с 2+ заказами в каждом сегменте и добавляем столбцы в датафрейм\n",
    "    segment = user_profile.groupby(col)['is_two'].agg(['count', 'mean'])\n",
    "    # Переводим долю пользователей с 2+ заказами в проценты\n",
    "    segment['mean'] = segment['mean'] * 100\n",
    "    # Сортируем датафрейм по убыванию количества пользователей с 2+ заказами (для получения ТОПа)\n",
    "    segment = segment.sort_values('count', ascending = False)\n",
    "\n",
    "    # Для регионов и билетных операторов оставляем только ТОП-10 по количеству пользователей\n",
    "    if col in ['f_o_region', 'f_o_service']:\n",
    "        segment = segment.head(10)\n",
    "\n",
    "    # Сортируем датафрейм по убыванию доли пользователей с 2+ заказами (для наглядности графиков)\n",
    "    segment = segment.sort_values('mean', ascending = False)\n",
    "\n",
    "    # Создаём контейнеры для графиков matplotlib и задаём размер\n",
    "    plt.figure(figsize = (10, 5))\n",
    "\n",
    "    # Строим горизонтальные столбчатые диаграмму через plot(kind = 'barh') для каждого признака\n",
    "    segment['mean'][::-1].plot(\n",
    "        kind='barh',\n",
    "        color = ['#deebf7', '#c6dbef', '#9ecae1', '#6baed6', '#4292c6', '#2171b5', '#08519c', '#08306b', '#041e42', '#000b1f'], # Цвет столбцов - градиент синего\n",
    "        edgecolor = 'black' # Цвет обводки - чёрный\n",
    "    )\n",
    "\n",
    "    # Наносим на график линию с долей пользователей с 2+ заказами по всей выборке\n",
    "    plt.axvline(is_two_ratio, color = 'red', linestyle = '--', label = f'Доля по всей выборке: {is_two_ratio}%')\n",
    "\n",
    "    # Подписываем график и оси\n",
    "    plt.title(f'Признак {col}')\n",
    "    plt.xlabel('Доля пользователей, совершивших 2+ заказа (%)')\n",
    "    plt.ylabel('')\n",
    "\n",
    "    # Устанавливаем границы оси X\n",
    "    plt.xlim(52.5, 63.5)\n",
    "    # Добавляем деления на оси X\n",
    "    plt.xticks([52.5 + i for i in range(12)])\n",
    "\n",
    "    # Добавляем вертикальную сетку графиков и легенду\n",
    "    plt.grid(axis = 'x', alpha = 0.3)\n",
    "    plt.legend(loc = 'lower right')\n",
    "    plt.tight_layout() # автоматическая подстройка отступов\n",
    "    # Выводим графики\n",
    "    plt.show()"
   ]
  },
  {
   "cell_type": "markdown",
   "id": "7bea13a2",
   "metadata": {},
   "source": [
    "По результатам вычислений и визуализаций можно сделать следующие выводы:\n",
    "- Доля пользователей, совершивших 2+ заказа по всей выборке составляет 58.5%. Сегменты, у которых доля выше этого значения, считаются успешными \"точками входа\".\n",
    "- Тип события:\n",
    "    - Наиболее лояльные аудитории - пользователи, покупающие билеты на выставки, в театр и концерты. У них доля повторных заказов выше средней - успешные \"точки входа\". Это может объясняться тем, что именно данные сегменты являются самыми регулярными.\n",
    "    - Сегменты спорт и ёлки возвращаются заметно реже. Возможное объяснение - маленькое количество спортивных событий, билеты на которые продаются именно на Яндекс Афише, т.к. на них всё-таки билеты чаще продаются в более специализированных сервисах (таких как официальные сайты клубов и спортивные агрегаторы); для ёлок - сезонность.\n",
    "- Тип устройства:\n",
    "    - Пользователи ПК возвращаются чаще, у них доля повторных заказов выше средней - успешная \"точка входа\". Возможно, это более \"осознанная\" аудитория - делает покупки из дома, вдумчиво выбирает. Мобильные пользователи немного уступают ПК, но их количество почти в 5 раз превышает пользователей ПК, что делает их стратегически важными.\n",
    "- Регионы проведения мероприятия:\n",
    "    - Наиболее лояльные пользователи из Шанырского региона, Светополянского округа и Широковской области. Эти регионы имеют самые высокие доли повторных заказов при достаточном числе пользователей (> 420). Их можно назвать самыми успешными \"точками входа\", однако есть и другие, где доля немного меньше (всё еще выше средней), но число пользователей больше (вплоть до ~ 6.5 тысяч).\n",
    "    - Малые регионы с долями 70% - 90% (например, Радужнопольский край или Озернопольская область) не стоит считать надёжными из-за маленького числа пользователей (десятки). В принципе к нестабильным регионам можно относить те, где < 100 пользователей (широкая вариативность, статистически ненадёжны).\n",
    "- Билетный оператор:\n",
    "    - Среди крупных операторов (от 326 и больше пользователей) выделяются Край билетов, Дом культуры, Весь в билетах - самые успешные \"точки входа\", а также можно выделить Show_ticket, который не попал в ТОП по количеству пользователей, но всё равно имеет достаточное их число (148) и наибольшую долю (~ 63%). \n",
    "    - Очень высокие доли (> 80%) у небольших операторов (например, Быстрый кассир и Билет по телефону) скорее статистическое отклонение - слишком маленькие числа пользователей (6 и 48 соответственно).\n",
    "- Главные выводы:\n",
    "    - Чаще возвращаются: театралы, посетители выставок и концертов, ПК-пользователи, несколько регионов с сильной лояльностью, крупные билетные операторы с высокой вовлечённостью.\n",
    "    - Успешные \"точки входа\" наблюдаются у всех признаков, отмечу: концерты, выставки и театры, обобщу, что более населённые регионы (хотя из-за анонимизированности это не подтвердить) с высокой культурной активностью и крупные билетные операторы (Край билетов, Дом культуры).\n",
    "    - Важно учитывать размер сегментов."
   ]
  },
  {
   "cell_type": "markdown",
   "id": "ba950450",
   "metadata": {},
   "source": [
    "---\n",
    "\n",
    "- 4.1.3 Опираясь на полученные выше результаты, проверим две продуктовые гипотезы:"
   ]
  },
  {
   "cell_type": "markdown",
   "id": "c9d8f455",
   "metadata": {},
   "source": [
    "**Гипотеза 1.** Тип мероприятия влияет на вероятность возврата на Яндекс Афишу: пользователи, которые совершили первый заказ на спортивные мероприятия, совершают повторный заказ чаще, чем пользователи, оформившие свой первый заказ на концерты."
   ]
  },
  {
   "cell_type": "markdown",
   "id": "5c770772",
   "metadata": {},
   "source": [
    "Согласно полученным в **Пункте 4.1.2** результатам:\n",
    "\n",
    "||Спорт|Концерты|\n",
    "|-|-|-|\n",
    "|Количество пользователей|760|8905|\n",
    "|Количество пользователей, совершивших повторный заказ|409|5257|\n",
    "|Доля пользователей, совершивших повторный зказ|53.816%|59.034%|\n",
    "\n",
    "***Вывод: гипотеза не подтверждается.** Пользователи, которые совершили первый заказ в сервисе на спортивные мероприятия, возвращаются на Яндекс Афишу реже, чем пользователи, впервые купившие билеты на концерты. Разница более чем в 5%. Стоит отметить, что сегмент спорт не большой, всего 760 пользователей (меньше только у выставок и ёлок) против 8905 у концертов (самый большой сегмент), поэтому достоверность оценки немного снижается. Как я отмечал выше, объяснением небольшого числа пользователей и процентом возврата у спортивных мероприятий может быть количество спортивных событий, билеты на которые продаются именно на Яндекс Афише, т.к. на них всё-таки билеты чаще продаются в более специализированных сервисах (таких как официальные сайты клубов и спортивные агрегаторы), в то время как концерты - один из самых распространенных сегментов на сайте.*"
   ]
  },
  {
   "cell_type": "markdown",
   "id": "c3e416f5",
   "metadata": {},
   "source": [
    "**Гипотеза 2.** В регионах, где больше всего пользователей посещают мероприятия, выше доля повторных заказов, чем в менее активных регионах."
   ]
  },
  {
   "cell_type": "markdown",
   "id": "e8d62a2a",
   "metadata": {},
   "source": [
    "Для того, чтобы подтвердить или опровергнуть эту гипотезу проведём дополнительные действия. Чтобы корректно сравнить активные и менее активные регионы, выделим диапазоны количества пользователей, по которым будем считать является ли регион активным, потому что просто взять, например, 10 самых больших и 10 самых маленьких будет не правильно. Среди регионов есть те, где доли недостоверны и можно сказать случайны из-за того, что количество пользователей в них слишком мало.\n",
    "\n",
    "Чтобы результат был устойчивым, возьмём регионы с не менее 100 пользователей и разделим их на две группы:\n",
    "- Активными регионами будем считать те, где больше 1000 пользователей.\n",
    "- Менее активными будем считать те, где 100 - 999 пользователей.\n",
    "\n",
    "Для наших данных такие группы будут наиболее корректно отражать действительность:"
   ]
  },
  {
   "cell_type": "code",
   "execution_count": 53,
   "id": "01ab1ff4",
   "metadata": {},
   "outputs": [
    {
     "data": {
      "text/html": [
       "<div>\n",
       "<style scoped>\n",
       "    .dataframe tbody tr th:only-of-type {\n",
       "        vertical-align: middle;\n",
       "    }\n",
       "\n",
       "    .dataframe tbody tr th {\n",
       "        vertical-align: top;\n",
       "    }\n",
       "\n",
       "    .dataframe thead th {\n",
       "        text-align: right;\n",
       "    }\n",
       "</style>\n",
       "<table border=\"1\" class=\"dataframe\">\n",
       "  <thead>\n",
       "    <tr style=\"text-align: right;\">\n",
       "      <th></th>\n",
       "      <th>activity_group</th>\n",
       "      <th>regions_count</th>\n",
       "      <th>total_users</th>\n",
       "      <th>total_is_two_users</th>\n",
       "      <th>is_two_ratio, %</th>\n",
       "    </tr>\n",
       "  </thead>\n",
       "  <tbody>\n",
       "    <tr>\n",
       "      <th>0</th>\n",
       "      <td>Активные регионы (1000+ пользователей)</td>\n",
       "      <td>3</td>\n",
       "      <td>11168</td>\n",
       "      <td>6707</td>\n",
       "      <td>60.056</td>\n",
       "    </tr>\n",
       "    <tr>\n",
       "      <th>1</th>\n",
       "      <td>Менее активные регионы (100 - 1000 пользователей)</td>\n",
       "      <td>24</td>\n",
       "      <td>7204</td>\n",
       "      <td>4135</td>\n",
       "      <td>57.399</td>\n",
       "    </tr>\n",
       "  </tbody>\n",
       "</table>\n",
       "</div>"
      ],
      "text/plain": [
       "                                      activity_group  regions_count  \\\n",
       "0             Активные регионы (1000+ пользователей)              3   \n",
       "1  Менее активные регионы (100 - 1000 пользователей)             24   \n",
       "\n",
       "   total_users  total_is_two_users  is_two_ratio, %  \n",
       "0        11168                6707           60.056  \n",
       "1         7204                4135           57.399  "
      ]
     },
     "execution_count": 53,
     "metadata": {},
     "output_type": "execute_result"
    }
   ],
   "source": [
    "# Подсчитываем общее количество пользователей и пользователей с 2+ заказами в каждом регионе\n",
    "region_stats = user_profile.groupby('f_o_region')['is_two'].agg(['count', 'sum']).reset_index()\n",
    "\n",
    "# Создаём функцию для определения активности региона\n",
    "def activity(users):\n",
    "    if users > 1000:\n",
    "        return 'Активные регионы (1000+ пользователей)'\n",
    "    elif users >= 100:\n",
    "        return 'Менее активные регионы (100 - 1000 пользователей)'\n",
    "    else:\n",
    "        return 'Неактивные регионы (< 100 пользователей)'\n",
    "    \n",
    "# Добавляем столбец с уровнем активности\n",
    "region_stats['activity_group'] = region_stats['count'].apply(activity)\n",
    "\n",
    "# Оставляем только 2 нужные группы\n",
    "region_stats = region_stats[region_stats['activity_group'] != 'Неактивные регионы (< 100 пользователей)']\n",
    "\n",
    "# Группируем по уровню активности и считаем нужные характеристики\n",
    "activity_compare = region_stats.groupby('activity_group').agg(\n",
    "    regions_count = ('count', 'count'),\n",
    "    total_users = ('count', 'sum'),\n",
    "    total_is_two_users = ('sum', 'sum')\n",
    ").reset_index()\n",
    "\n",
    "# Вычисляем долю пользователей, совершивших повторный заказ\n",
    "activity_compare['is_two_ratio, %'] = (activity_compare['total_is_two_users'] / activity_compare['total_users'] * 100).round(3)\n",
    "\n",
    "# Выводим результаты\n",
    "activity_compare"
   ]
  },
  {
   "cell_type": "markdown",
   "id": "c4d087a5",
   "metadata": {},
   "source": [
    "***Вывод: гипотеза подтверждается.** В регионах, где больше всего пользователей посещают мероприятия, выше доля повторных заказов, чем в менее активных регионах. Разница ~ 2.66%. Хотя она и не большая, но устойчивая и направленная (объем данных достаточен) - в активных регионах действительно наблюдается немного более высокая доля возвратов пользователей на Яндекс Афишу. Это может указывать на то, что развитая событийная, культурная, спортивная активность региона способствует возвращению пользователей в сервис. Но т.к. разница невелика, влияние активности региона на повторные заказы умеренное, а не решающее.*"
   ]
  },
  {
   "cell_type": "markdown",
   "id": "38630b9f",
   "metadata": {},
   "source": [
    "---\n",
    "\n",
    "### 4.2 Исследование поведения пользователей через показатели выручки и состава заказа\n",
    "\n",
    "Изучим количественные характеристики заказов пользователей, чтобы узнать среднюю выручку сервиса с заказа и количество билетов, которое пользователи обычно покупают."
   ]
  },
  {
   "cell_type": "markdown",
   "id": "b9304f7c",
   "metadata": {},
   "source": [
    "- 4.2.1 Проследим связь между средней выручкой сервиса с заказа и повторными заказами.\n",
    "\n",
    "Построим сравнительные гистограммы распределения средней выручки с заказа:\n",
    "- Для пользователей, совершивших один заказ;\n",
    "- Для вернувшихся пользователей, совершивших 2 и более заказа."
   ]
  },
  {
   "cell_type": "code",
   "execution_count": 54,
   "id": "6e93117d",
   "metadata": {},
   "outputs": [
    {
     "data": {
      "image/png": "[encoded data removed]",
      "text/plain": [
       "<Figure size 1200x600 with 1 Axes>"
      ]
     },
     "metadata": {},
     "output_type": "display_data"
    }
   ],
   "source": [
    "# Создаём контейнер графика matplotlib и задаём его размер\n",
    "plt.figure(figsize = (12, 6))\n",
    "\n",
    "# Строим гистограмму через plot(kind = 'hist') для пользователей, совершивших один заказ \n",
    "user_profile[user_profile['is_two'] == 0]['avg_revenue'].plot(kind = 'hist', \n",
    "    bins = 75, \n",
    "    alpha = 0.9, # Задаём прозрачность\n",
    "    label = '1 заказ', # Добавляем подпись в легенду\n",
    "    edgecolor = 'black', # Цвет обводки - чёрный\n",
    "    density = True # Включаем отображение относительной частоты\n",
    ")\n",
    "# Строим гистограмму через plot(kind = 'hist') для пользователей, совершивших 2+ заказов\n",
    "user_profile[user_profile['is_two'] == 1]['avg_revenue'].plot(kind = 'hist', \n",
    "    bins = 75, \n",
    "    alpha = 0.5, # Задаём прозрачность\n",
    "    label = '2+ заказа', # Добавляем подпись в легенду\n",
    "    edgecolor='black', # Цвет обводки - чёрный\n",
    "    density = True # Включаем отображение относительной частоты\n",
    ")\n",
    "\n",
    "# Подписываем заголовок и оси\n",
    "plt.title('Распределение средней выручки с заказа для пользователей с 1 и 2+ заказами')\n",
    "plt.xlabel('Средняя выручка с заказа (руб.)')\n",
    "plt.ylabel('Частота')\n",
    "\n",
    "# Добавляем легенду и сетку графика\n",
    "plt.legend()\n",
    "plt.grid(axis = 'y', alpha = 0.3)\n",
    "plt.tight_layout() # автоматическая подстройка отступов\n",
    "# Выводим график\n",
    "plt.show()"
   ]
  },
  {
   "cell_type": "markdown",
   "id": "ba49f613",
   "metadata": {},
   "source": [
    "- Пользователи с 1 заказом: основная масса сосредоточена в диапазоне средней выручки 0 - 500 руб.\n",
    "- Пользователи с 2+ заказами: основная масса сосредоточена в диапазоне 250 - 750 руб. \n",
    "- Различия между группами:\n",
    "    - У пользователей с 2+ заказами пик смещён вправо, в сторону более высокой средней выручки. Их распределение более концентрированное и равномерное. Хвост сглаженнее и короче.\n",
    "    - Одноразовые пользователи чаще встречаются среди заказов с маленькой выручкой (чаще всего до 100 руб.) и имеют более длинный хвост.\n",
    "\n",
    "Пользователи, которые возвращаются в сервис, судя по гистограмме приносят большую среднюю выручку, чем разовые пользователи. Также они имеют более стабильное поведение."
   ]
  },
  {
   "cell_type": "markdown",
   "id": "d64e6707",
   "metadata": {},
   "source": [
    "- 4.2.2 Сравним распределение по средней выручке с заказа в двух следующих группах пользователей."
   ]
  },
  {
   "cell_type": "markdown",
   "id": "e082542b",
   "metadata": {},
   "source": [
    "Построим сравнительные гистограммы распределения средней выручки с заказа:\n",
    "- Для пользователей, совершивших 2 - 4 заказа;\n",
    "- Для пользователей, совершивших 5 и более заказов."
   ]
  },
  {
   "cell_type": "code",
   "execution_count": 55,
   "id": "1200e227",
   "metadata": {},
   "outputs": [
    {
     "data": {
      "image/png": "[encoded data removed]",
      "text/plain": [
       "<Figure size 1200x600 with 1 Axes>"
      ]
     },
     "metadata": {},
     "output_type": "display_data"
    }
   ],
   "source": [
    "# Создаём контейнер графика matplotlib и задаём его размер\n",
    "plt.figure(figsize = (12, 6))\n",
    "\n",
    "# Строим гистограмму через plot(kind = 'hist') для пользователей, совершивших 2 - 4 заказа \n",
    "user_profile[(user_profile['is_two'] == 1) & (user_profile['is_five'] == 0)]['avg_revenue'].plot(kind = 'hist', \n",
    "    bins = 75, \n",
    "    alpha = 0.9, # Задаём прозрачность\n",
    "    label = '2 - 4 заказа', # Добавляем подпись в легенду\n",
    "    edgecolor = 'black', # Цвет обводки - чёрный\n",
    "    density = True # Включаем отображение относительной частоты\n",
    ")\n",
    "# Строим гистограмму через plot(kind = 'hist') для пользователей, совершивших 5+ заказов\n",
    "user_profile[user_profile['is_five'] == 1]['avg_revenue'].plot(kind = 'hist', \n",
    "    bins = 75, \n",
    "    alpha = 0.5, # Задаём прозрачность\n",
    "    label = '5+ заказа', # Добавляем подпись в легенду\n",
    "    edgecolor='black', # Цвет обводки - чёрный\n",
    "    density = True # Включаем отображение относительной частоты\n",
    ")\n",
    "\n",
    "# Подписываем заголовок и оси\n",
    "plt.title('Распределение средней выручки с заказа для пользователей с 2 - 4 и 5+ заказами')\n",
    "plt.xlabel('Средняя выручка с заказа (руб.)')\n",
    "plt.ylabel('Частота')\n",
    "\n",
    "# Добавляем легенду и сетку графика\n",
    "plt.legend()\n",
    "plt.grid(axis = 'y', alpha = 0.3)\n",
    "plt.tight_layout() # автоматическая подстройка отступов\n",
    "# Выводим график\n",
    "plt.show()"
   ]
  },
  {
   "cell_type": "markdown",
   "id": "32fd1cb7",
   "metadata": {},
   "source": [
    "Распределение значений средней выручки с заказа между пользователями с 2 - 4 заказами и 5+ заказами различаются:\n",
    "- Распределение для пользователей с 2 - 4 заказами смещено влево, с более высокой частотой в диапазоне низких значений средней выручки.\n",
    "- Распределение для пользователей с 5+ заказами смещено вправо по сравнению с первым, имеет более выраженный пик, вокруг которого сосредоточена основная масса значений. Распределение более концентрированное.\n",
    "- У пользователей с 5+ заказами основная масса сосредоточена в диапазоне 300 - 800 руб., а у пользователей с 2 - 4 заказами до 500 руб.\n",
    "- Картина напоминает предыдущую (1 и 2+ заказов). По результатам двух построений сравнительных гистограмм можно сделать вывод, что более стабильно высокую среднюю выручку имеют пользователи, совершившие большее количество заказов. Это говорит о постепенном приобретении лояльности к сервису у клиентов - сначала клиент чаще готов совершать дешевые покупки, а с приобретенным доверием к Яндекс Афише более дорогие, принося соответственно большую выручку сервису. Это не говорит о том, что разовые или не самые частые клиенты не совершают дорогих покупок (по распределениям видно, что они присутствуют у всех пользователей), просто чем чаще клиенты пользуется сервисом, тем стабильнее средняя выручка движется в большую сторону."
   ]
  },
  {
   "cell_type": "markdown",
   "id": "8f748b7f",
   "metadata": {},
   "source": [
    "- 4.2.3 Проанализируем влияние среднего количества билетов в заказе на вероятность повторной покупки."
   ]
  },
  {
   "cell_type": "markdown",
   "id": "f3082a6a",
   "metadata": {},
   "source": [
    "Изучим распределение пользователей по среднему количеству билетов в заказе. Сделаем две гистограммы - обычную и с логарифмической шкалой Y для того, чтобы были видны редкие значения (с большим количеством билетов), то есть, чтобы хвост распределения не терялся внизу гистограммы. Так мы увидим и частые, и редкие значения на одном графике:"
   ]
  },
  {
   "cell_type": "code",
   "execution_count": 56,
   "id": "6cda84b1",
   "metadata": {},
   "outputs": [
    {
     "data": {
      "image/png": "[encoded data removed]",
      "text/plain": [
       "<Figure size 1200x600 with 1 Axes>"
      ]
     },
     "metadata": {},
     "output_type": "display_data"
    },
    {
     "data": {
      "image/png": "[encoded data removed]",
      "text/plain": [
       "<Figure size 1200x600 with 1 Axes>"
      ]
     },
     "metadata": {},
     "output_type": "display_data"
    }
   ],
   "source": [
    "# Гистограмма \"Распределение пользователей по среднему количеству билетов в заказе\"\n",
    "\n",
    "# Создаём контейнер графика matplotlib и задаём его размер\n",
    "plt.figure(figsize = (12, 6))\n",
    "\n",
    "# Строим гистограмму через plot(kind = 'hist') \n",
    "user_profile['avg_tickets_count'].plot(kind = 'hist', \n",
    "    bins = range(1, 13), # корзины по каждому целому числу\n",
    "    color = 'skyblue', # Цвет столбцов - небесно-голубой\n",
    "    edgecolor = 'black' # Цвет обводки - чёрный\n",
    ")\n",
    "\n",
    "# Подписываем заголовок и оси\n",
    "plt.title('Распределение пользователей по среднему количеству билетов в заказе')\n",
    "plt.xlabel('Среднее количество билетов в заказе')\n",
    "plt.ylabel('Частота')\n",
    "\n",
    "# Добавляем легенду и сетку графика\n",
    "plt.grid(axis = 'y', alpha = 0.3)\n",
    "plt.tight_layout() # автоматическая подстройка отступов\n",
    "# Выводим график\n",
    "plt.show()\n",
    "\n",
    "###\n",
    "\n",
    "# Гистограмма \"Распределение пользователей по среднему количеству билетов в заказе (с log шкалой Y)\"\n",
    "\n",
    "# Создаём контейнер графика matplotlib и задаём его размер\n",
    "plt.figure(figsize=(12, 6))\n",
    "\n",
    "# Строим гистограмму через plot(kind = 'hist') \n",
    "user_profile['avg_tickets_count'].plot(kind = 'hist', \n",
    "    bins = range(1, 13), # корзины по каждому целому числу\n",
    "    color = 'skyblue', # Цвет столбцов - небесно-голубой\n",
    "    edgecolor = 'black', # Цвет обводки - чёрный\n",
    "    logy = True # Логарифмическая шкала по оси Y\n",
    ")\n",
    "\n",
    "# Подписываем заголовок и оси\n",
    "plt.title('Распределение пользователей по среднему количеству билетов в заказе (с log шкалой Y)')\n",
    "plt.xlabel('Среднее количество билетов в заказе')\n",
    "plt.ylabel('Частота (log масштаб)')\n",
    "\n",
    "# Добавляем легенду и сетку графика\n",
    "plt.grid(axis = 'y', alpha = 0.3)\n",
    "plt.tight_layout() # автоматическая подстройка отступов\n",
    "# Выводим график\n",
    "plt.show()"
   ]
  },
  {
   "cell_type": "markdown",
   "id": "d667e947",
   "metadata": {},
   "source": [
    "- Основная масса пользователей в среднем приобретают от 2 до 4 билетов в одном заказе. Значения между 2 и 3 билетами самые распространенные. \n",
    "- Средние значения меньше 2 и от 4 до 6 билетов встречаются реже.\n",
    "- Средние значения больше 6 билетов - крайне редкие единичные явления.\n",
    "- Распределение показывает, что пользователи в основном покупают билеты на себя или небольшую компанию."
   ]
  },
  {
   "cell_type": "markdown",
   "id": "08e77028",
   "metadata": {},
   "source": [
    "Разделим пользователей на несколько сегментов по среднему количеству билетов в заказе:\n",
    "- от 1 до 2 билетов;\n",
    "- от 2 до 3 билетов;\n",
    "- от 3 до 5 билетов;\n",
    "- от 5 и более билетов.\n",
    "\n",
    "Для каждого сегмента подсчитаем общее число пользователей и долю пользователей, совершивших повторные заказы:"
   ]
  },
  {
   "cell_type": "code",
   "execution_count": 57,
   "id": "e207f169",
   "metadata": {},
   "outputs": [
    {
     "data": {
      "text/html": [
       "<div>\n",
       "<style scoped>\n",
       "    .dataframe tbody tr th:only-of-type {\n",
       "        vertical-align: middle;\n",
       "    }\n",
       "\n",
       "    .dataframe tbody tr th {\n",
       "        vertical-align: top;\n",
       "    }\n",
       "\n",
       "    .dataframe thead th {\n",
       "        text-align: right;\n",
       "    }\n",
       "</style>\n",
       "<table border=\"1\" class=\"dataframe\">\n",
       "  <thead>\n",
       "    <tr style=\"text-align: right;\">\n",
       "      <th></th>\n",
       "      <th>users_count</th>\n",
       "      <th>is_two_count</th>\n",
       "      <th>is_two_ratio, %</th>\n",
       "    </tr>\n",
       "    <tr>\n",
       "      <th>tickets_segment</th>\n",
       "      <th></th>\n",
       "      <th></th>\n",
       "      <th></th>\n",
       "    </tr>\n",
       "  </thead>\n",
       "  <tbody>\n",
       "    <tr>\n",
       "      <th>[1 - 2) билета</th>\n",
       "      <td>2341</td>\n",
       "      <td>1166</td>\n",
       "      <td>49.808</td>\n",
       "    </tr>\n",
       "    <tr>\n",
       "      <th>[2 - 3) билета</th>\n",
       "      <td>8527</td>\n",
       "      <td>6020</td>\n",
       "      <td>70.599</td>\n",
       "    </tr>\n",
       "    <tr>\n",
       "      <th>[3 - 5) билетов</th>\n",
       "      <td>8613</td>\n",
       "      <td>4475</td>\n",
       "      <td>51.956</td>\n",
       "    </tr>\n",
       "    <tr>\n",
       "      <th>[5+ билетов</th>\n",
       "      <td>656</td>\n",
       "      <td>119</td>\n",
       "      <td>18.140</td>\n",
       "    </tr>\n",
       "  </tbody>\n",
       "</table>\n",
       "</div>"
      ],
      "text/plain": [
       "                 users_count  is_two_count  is_two_ratio, %\n",
       "tickets_segment                                            \n",
       "[1 - 2) билета          2341          1166           49.808\n",
       "[2 - 3) билета          8527          6020           70.599\n",
       "[3 - 5) билетов         8613          4475           51.956\n",
       "[5+ билетов              656           119           18.140"
      ]
     },
     "execution_count": 57,
     "metadata": {},
     "output_type": "execute_result"
    }
   ],
   "source": [
    "# Создаём функцию для определения сегмента по количеству билетов в заказе\n",
    "def num_of_tickets(x):\n",
    "    if x < 2:\n",
    "        return '[1 - 2) билета'\n",
    "    elif x < 3:\n",
    "        return '[2 - 3) билета'\n",
    "    elif x < 5:\n",
    "        return '[3 - 5) билетов'\n",
    "    else:\n",
    "        return '[5+ билетов'\n",
    "\n",
    "# Создаём копию датафрейма user_profile\n",
    "user_profile_copy = user_profile.copy()\n",
    "\n",
    "# Добавляем столбец с сегментацией к копии датафрейма user_profile\n",
    "user_profile_copy['tickets_segment'] = user_profile_copy['avg_tickets_count'].apply(num_of_tickets)\n",
    "\n",
    "# Подсчитываем общее количество пользователей и количество пользоватедей с 2+ заказами в каждом сегменте и добавляем столбец в новый датафрейм\n",
    "tickets_stats = user_profile_copy.groupby('tickets_segment').agg(\n",
    "    users_count = ('user_id', 'count'),\n",
    "    is_two_count = ('is_two', 'sum')\n",
    ")\n",
    "\n",
    "# Подсчитываем долю пользователей с 2+ заказами в каждом сегменте и добавляем столбец в датафрейм\n",
    "tickets_stats['is_two_ratio, %'] = (tickets_stats['is_two_count'] / tickets_stats['users_count'] * 100).round(3)\n",
    "\n",
    "# Выводим результаты подсчётов\n",
    "tickets_stats"
   ]
  },
  {
   "cell_type": "markdown",
   "id": "23aca590",
   "metadata": {},
   "source": [
    "- Пользователи распределены по сегментам неравномерно, большая часть сконцентрирована в двух сегментах [2 - 3) билета в заказе и [3 - 5) билетов в заказе (по ~ 8.5 тысяч человек). Сегменты [1 - 2) билета и особенно [5+ билетов сильно меньше по числу пользователей (2341 и 656 соответственно).\n",
    "- Наибольшая доля повторных заказов в сегменте [2 - 3) билета (~ 70,6%), что достаточно сильно превышают среднюю долю по всей выборке в 58.5%. Наименьшая доля [5+ билетов (~ 18,1%), что выглядит аномально низкой. Объяснить это можно следующим образом: ситуации, когда пользователи в среднем приобретают 5 и более билетов за заказ скорее всего относятся либо к небольшим корпоративам, либо совместным семейным походам, которые обычно происходят не так часто. А т.к. данные представлены у нас всего за 5 месяцев, можно предположить, что вторые такие события в основном еще не произошли. Ну и тем, что данный сегмент малочислен, поэтому статистика может быть не до конца точной.\n",
    "- Сегменты [1 - 2) билета и [3 - 5) билетов примерно равны по повторным покупкам (~ 50 - 52%).\n",
    "- Общий вывод: несколько билетов (2 - 4) приобретаются пользователями Яндекс Афиши чаще, чем 1 и больше 5. Самыми лояльными к возврату на сервис являются пользователи, приобретающие в среднем от 2 до 3 (не включительно) билетов. Такие значения получаются, если чаще в заказах фигурируют именно парные билеты. Это логичное явление, потому что на различные мероприятия, будь то концерт, спектакль, футбольный матч или что-либо еще, люди любят ходить парами, а также происходит это чаще чем, выше упомянутые коллективные события.\n"
   ]
  },
  {
   "cell_type": "markdown",
   "id": "82e321dd",
   "metadata": {},
   "source": [
    "---\n",
    "\n",
    "### 4.3 Исследование временных характеристик первого заказа и их влияния на повторные покупки"
   ]
  },
  {
   "cell_type": "markdown",
   "id": "46bf9dc0",
   "metadata": {},
   "source": [
    "Взглянем на временные параметры, связанные с первым заказом пользователей:\n",
    "- День недели первой покупки;\n",
    "- Время с момента первой покупки - лайфтайм;\n",
    "- Средний интервал между покупками пользователей с повторными заказами."
   ]
  },
  {
   "cell_type": "code",
   "execution_count": 58,
   "id": "c52d0991",
   "metadata": {},
   "outputs": [
    {
     "name": "stdout",
     "output_type": "stream",
     "text": [
      "Распределение пользователей по дням недели первой покупки:\n",
      " f_o_weekday\n",
      "Friday       3071\n",
      "Saturday     3013\n",
      "Thursday     2957\n",
      "Tuesday      2939\n",
      "Wednesday    2873\n",
      "Monday       2721\n",
      "Sunday       2563\n",
      "Name: count, dtype: int64\n",
      "\n",
      "Среднее время с момента первой покупки до последней: 32 days 02:52:28\n",
      "\n",
      "Средний интервал между покупками пользователей с повторными заказами: 13.1 дней\n"
     ]
    }
   ],
   "source": [
    "# Добавляем столбец со днём недели первой покупки к копии датафрейма user_profile\n",
    "user_profile_copy['f_o_weekday'] = user_profile_copy['first_order_dt'].dt.day_name()\n",
    "\n",
    "# Выводим распределение пользователей по дням недели первой покупки\n",
    "print('Распределение пользователей по дням недели первой покупки:\\n', user_profile_copy['f_o_weekday'].value_counts())\n",
    "\n",
    "# Добавляем столбец с лайфтаймом к копии датафрейма user_profile\n",
    "user_profile_copy['lifetime'] = user_profile_copy['last_order_dt'] - user_profile_copy['first_order_dt']\n",
    "\n",
    "# Выводим среднее время с момента первой покупки до последней\n",
    "print('\\nСреднее время с момента первой покупки до последней:', user_profile_copy['lifetime'].mean())\n",
    "\n",
    "# Выводим средний интервал между покупками пользователей с повторными заказами\n",
    "print('\\nСредний интервал между покупками пользователей с повторными заказами:', (user_profile_copy[user_profile_copy['is_two'] == 1]['avg_days_since_prev'].mean()).round(2), 'дней')"
   ]
  },
  {
   "cell_type": "markdown",
   "id": "d7eea53e",
   "metadata": {},
   "source": [
    "- 4.3.1. Проанализируем, как день недели, в которой была совершена первая покупка, влияет на поведение пользователей.\n",
    "\n",
    "Для каждого дня недели подсчитаем общее число пользователей и долю пользователей, совершивших повторные заказы:"
   ]
  },
  {
   "cell_type": "code",
   "execution_count": 59,
   "id": "ff3c3b75",
   "metadata": {},
   "outputs": [
    {
     "data": {
      "text/html": [
       "<div>\n",
       "<style scoped>\n",
       "    .dataframe tbody tr th:only-of-type {\n",
       "        vertical-align: middle;\n",
       "    }\n",
       "\n",
       "    .dataframe tbody tr th {\n",
       "        vertical-align: top;\n",
       "    }\n",
       "\n",
       "    .dataframe thead th {\n",
       "        text-align: right;\n",
       "    }\n",
       "</style>\n",
       "<table border=\"1\" class=\"dataframe\">\n",
       "  <thead>\n",
       "    <tr style=\"text-align: right;\">\n",
       "      <th></th>\n",
       "      <th>users_count</th>\n",
       "      <th>is_two_count</th>\n",
       "      <th>is_two_ratio, %</th>\n",
       "    </tr>\n",
       "    <tr>\n",
       "      <th>f_o_weekday</th>\n",
       "      <th></th>\n",
       "      <th></th>\n",
       "      <th></th>\n",
       "    </tr>\n",
       "  </thead>\n",
       "  <tbody>\n",
       "    <tr>\n",
       "      <th>Monday</th>\n",
       "      <td>2721</td>\n",
       "      <td>1642</td>\n",
       "      <td>60.345</td>\n",
       "    </tr>\n",
       "    <tr>\n",
       "      <th>Tuesday</th>\n",
       "      <td>2939</td>\n",
       "      <td>1731</td>\n",
       "      <td>58.898</td>\n",
       "    </tr>\n",
       "    <tr>\n",
       "      <th>Wednesday</th>\n",
       "      <td>2873</td>\n",
       "      <td>1718</td>\n",
       "      <td>59.798</td>\n",
       "    </tr>\n",
       "    <tr>\n",
       "      <th>Thursday</th>\n",
       "      <td>2957</td>\n",
       "      <td>1695</td>\n",
       "      <td>57.322</td>\n",
       "    </tr>\n",
       "    <tr>\n",
       "      <th>Friday</th>\n",
       "      <td>3071</td>\n",
       "      <td>1763</td>\n",
       "      <td>57.408</td>\n",
       "    </tr>\n",
       "    <tr>\n",
       "      <th>Saturday</th>\n",
       "      <td>3013</td>\n",
       "      <td>1776</td>\n",
       "      <td>58.945</td>\n",
       "    </tr>\n",
       "    <tr>\n",
       "      <th>Sunday</th>\n",
       "      <td>2563</td>\n",
       "      <td>1455</td>\n",
       "      <td>56.769</td>\n",
       "    </tr>\n",
       "  </tbody>\n",
       "</table>\n",
       "</div>"
      ],
      "text/plain": [
       "             users_count  is_two_count  is_two_ratio, %\n",
       "f_o_weekday                                            \n",
       "Monday              2721          1642           60.345\n",
       "Tuesday             2939          1731           58.898\n",
       "Wednesday           2873          1718           59.798\n",
       "Thursday            2957          1695           57.322\n",
       "Friday              3071          1763           57.408\n",
       "Saturday            3013          1776           58.945\n",
       "Sunday              2563          1455           56.769"
      ]
     },
     "execution_count": 59,
     "metadata": {},
     "output_type": "execute_result"
    }
   ],
   "source": [
    "# Подсчитываем общее количество пользователей и количество пользоватедей с 2+ заказами для каждого дня недели и добавляем столбец в новый датафрейм\n",
    "f_o_weekday_stats = user_profile_copy.groupby('f_o_weekday').agg(\n",
    "    users_count = ('user_id', 'count'),\n",
    "    is_two_count = ('is_two', 'sum')\n",
    ")\n",
    "\n",
    "# Подсчитываем долю пользоватедей с 2+ заказами для каждого дня недели и добавляем столбец в датафрейм\n",
    "f_o_weekday_stats['is_two_ratio, %'] = (f_o_weekday_stats['is_two_count'] / f_o_weekday_stats['users_count'] * 100).round(3)\n",
    "\n",
    "# Устанавливаем нужный порядок индексов\n",
    "weekday_order = ['Monday', 'Tuesday', 'Wednesday', 'Thursday', 'Friday', 'Saturday', 'Sunday']\n",
    "f_o_weekday_stats = f_o_weekday_stats.reindex(weekday_order)\n",
    "\n",
    "# Выводим результаты подсчётов\n",
    "f_o_weekday_stats"
   ]
  },
  {
   "cell_type": "markdown",
   "id": "83d510fa",
   "metadata": {},
   "source": [
    "Визуализируем результаты:"
   ]
  },
  {
   "cell_type": "code",
   "execution_count": 60,
   "id": "0ba1d56d",
   "metadata": {},
   "outputs": [
    {
     "data": {
      "image/png": "[encoded data removed]",
      "text/plain": [
       "<Figure size 1200x500 with 1 Axes>"
      ]
     },
     "metadata": {},
     "output_type": "display_data"
    }
   ],
   "source": [
    "# Создаём контейнеры для графиков matplotlib и задаём размер\n",
    "plt.figure(figsize = (12, 5))\n",
    "\n",
    "# Строим горизонтальную столбчатые диаграмму через plot(kind = 'barh')\n",
    "f_o_weekday_stats['is_two_ratio, %'].sort_values().plot(kind='barh', \n",
    "    color = ['#deebf7', '#b3d3e8', '#7fb9da', '#4b9ecb', '#2171b5', '#104076', '#000b1f'], # Цвет столбцов - градиент синего\n",
    "    edgecolor = 'black' # Цвет обводки - чёрный\n",
    ")\n",
    "\n",
    "# Наносим на график линию с долей пользователей с 2+ заказами по всей выборке\n",
    "plt.axvline(is_two_ratio, color = 'red', linestyle = '--', label = f'Доля по всей выборке: {is_two_ratio}%')\n",
    "\n",
    "# Подписываем график и оси\n",
    "plt.title('Доля пользователей с 2+ заказами по дню первой покупки')\n",
    "plt.xlabel('Доля пользователей, совершивших 2+ заказа (%)')\n",
    "plt.ylabel('День недели первой покупки')\n",
    "\n",
    "# Устанавливаем границы оси X\n",
    "plt.xlim(56.5, 60.5)\n",
    "# Добавляем деления на оси X\n",
    "plt.xticks([56.5 + 0.25 * i for i in range(17)])\n",
    "\n",
    "# Добавляем вертикальную сетку графиков и легенду\n",
    "plt.grid(axis = 'x', alpha = 0.3)\n",
    "plt.legend(loc = 'lower right')\n",
    "plt.tight_layout() # автоматическая подстройка отступов\n",
    "# Выводим графики\n",
    "plt.show()"
   ]
  },
  {
   "cell_type": "markdown",
   "id": "569f1cec",
   "metadata": {},
   "source": [
    "- День недели, в который совершена первая покупка, влияет на вероятность возврата клиента, но разница очень умеренная:\n",
    "    - Наиболее высокая доля повторных покупок, если первый заказ был совершен в понедельник (~ 60.3%) и среду (~ 59.8%).\n",
    "    - Наименьшая - в воскресенье (~ 56.8%).\n",
    "    - Разница между крайними значениями небольшая и составляет ~ 3.6%. Т.к. в каждом сегменте (дне) достаточно данных, можно сказать, что хоть и совсем слабая, но тенденция есть: в дни первого заказа на сервисе, относящиеся ко второй половине недели (с четверга и не включая субботу) доля возвратов меньше, чем в начале недели. Но я считаю, что все-таки серьезно обращать внимание на этот факт не стоит. Можно сказать, что день недели первого заказа слабо влияет на вероятность возврата клиента."
   ]
  },
  {
   "cell_type": "markdown",
   "id": "69370eeb",
   "metadata": {},
   "source": [
    "- 4.3.2 Изучим, как средний интервал между заказами влияет на удержание клиентов."
   ]
  },
  {
   "cell_type": "markdown",
   "id": "ca642e8a",
   "metadata": {},
   "source": [
    "Рассчитаем среднее время между заказами для двух групп пользователей:\n",
    "- Совершившие 2 - 4 заказа;\n",
    "- Совершившие 5 и более заказов."
   ]
  },
  {
   "cell_type": "code",
   "execution_count": 61,
   "id": "a0766c51",
   "metadata": {},
   "outputs": [
    {
     "name": "stdout",
     "output_type": "stream",
     "text": [
      "Среднее время между заказами для пользователей, совершивших 2 - 4 заказа: 14.68 дней\n",
      "Среднее время между заказами для пользователей, совершивших 5+ заказов: 11.13 дней\n"
     ]
    }
   ],
   "source": [
    "# Рассчитываем среднее время между заказами для групп пользователей\n",
    "print('Среднее время между заказами для пользователей, совершивших 2 - 4 заказа:',\\\n",
    "    (user_profile[(user_profile['is_two'] == 1) & (user_profile['is_five'] == 0)]['avg_days_since_prev'].mean()).round(2), 'дней')\n",
    "print('Среднее время между заказами для пользователей, совершивших 5+ заказов:',\\\n",
    "    (user_profile[user_profile['is_five'] == 1]['avg_days_since_prev'].mean()).round(2), 'дней')"
   ]
  },
  {
   "cell_type": "markdown",
   "id": "34b8913c",
   "metadata": {},
   "source": [
    "- Как видно по результатам, чем короче среднее время между заказами, тем больше вероятность повторного заказа.\n",
    "- Пользователи, которые делают 5 и более заказов, покупают чаще. Те, кто сделал всего 2 - 4 заказа, делают это реже, их интерес или привычка к покупкам слабее.\n",
    "- Общий вывод: короткий интервал между покупками - признак высокого удержания и вероятности дальнейших заказов. Долгий интервал - сигнал снижения вовлечённости и повышенного риска ухода клиентов из сервиса."
   ]
  },
  {
   "cell_type": "markdown",
   "id": "7fb4092f",
   "metadata": {},
   "source": [
    "---\n",
    "\n",
    "### 4.4 Корреляционный анализ количества покупок и признаков пользователя\n",
    "\n",
    "Изучим, какие характеристики первого заказа и профиля пользователя могут быть связаны с числом покупок. Для этого используем универсальный коэффициент корреляции phi_k."
   ]
  },
  {
   "cell_type": "markdown",
   "id": "44bcb06a",
   "metadata": {},
   "source": [
    "Вычислим корреляционную матрицу для числовых и категориальных признаков:"
   ]
  },
  {
   "cell_type": "code",
   "execution_count": 62,
   "id": "cbed9c4f",
   "metadata": {},
   "outputs": [
    {
     "name": "stdout",
     "output_type": "stream",
     "text": [
      "Корреляционная матрица с коэффициентом phi_k для столбца 'total_orders':\n"
     ]
    },
    {
     "data": {
      "text/html": [
       "<div>\n",
       "<style scoped>\n",
       "    .dataframe tbody tr th:only-of-type {\n",
       "        vertical-align: middle;\n",
       "    }\n",
       "\n",
       "    .dataframe tbody tr th {\n",
       "        vertical-align: top;\n",
       "    }\n",
       "\n",
       "    .dataframe thead th {\n",
       "        text-align: right;\n",
       "    }\n",
       "</style>\n",
       "<table border=\"1\" class=\"dataframe\">\n",
       "  <thead>\n",
       "    <tr style=\"text-align: right;\">\n",
       "      <th></th>\n",
       "      <th>total_orders</th>\n",
       "    </tr>\n",
       "  </thead>\n",
       "  <tbody>\n",
       "    <tr>\n",
       "      <th>avg_days_since_prev</th>\n",
       "      <td>0.701968</td>\n",
       "    </tr>\n",
       "    <tr>\n",
       "      <th>avg_tickets_count</th>\n",
       "      <td>0.299343</td>\n",
       "    </tr>\n",
       "    <tr>\n",
       "      <th>avg_revenue</th>\n",
       "      <td>0.254361</td>\n",
       "    </tr>\n",
       "    <tr>\n",
       "      <th>f_o_device</th>\n",
       "      <td>0.052590</td>\n",
       "    </tr>\n",
       "    <tr>\n",
       "      <th>f_o_event_type</th>\n",
       "      <td>0.036634</td>\n",
       "    </tr>\n",
       "    <tr>\n",
       "      <th>f_o_service</th>\n",
       "      <td>0.029405</td>\n",
       "    </tr>\n",
       "    <tr>\n",
       "      <th>f_o_region</th>\n",
       "      <td>0.000000</td>\n",
       "    </tr>\n",
       "  </tbody>\n",
       "</table>\n",
       "</div>"
      ],
      "text/plain": [
       "                     total_orders\n",
       "avg_days_since_prev      0.701968\n",
       "avg_tickets_count        0.299343\n",
       "avg_revenue              0.254361\n",
       "f_o_device               0.052590\n",
       "f_o_event_type           0.036634\n",
       "f_o_service              0.029405\n",
       "f_o_region               0.000000"
      ]
     },
     "execution_count": 62,
     "metadata": {},
     "output_type": "execute_result"
    }
   ],
   "source": [
    "# Вычисляем корреляционную матрицу с использованием phi_k\n",
    "correlation_matrix = user_profile[['total_orders', 'f_o_device', 'f_o_region', 'f_o_service', 'f_o_event_type', 'avg_revenue', 'avg_tickets_count', 'avg_days_since_prev']].phik_matrix(\n",
    "    interval_cols = ['avg_revenue', 'avg_tickets_count', 'avg_days_since_prev'])\n",
    "\n",
    "# Выводим результат\n",
    "print(\"Корреляционная матрица с коэффициентом phi_k для столбца 'total_orders':\")\n",
    "correlation_matrix[correlation_matrix.index != 'total_orders'][['total_orders']].sort_values(by = 'total_orders', ascending = False)"
   ]
  },
  {
   "cell_type": "markdown",
   "id": "8090d2af",
   "metadata": {},
   "source": [
    "Среди полученных значений много околонулевых. Проверим разброс данных в столбце `total_orders`:"
   ]
  },
  {
   "cell_type": "code",
   "execution_count": 63,
   "id": "919c5f8e",
   "metadata": {},
   "outputs": [
    {
     "data": {
      "text/plain": [
       "total_orders\n",
       "1     8357\n",
       "2     3022\n",
       "3     2116\n",
       "4     1401\n",
       "5      969\n",
       "6      702\n",
       "7      541\n",
       "8      453\n",
       "9      385\n",
       "10     287\n",
       "11     234\n",
       "12     198\n",
       "14     156\n",
       "13     153\n",
       "16     137\n",
       "15     125\n",
       "17     104\n",
       "18      84\n",
       "21      77\n",
       "19      72\n",
       "22      69\n",
       "20      68\n",
       "24      65\n",
       "25      60\n",
       "23      58\n",
       "26      54\n",
       "27      50\n",
       "28      46\n",
       "29      37\n",
       "31      31\n",
       "30      26\n",
       "Name: count, dtype: int64"
      ]
     },
     "execution_count": 63,
     "metadata": {},
     "output_type": "execute_result"
    }
   ],
   "source": [
    "# Выводим количество строк для каждого уникального значения столбца 'total_orders'\n",
    "user_profile['total_orders'].value_counts()"
   ]
  },
  {
   "cell_type": "markdown",
   "id": "e0621f77",
   "metadata": {},
   "source": [
    "В данных действительно преобладает одно значение - 1 заказ (8357 строк из 20137, ~ 41.5%). Именно из-за этого корреляционный анализ может показывать отсутствие связей. Чтобы этого избежать, выделим сегменты пользователей и повторим корреляционный анализ:\n",
    "- 1 заказ;\n",
    "- от 2 до 4 заказов;\n",
    "- от 5 и выше."
   ]
  },
  {
   "cell_type": "code",
   "execution_count": 64,
   "id": "509b07d5",
   "metadata": {},
   "outputs": [
    {
     "name": "stdout",
     "output_type": "stream",
     "text": [
      "Корреляционная матрица с коэффициентом phi_k для столбца 'orders_segment':\n"
     ]
    },
    {
     "data": {
      "text/html": [
       "<div>\n",
       "<style scoped>\n",
       "    .dataframe tbody tr th:only-of-type {\n",
       "        vertical-align: middle;\n",
       "    }\n",
       "\n",
       "    .dataframe tbody tr th {\n",
       "        vertical-align: top;\n",
       "    }\n",
       "\n",
       "    .dataframe thead th {\n",
       "        text-align: right;\n",
       "    }\n",
       "</style>\n",
       "<table border=\"1\" class=\"dataframe\">\n",
       "  <thead>\n",
       "    <tr style=\"text-align: right;\">\n",
       "      <th></th>\n",
       "      <th>orders_segment</th>\n",
       "    </tr>\n",
       "  </thead>\n",
       "  <tbody>\n",
       "    <tr>\n",
       "      <th>avg_days_since_prev</th>\n",
       "      <td>0.699173</td>\n",
       "    </tr>\n",
       "    <tr>\n",
       "      <th>avg_tickets_count</th>\n",
       "      <td>0.362235</td>\n",
       "    </tr>\n",
       "    <tr>\n",
       "      <th>avg_revenue</th>\n",
       "      <td>0.299828</td>\n",
       "    </tr>\n",
       "    <tr>\n",
       "      <th>f_o_region</th>\n",
       "      <td>0.107057</td>\n",
       "    </tr>\n",
       "    <tr>\n",
       "      <th>f_o_service</th>\n",
       "      <td>0.078905</td>\n",
       "    </tr>\n",
       "    <tr>\n",
       "      <th>f_o_event_type</th>\n",
       "      <td>0.040088</td>\n",
       "    </tr>\n",
       "    <tr>\n",
       "      <th>f_o_device</th>\n",
       "      <td>0.015643</td>\n",
       "    </tr>\n",
       "  </tbody>\n",
       "</table>\n",
       "</div>"
      ],
      "text/plain": [
       "                     orders_segment\n",
       "avg_days_since_prev        0.699173\n",
       "avg_tickets_count          0.362235\n",
       "avg_revenue                0.299828\n",
       "f_o_region                 0.107057\n",
       "f_o_service                0.078905\n",
       "f_o_event_type             0.040088\n",
       "f_o_device                 0.015643"
      ]
     },
     "execution_count": 64,
     "metadata": {},
     "output_type": "execute_result"
    }
   ],
   "source": [
    "# Создаём функцию для определения сегмента по количеству заказов\n",
    "def num_of_orders(x):\n",
    "    if x == 1:\n",
    "        return '1 заказ'\n",
    "    elif 2 <= x <= 4:\n",
    "        return '2 - 4 заказов'\n",
    "    else:\n",
    "        return '5+ заказов'\n",
    "\n",
    "# Добавляем столбец с сегментацией к копии датафрейма user_profile\n",
    "user_profile_copy['orders_segment'] = user_profile_copy['total_orders'].apply(num_of_orders)\n",
    "\n",
    "# Повторно вычисляем корреляционную матрицу с использованием phi_k\n",
    "correlation_matrix2 = user_profile_copy[['orders_segment', 'f_o_device', 'f_o_region', 'f_o_service', 'f_o_event_type', 'avg_revenue', 'avg_tickets_count', 'avg_days_since_prev']].phik_matrix(\n",
    "    interval_cols = ['avg_revenue', 'avg_tickets_count', 'avg_days_since_prev'])\n",
    "\n",
    "# Выводим результат\n",
    "print(\"Корреляционная матрица с коэффициентом phi_k для столбца 'orders_segment':\")\n",
    "correlation_matrix2[correlation_matrix2.index != 'orders_segment'][['orders_segment']].sort_values(by = 'orders_segment', ascending = False)"
   ]
  },
  {
   "cell_type": "markdown",
   "id": "13dab5f1",
   "metadata": {},
   "source": [
    "Для пользователей с одним заказом (total_orders = 1, orders_segment = '1 заказ') в столбце `avg_days_since_prev` стоит значение-заглушка '-1', а не интервал между заказами. Когда мы передаём `avg_days_since_prev` в phik_matrix() как интервальный (interval_cols), библиотека считает, что '-1' - это реальное число, и воспринимает его как очень короткий интервал. В результате получается искусственно высокая корреляция (~ 0.7) между `avg_days_since_prev` и количеством заказов, ведь все строки с '-1' - как раз те, кто сделал 1 заказ. Поэтому результат не отражает настоящую зависимость между `avg_days_since_prev` и количеством заказов.\n",
    "\n",
    "Заменим -1 на NaN и вновь пересчитаем корреляционную матрицу:"
   ]
  },
  {
   "cell_type": "code",
   "execution_count": 65,
   "id": "243ec0db",
   "metadata": {},
   "outputs": [
    {
     "name": "stdout",
     "output_type": "stream",
     "text": [
      "Корреляционная матрица с коэффициентом phi_k для столбца 'orders_segment':\n"
     ]
    },
    {
     "data": {
      "text/html": [
       "<div>\n",
       "<style scoped>\n",
       "    .dataframe tbody tr th:only-of-type {\n",
       "        vertical-align: middle;\n",
       "    }\n",
       "\n",
       "    .dataframe tbody tr th {\n",
       "        vertical-align: top;\n",
       "    }\n",
       "\n",
       "    .dataframe thead th {\n",
       "        text-align: right;\n",
       "    }\n",
       "</style>\n",
       "<table border=\"1\" class=\"dataframe\">\n",
       "  <thead>\n",
       "    <tr style=\"text-align: right;\">\n",
       "      <th></th>\n",
       "      <th>orders_segment</th>\n",
       "    </tr>\n",
       "  </thead>\n",
       "  <tbody>\n",
       "    <tr>\n",
       "      <th>avg_days_since_prev</th>\n",
       "      <td>0.474868</td>\n",
       "    </tr>\n",
       "    <tr>\n",
       "      <th>avg_tickets_count</th>\n",
       "      <td>0.362267</td>\n",
       "    </tr>\n",
       "    <tr>\n",
       "      <th>avg_revenue</th>\n",
       "      <td>0.299831</td>\n",
       "    </tr>\n",
       "    <tr>\n",
       "      <th>f_o_region</th>\n",
       "      <td>0.107057</td>\n",
       "    </tr>\n",
       "    <tr>\n",
       "      <th>f_o_service</th>\n",
       "      <td>0.078893</td>\n",
       "    </tr>\n",
       "    <tr>\n",
       "      <th>f_o_event_type</th>\n",
       "      <td>0.040082</td>\n",
       "    </tr>\n",
       "    <tr>\n",
       "      <th>f_o_device</th>\n",
       "      <td>0.015641</td>\n",
       "    </tr>\n",
       "  </tbody>\n",
       "</table>\n",
       "</div>"
      ],
      "text/plain": [
       "                     orders_segment\n",
       "avg_days_since_prev        0.474868\n",
       "avg_tickets_count          0.362267\n",
       "avg_revenue                0.299831\n",
       "f_o_region                 0.107057\n",
       "f_o_service                0.078893\n",
       "f_o_event_type             0.040082\n",
       "f_o_device                 0.015641"
      ]
     },
     "execution_count": 65,
     "metadata": {},
     "output_type": "execute_result"
    }
   ],
   "source": [
    "# Заменим значения '-1' в столбце 'avg_days_since_prev' на пропуски\n",
    "user_profile_copy.loc[user_profile_copy['avg_days_since_prev'] == -1, 'avg_days_since_prev'] = None\n",
    "\n",
    "# Повторно вычисляем корреляционную матрицу с использованием phi_k\n",
    "correlation_matrix3 = user_profile_copy[['orders_segment', 'f_o_device', 'f_o_region', 'f_o_service', 'f_o_event_type', 'avg_revenue', 'avg_tickets_count', 'avg_days_since_prev']].phik_matrix(\n",
    "    interval_cols = ['avg_revenue', 'avg_tickets_count', 'avg_days_since_prev'])\n",
    "\n",
    "# Выводим результат\n",
    "print(\"Корреляционная матрица с коэффициентом phi_k для столбца 'orders_segment':\")\n",
    "correlation_matrix3[correlation_matrix3.index != 'orders_segment'][['orders_segment']].sort_values(by = 'orders_segment', ascending = False)"
   ]
  },
  {
   "cell_type": "markdown",
   "id": "f48ec3ec",
   "metadata": {},
   "source": [
    "Визуализируем результаты с помощью тепловой карты:"
   ]
  },
  {
   "cell_type": "code",
   "execution_count": 66,
   "id": "b7994c06",
   "metadata": {},
   "outputs": [
    {
     "data": {
      "image/png": "[encoded data removed]",
      "text/plain": [
       "<Figure size 400x600 with 1 Axes>"
      ]
     },
     "metadata": {},
     "output_type": "display_data"
    }
   ],
   "source": [
    "# Создаём контейнер графика matplotlib и задаём его размер\n",
    "plt.figure(figsize = (4, 6))\n",
    "\n",
    "# Строим тепловую карту через sns.heatmap()\n",
    "sns.heatmap(correlation_matrix3[correlation_matrix3.index != 'orders_segment'][['orders_segment']].sort_values(by = 'orders_segment', ascending = False),\n",
    "    annot = True, # Отображаем численные значения в ячейках карты\n",
    "    fmt = '.2f', # Форматируем значения корреляции: два знака после точки\n",
    "    cmap = 'YlGnBu', # Устанавливаем цветовую гамму жёлто-зелено-голубой\n",
    "    linewidths = 0.5, # Добавляем линию между ячейками карты\n",
    "    cbar = False # Отключаем цветовую шкалу\n",
    ")\n",
    "\n",
    "# Подписываем график и его оси\n",
    "plt.title(\"Тепловая карта коэффициента phi_k для данных 'orders_segment'\")\n",
    "plt.yticks(rotation = 0)  # Повернем подписи горизонтально\n",
    "\n",
    "# Выводим график\n",
    "plt.show()"
   ]
  },
  {
   "cell_type": "markdown",
   "id": "32746c88",
   "metadata": {},
   "source": [
    "- Наибольшая корреляция с количеством заказов наблюдается со средним количеством дней между заказами - phi_k ~ 0.47. Всё логично, чем меньше средний интервал между покупками, тем больше заказов у клиента. Повторюсь, короткий интервал между покупками - признак высокого удержания и вероятности дальнейших заказов. Долгий интервал - сигнал снижения вовлечённости и повышенного риска ухода клиентов из сервиса.\n",
    "- На втором месте связь с количеством билетов в заказе - phi_k ~ 0.36. Это может означать, что клиенты, покупающие определенное число билетов за заказ, чаще возвращаются за новым заказом и наоборот. Как мы выяснили ранее (**Пункт 4.2.3**), самыми лояльными к возврату на сервис являются пользователи, приобретающие в среднем от 2 до 3 (не включительно) билетов. Такие значения получаются, если чаще в заказах фигурируют именно парные билеты. Пользователи приобретающие сразу 2 билета за заказ - индикатор лояльной группы.\n",
    "- На третьем месте связь со средней выручкой сервиса phi_k ~ 0.3. Тут тоже без сюрпризов. Это может значить, что более высокая средняя выручка связана (коррелирует) с числом заказов - вероятно, такие пользователи покупают чаще и дороже.\n",
    "- Регион и билетный оператор первого заказа показывают очень лёгкое влияние на количество заказов. Теоретическое влияние может быть из-за маркетинга, пользовательского доверия к оператору или региональных акций.\n",
    "- Тип первого мероприятия и устройства не оказывают существенного влияния на количество заказов.\n",
    "- Важно отметить, что phi_k сообщает только о наличии связи между данными, но на сам характер связи коэффициент не указывает.\n",
    "- Выводы: наибольшая связь с количеством заказов наблюдается у временных и поведенческих признаков (средний интервал между заказами и активность пользователя - количество приобретаемых за раз билетов и их ценовой сегмент). Признаки первого заказа (первый регион, билетный оператор, тип мероприятия и устройства) почти не влияют на количество заказов. Это говорит о том, что поведенческие признаки лучше всего предсказывают удержание, то есть повторные покупки, тогда как демографические и технические характеристики играют второстепенную роль. Можно сказать: чем меньше интервал между покупками, тем выше вероятность, что пользователь сделает больше заказов; чем выше средний чек и количество билетов, тем более лоялен клиент."
   ]
  },
  {
   "cell_type": "markdown",
   "id": "c2e457d3",
   "metadata": {},
   "source": [
    "---\n",
    "\n",
    "## 5. Общие выводы и рекомендации"
   ]
  },
  {
   "cell_type": "markdown",
   "id": "b130ffed",
   "metadata": {},
   "source": [
    "***Информация о данных:***\n",
    "- *Работа была проведена с данными о заказах пользователей Яндекс Афиши за 5 месяцев 2024 года (июнь - октябрь). Исходный датафрейм содержал 290611 строк.*\n",
    "- *Проведена предобработка данных:*\n",
    "    - *Данные о выручке в тенге приведены к российскому рублю по динамическому ежедневному курсу.*\n",
    "    - *Обработаны пропуски, скорректированы типы данных, устранены строки с ошибками, датафрейм отфильтрован от выбросов, связанных с выручкой сервиса (доля отфильтрованных строк ~ 1.1%).*\n",
    "- *Создан датафрейм с профилем пользователя:*\n",
    "    - *Агрегированы характеристики по 21838 уникальным пользователям (дата первого/последнего заказа, признаки первого заказа, средние выручка/количество билетов/интервал между заказами и бинарные признаки).*\n",
    "    - *Профиль проверен на качество данных, были проведены фильтрации от выбросов с целью получения распределений значений для типичных пользователей.* *Общая доля удалённых данных составила ~ 7.79%. Благодаря выше перечисленным действиям создано репрезентативное ядро аудитории.*\n",
    "    - *Итоговая выборка: 20137 пользователей.*"
   ]
  },
  {
   "cell_type": "markdown",
   "id": "7c5667b7",
   "metadata": {},
   "source": [
    "***Основные результаты анализа:***\n",
    "- *Общее число пользователей: 20137.*\n",
    "- *Распределение по заказам:*\n",
    "    - *41.5% пользователей совершили только 1 заказ (разовые клиенты).*\n",
    "    - *58.5% пользователей совершили 2 и более заказа (вернулись).*\n",
    "    - *26.03% пользователей совершили 5 и более заказов (лояльные/активные).*\n",
    "- *Показатели профиля:*\n",
    "    - *Средняя выручка с одного заказа: 518.72 руб.*\n",
    "    - *Среднее количество билетов за заказ: ~ 2.75.*\n",
    "    - *Средний интервал между покупками пользователей с повторными заказами: ~ 13 дней.*\n",
    "- *Связь признаков первого заказа с возвратом пользователей:*\n",
    "    - *Тип мероприятия: наиболее высокая лояльность наблюдается у клиентов, чей первый заказ был на выставки (~ 61.46% возврата) и в театр (~ 60.64%). Клиенты, начинающие пользоваться сервисом со спорта, возвращаются реже всего (~ 53.82%).*\n",
    "    - *Устройство: клиенты, сделавшие первый заказ с ПК (~ 60.75% возврата), более лояльны, чем с телефона(~ 58.04%).*\n",
    "    - *Регионы: активные регионы (более 1000 пользователей) имеют немного более высокую долю возвратов (~ 60.06%) по сравнению с менее активными (~ 57.4%).*\n",
    "- *Связь поведенческих характеристик с возвратом пользователей:*\n",
    "    - *Средняя выручка: повторные покупатели (2+ заказа) имеют более высокую и стабильную среднюю выручку с заказа, чем разовые клиенты. Лояльность и средний чек растут вместе.*\n",
    "    - *Среднее количество билетов: самая лояльная группа - пользователи, покупающие в среднем 2 - 3 билета (~ 70.6% возврата). Это самая частая модель поведения (парные покупки). Лояльность падает для одиночных (~ 50%) и крупных групповых покупок от 5 билетов (~ 18%).*\n",
    "- *Связь временных характеристик с возвратом пользователей:*\n",
    "    - *День недели первой покупки: слабое влияние. Чуть выше лояльность у клиентов, пришедших в начале недели (понедельник ~ 60.3%).*\n",
    "    - *Интервал между покупками: сильный индикатор лояльности. Чем короче средний интервал, тем выше количество заказов. Активные клиенты (5+ заказов) возвращаются в среднем через ~ 11 дней, а менее частые (2 - 4 заказа) - через ~ 15 дней.*\n",
    "- *Корреляционный анализ:*\n",
    "    - *Наибольшая связь с количеством заказов наблюдается у поведенческих характеристик:*\n",
    "        - *Средний интервал между заказами (phi_k ~ 0.47) - самый сильный предиктор (прогностический параметр).*\n",
    "        - *Среднее количество билетов (phi_k ~ 0.36).*\n",
    "        - *Средняя выручка (phi_k ~ 0.3).*\n",
    "    - *Признаки первого заказа (особенно тип мероприятия и устройство) почти не влияют на общее количество покупок, что можно трактовать как - удержание зависит от \"паттернов\" использования, а не от стартовых условий.*"
   ]
  },
  {
   "cell_type": "markdown",
   "id": "ac0f71de",
   "metadata": {},
   "source": [
    "***Рекомендации заказчику:***\n",
    "\n",
    "- *Для повышения лояльности и количества повторных заказов необходимо сосредоточиться на стимулировании частоты покупок и парного \"потребления\":*\n",
    "\n",
    "||*Рекомендация*|*Целевой сегмент пользователей*|*Цель*|\n",
    "|-|-|-|-|\n",
    "|*Удержание (частота)*|*Триггерные коммуникации на сокращение интервала между заказами: автоматизированные напоминания, рассылки, SMS сообщения и т.д.*|*Клиенты, совершившие 1 заказ (~ 41.5%) и те, у кого интервал между покупками > 15 дней*|*Сократить интервал между покупками до 11 дней (уровень лояльных клиентов с 5+ заказами)*|\n",
    "|*Формирование привычки (количество билетов)*|*Специальные предложения на покупку второго билета (например, \"Второй билет со скидкой 13 - 15%\") или промо-акции для пар*|*Клиенты, покупающие 1 билет (~ 50% возврата) за заказ*|*Перевести клиентов в наиболее лояльный сегмент 2 - 3 билета (~ 70.6% возврата)*|\n",
    "|*Контент (Точки входа)*|*Усилить рекламу мероприятий с высоким возвратом: театр, выставки, концерты*|*Все новые пользователи*|*Продвигать регулярный и \"привычный\" контент, чтобы стимулировать постоянство покупок и, как следствие, увеличить жизненный цикл пользователя (lifetime)*|\n",
    "|*Сегментация*|*Использовать региональную активность для приоритизации маркетинговых бюджетов: сосредоточить усилия на активных регионах (где лояльность уже выше)*|*Все новые пользователи в активных регионах*|*Увеличить отдачу (прибыль) от маркетинговых инвестиций*|\n",
    "\n",
    "- *Чему уделить особое внимание: необходимо разработать специальные механики взаимодействия с разовыми клиентами (1 заказ), составляющими более 40% от всего числа пользователей. Для них ключевым будет первое напоминание о повторной покупке, чтобы они преодолели порог возврата ~ 58.5%.*"
   ]
  },
  {
   "cell_type": "code",
   "execution_count": null,
   "id": "9ddc9442",
   "metadata": {},
   "outputs": [],
   "source": []
  }
 ],
 "metadata": {
  "ExecuteTimeLog": [
   {
    "duration": 2356,
    "start_time": "2025-09-24T08:10:40.656Z"
   },
   {
    "duration": 169,
    "start_time": "2025-09-24T08:10:43.013Z"
   },
   {
    "duration": 19,
    "start_time": "2025-09-24T08:10:43.183Z"
   },
   {
    "duration": 12,
    "start_time": "2025-09-24T08:10:43.203Z"
   },
   {
    "duration": 11,
    "start_time": "2025-09-24T08:10:43.217Z"
   },
   {
    "duration": 10,
    "start_time": "2025-09-24T08:10:43.230Z"
   },
   {
    "duration": 44,
    "start_time": "2025-09-24T08:10:43.242Z"
   },
   {
    "duration": 18,
    "start_time": "2025-09-24T08:10:43.288Z"
   },
   {
    "duration": 14,
    "start_time": "2025-09-24T08:10:43.308Z"
   },
   {
    "duration": 10,
    "start_time": "2025-09-24T08:10:43.323Z"
   },
   {
    "duration": 12,
    "start_time": "2025-09-24T08:10:43.334Z"
   },
   {
    "duration": 10,
    "start_time": "2025-09-24T08:10:43.375Z"
   },
   {
    "duration": 6,
    "start_time": "2025-09-24T08:10:43.386Z"
   },
   {
    "duration": 9,
    "start_time": "2025-09-24T08:10:43.395Z"
   },
   {
    "duration": 7,
    "start_time": "2025-09-24T08:10:43.406Z"
   },
   {
    "duration": 9,
    "start_time": "2025-09-24T08:10:43.414Z"
   },
   {
    "duration": 16,
    "start_time": "2025-09-24T08:10:43.425Z"
   },
   {
    "duration": 40,
    "start_time": "2025-09-24T08:10:43.442Z"
   },
   {
    "duration": 5,
    "start_time": "2025-09-24T08:10:43.484Z"
   },
   {
    "duration": 5,
    "start_time": "2025-09-24T08:10:43.491Z"
   },
   {
    "duration": 82,
    "start_time": "2025-09-24T08:10:43.498Z"
   },
   {
    "duration": 7,
    "start_time": "2025-09-24T08:10:43.581Z"
   },
   {
    "duration": 82,
    "start_time": "2025-09-24T08:10:43.590Z"
   },
   {
    "duration": 21,
    "start_time": "2025-09-24T08:10:43.674Z"
   },
   {
    "duration": 16,
    "start_time": "2025-09-24T08:10:43.697Z"
   },
   {
    "duration": 6,
    "start_time": "2025-09-24T08:10:43.714Z"
   },
   {
    "duration": 174,
    "start_time": "2025-09-24T08:10:43.721Z"
   },
   {
    "duration": 6,
    "start_time": "2025-09-24T08:10:43.896Z"
   },
   {
    "duration": 8,
    "start_time": "2025-09-24T08:10:43.904Z"
   },
   {
    "duration": 369,
    "start_time": "2025-09-24T08:10:43.913Z"
   },
   {
    "duration": 5,
    "start_time": "2025-09-24T08:10:44.284Z"
   },
   {
    "duration": 12,
    "start_time": "2025-09-24T08:10:44.291Z"
   },
   {
    "duration": 306,
    "start_time": "2025-09-24T08:10:44.305Z"
   },
   {
    "duration": 10,
    "start_time": "2025-09-24T08:10:44.613Z"
   },
   {
    "duration": 469,
    "start_time": "2025-09-24T08:10:44.625Z"
   },
   {
    "duration": 14,
    "start_time": "2025-09-24T08:10:45.096Z"
   },
   {
    "duration": 69,
    "start_time": "2025-09-24T08:10:45.111Z"
   },
   {
    "duration": 35,
    "start_time": "2025-09-24T08:10:45.181Z"
   },
   {
    "duration": 385,
    "start_time": "2025-09-24T08:10:45.217Z"
   },
   {
    "duration": 13,
    "start_time": "2025-09-24T08:10:45.604Z"
   },
   {
    "duration": 398,
    "start_time": "2025-09-24T08:10:45.621Z"
   },
   {
    "duration": 7,
    "start_time": "2025-09-24T08:10:46.020Z"
   },
   {
    "duration": 405,
    "start_time": "2025-09-24T08:10:46.028Z"
   },
   {
    "duration": 212,
    "start_time": "2025-09-24T08:10:46.435Z"
   },
   {
    "duration": 269,
    "start_time": "2025-09-24T08:10:46.649Z"
   },
   {
    "duration": 32,
    "start_time": "2025-09-24T08:10:46.919Z"
   },
   {
    "duration": 341,
    "start_time": "2025-09-24T08:10:46.953Z"
   },
   {
    "duration": 113,
    "start_time": "2025-09-24T08:10:47.296Z"
   },
   {
    "duration": 338,
    "start_time": "2025-09-24T08:10:47.410Z"
   },
   {
    "duration": 41,
    "start_time": "2025-09-24T08:10:47.750Z"
   },
   {
    "duration": 342,
    "start_time": "2025-09-24T08:10:47.793Z"
   }
  ],
  "colab": {
   "provenance": []
  },
  "kernelspec": {
   "display_name": "project_venv (3.13.5)",
   "language": "python",
   "name": "python3"
  },
  "language_info": {
   "codemirror_mode": {
    "name": "ipython",
    "version": 3
   },
   "file_extension": ".py",
   "mimetype": "text/x-python",
   "name": "python",
   "nbconvert_exporter": "python",
   "pygments_lexer": "ipython3",
   "version": "3.13.5"
  },
  "toc": {
   "base_numbering": 1,
   "nav_menu": {},
   "number_sections": true,
   "sideBar": true,
   "skip_h1_title": true,
   "title_cell": "Table of Contents",
   "title_sidebar": "Contents",
   "toc_cell": false,
   "toc_position": {},
   "toc_section_display": true,
   "toc_window_display": true
  }
 },
 "nbformat": 4,
 "nbformat_minor": 5
}
